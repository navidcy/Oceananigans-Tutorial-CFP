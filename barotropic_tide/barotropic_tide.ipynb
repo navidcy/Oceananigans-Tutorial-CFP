{
 "cells": [
  {
   "cell_type": "code",
   "execution_count": 1,
   "id": "2e47a899-eea7-4000-b044-9b1e505b10a0",
   "metadata": {
    "tags": []
   },
   "outputs": [
    {
     "name": "stderr",
     "output_type": "stream",
     "text": [
      "\u001b[32m\u001b[1m  Activating\u001b[22m\u001b[39m project at `/g/data/v45/nc3020/Oceananigans-Tutorial-CFP`\n"
     ]
    }
   ],
   "source": [
    "cd(\"/g/data/v45/nc3020/Oceananigans-Tutorial-CFP/\")\n",
    "\n",
    "ENV[\"JULIA_DEPOT_PATH\"] = \"/g/data/v45/nc3020/.julia:/share/julia/site/\"\n",
    "ENV[\"JULIA_LOAD_PATH\"] = \"@:@v#.#:@stdlib:@site\"\n",
    "ENV[\"JULIA_CUDA_USE_BINARYBUILDER\"] = \"false\"\n",
    "\n",
    "using Pkg; Pkg.activate(@__DIR__);"
   ]
  },
  {
   "cell_type": "code",
   "execution_count": 2,
   "id": "3df66bde",
   "metadata": {
    "tags": []
   },
   "outputs": [
    {
     "name": "stderr",
     "output_type": "stream",
     "text": [
      "\u001b[91m\u001b[1m┌ \u001b[22m\u001b[39m\u001b[91m\u001b[1mError: \u001b[22m\u001b[39mJULIA_CUDA_USE_BINARYBUILDER is deprecated, and CUDA.jl always uses artifacts now.\n",
      "\u001b[91m\u001b[1m│ \u001b[22m\u001b[39mTo use a local installation, use overrides or preferences to customize the artifact.\n",
      "\u001b[91m\u001b[1m│ \u001b[22m\u001b[39mPlease check the CUDA.jl or Pkg.jl documentation for more details.\n",
      "\u001b[91m\u001b[1m└ \u001b[22m\u001b[39m\u001b[90m@ CUDA /g/data/v45/nc3020/.julia/packages/CUDA/s0e3j/src/initialization.jl:146\u001b[39m\n",
      "\u001b[36m\u001b[1m[ \u001b[22m\u001b[39m\u001b[36m\u001b[1mInfo: \u001b[22m\u001b[39mOceananigans will use 12 threads\n"
     ]
    }
   ],
   "source": [
    "using Oceananigans\n",
    "using Oceananigans.Units\n",
    "\n",
    "using CUDA"
   ]
  },
  {
   "cell_type": "code",
   "execution_count": 320,
   "id": "3cbe025b",
   "metadata": {
    "tags": []
   },
   "outputs": [
    {
     "data": {
      "text/plain": [
       "600×1×160 RectilinearGrid{Float64, Periodic, Flat, Bounded} on GPU with 4×0×4 halo\n",
       "├── Periodic x ∈ [-800000.0, 800000.0) regularly spaced with Δx=2666.67\n",
       "├── Flat y\n",
       "└── Bounded  z ∈ [-2000.0, 0.0]        regularly spaced with Δz=12.5"
      ]
     },
     "execution_count": 320,
     "metadata": {},
     "output_type": "execute_result"
    }
   ],
   "source": [
    "Nx, Nz = 600, 160\n",
    "\n",
    "architecture = GPU()\n",
    "\n",
    "H  = 2kilometers\n",
    "Lx = 1600kilometers\n",
    "\n",
    "underlying_grid = RectilinearGrid(architecture,\n",
    "                                  size = (Nx, Nz),\n",
    "                                  x = (-Lx/2, Lx/2),\n",
    "                                  z = (-H, 0),\n",
    "                                  halo = (4, 4), # start with this commented out\n",
    "                                  topology = (Periodic, Flat, Bounded))"
   ]
  },
  {
   "cell_type": "markdown",
   "id": "e30f5f65-ab47-4fad-b3e6-3e04e29f0c79",
   "metadata": {},
   "source": [
    "Now we want to create a bathymetry as an immersed boundary grid.\n",
    "\n",
    "$$\n",
    "h(x) = -H + h_0 \\, \\exp(-x^2 / 2\\sigma^2)\n",
    "$$"
   ]
  },
  {
   "cell_type": "code",
   "execution_count": 327,
   "id": "8a3dddb5",
   "metadata": {},
   "outputs": [
    {
     "data": {
      "text/plain": [
       "600×1×160 ImmersedBoundaryGrid{Float64, Periodic, Flat, Bounded} on GPU with 4×0×4 halo:\n",
       "├── immersed_boundary: GridFittedBottom(min(h)=-2.00e+03, max(h)=-1.95e+03)\n",
       "├── underlying_grid: 600×1×160 RectilinearGrid{Float64, Periodic, Flat, Bounded} on GPU with 4×0×4 halo\n",
       "├── Periodic x ∈ [-800000.0, 800000.0) regularly spaced with Δx=2666.67\n",
       "├── Flat y\n",
       "└── Bounded  z ∈ [-2000.0, 0.0]        regularly spaced with Δz=12.5"
      ]
     },
     "execution_count": 327,
     "metadata": {},
     "output_type": "execute_result"
    }
   ],
   "source": [
    "h₀ = 50 # m\n",
    "width = 5kilometers\n",
    "bump(x, y) = - H + h₀ * exp(-x^2 / 2width^2)\n",
    "\n",
    "grid = ImmersedBoundaryGrid(underlying_grid, GridFittedBottom(bump))"
   ]
  },
  {
   "cell_type": "code",
   "execution_count": 328,
   "id": "a5f06464-c98b-4f7a-ab53-60f1a1effab2",
   "metadata": {},
   "outputs": [],
   "source": [
    "xC = xnodes(grid, Center())\n",
    "\n",
    "bottom = CUDA.@allowscalar collect(grid.immersed_boundary.bottom_height[1:Nx, 1]);"
   ]
  },
  {
   "cell_type": "code",
   "execution_count": 329,
   "id": "3a29a791-e6a8-4f56-b370-ede0bbd0eb61",
   "metadata": {},
   "outputs": [
    {
     "data": {
      "image/png": "[encoded data removed]"
     },
     "execution_count": 329,
     "metadata": {},
     "output_type": "execute_result"
    }
   ],
   "source": [
    "using CairoMakie\n",
    "\n",
    "fig = Figure()\n",
    "ax = Axis(fig[1, 1],\n",
    "          xlabel=\"x [km]\",\n",
    "          ylabel=\"z [m]\",\n",
    "          limits=((-Lx/2e3, Lx/2e3), (-H, -H/10)))\n",
    "\n",
    "lines!(ax, xC/1e3, bottom)\n",
    "\n",
    "fig"
   ]
  },
  {
   "cell_type": "markdown",
   "id": "c65ce4c1",
   "metadata": {},
   "source": [
    "The $M_2$ tidal forcing. We add forcing in the $u$-momentum equation of the form:\n",
    "\n",
    "$$\n",
    "\\partial_t u = \\dots + f_0 \\cos(\\omega_2 t)\n",
    "$$"
   ]
  },
  {
   "cell_type": "code",
   "execution_count": 330,
   "id": "dc094572",
   "metadata": {},
   "outputs": [
    {
     "data": {
      "text/plain": [
       "0.00014051439111137024"
      ]
     },
     "execution_count": 330,
     "metadata": {},
     "output_type": "execute_result"
    }
   ],
   "source": [
    "T₂ = 12.421hours\n",
    "const ω₂ = 2π / T₂ # radians/sec"
   ]
  },
  {
   "cell_type": "markdown",
   "id": "9d2cc70a-7815-4c87-b5be-8abd8cad28bd",
   "metadata": {},
   "source": [
    "The excursion parameter is a nondimensional number denoting how much movement the tidal flow imposes compared with the width of the hill.\n",
    "\n",
    "$$\n",
    "\\varepsilon = \\frac{U}{ω \\, σ}\n",
    "$$"
   ]
  },
  {
   "cell_type": "code",
   "execution_count": 331,
   "id": "22b5a770",
   "metadata": {},
   "outputs": [
    {
     "data": {
      "text/plain": [
       "tidal_forcing (generic function with 1 method)"
      ]
     },
     "execution_count": 331,
     "metadata": {},
     "output_type": "execute_result"
    }
   ],
   "source": [
    "ε = 0.2\n",
    "U_tidal = ε * ω₂ * width\n",
    "\n",
    "coriolis = FPlane(latitude = -45)\n",
    "\n",
    "const tidal_forcing_amplitude = U_tidal * (coriolis.f^2 - ω₂^2) / ω₂\n",
    "\n",
    "@inline tidal_forcing(x, y, z, t) = tidal_forcing_amplitude * cos(ω₂ * t)"
   ]
  },
  {
   "cell_type": "code",
   "execution_count": 348,
   "id": "85c1b623",
   "metadata": {},
   "outputs": [
    {
     "name": "stdout",
     "output_type": "stream",
     "text": [
      "prettytime(Δt) = \"1.186 minutes\"\n"
     ]
    },
    {
     "data": {
      "text/plain": [
       "\"1.186 minutes\""
      ]
     },
     "execution_count": 348,
     "metadata": {},
     "output_type": "execute_result"
    }
   ],
   "source": [
    "gravitational_acceleration = 9.81\n",
    "gravity_wave_speed = sqrt(gravitational_acceleration * grid.Lz)\n",
    "gravity_wave_timescale = 0.2 * minimum_xspacing(grid) / gravity_wave_speed\n",
    "\n",
    "tidal_timescale = 1 / ω₂\n",
    "\n",
    "Δt = 0.01 * tidal_timescale\n",
    "\n",
    "@show prettytime(Δt)"
   ]
  },
  {
   "cell_type": "code",
   "execution_count": 349,
   "id": "f690f703-8a8c-4cfa-8c24-f023902c4253",
   "metadata": {},
   "outputs": [],
   "source": [
    "using Oceananigans.Models.HydrostaticFreeSurfaceModels: FFTImplicitFreeSurfaceSolver\n",
    "\n",
    "fft_preconditioner = FFTImplicitFreeSurfaceSolver(grid)\n",
    "free_surface = ImplicitFreeSurface(solver_method=:PreconditionedConjugateGradient, preconditioner=fft_preconditioner);"
   ]
  },
  {
   "cell_type": "code",
   "execution_count": 350,
   "id": "420f0080-d881-4d4d-926c-74fb19c72153",
   "metadata": {
    "tags": []
   },
   "outputs": [
    {
     "data": {
      "text/plain": [
       "HorizontalScalarDiffusivity{ExplicitTimeDiscretization}(ν=100.0, κ=100.0)"
      ]
     },
     "execution_count": 350,
     "metadata": {},
     "output_type": "execute_result"
    }
   ],
   "source": [
    "closure = HorizontalScalarDiffusivity(ν=1e2, κ=1e2)"
   ]
  },
  {
   "cell_type": "code",
   "execution_count": 351,
   "id": "067acd53",
   "metadata": {},
   "outputs": [
    {
     "data": {
      "text/plain": [
       "HydrostaticFreeSurfaceModel{GPU, ImmersedBoundaryGrid}(time = 0 seconds, iteration = 0)\n",
       "├── grid: 600×1×160 ImmersedBoundaryGrid{Float64, Periodic, Flat, Bounded} on GPU with 4×0×4 halo\n",
       "├── timestepper: QuasiAdamsBashforth2TimeStepper\n",
       "├── tracers: b\n",
       "├── closure: Nothing\n",
       "├── buoyancy: BuoyancyTracer with ĝ = NegativeZDirection()\n",
       "├── free surface: ImplicitFreeSurface with gravitational acceleration 9.80665 m s⁻²\n",
       "│   └── solver: PCGImplicitFreeSurfaceSolver\n",
       "└── coriolis: FPlane{Float64}"
      ]
     },
     "execution_count": 351,
     "metadata": {},
     "output_type": "execute_result"
    }
   ],
   "source": [
    "model = HydrostaticFreeSurfaceModel(grid = grid,\n",
    "                                    free_surface = free_surface,\n",
    "                                    coriolis = coriolis,\n",
    "                                    buoyancy = BuoyancyTracer(),\n",
    "                                    tracers = :b,\n",
    "                                    momentum_advection = WENO(),\n",
    "                                    tracer_advection = WENO(),\n",
    "                                    # closure = closure,\n",
    "                                    forcing = (u = tidal_forcing,))"
   ]
  },
  {
   "cell_type": "code",
   "execution_count": 352,
   "id": "348b45fa",
   "metadata": {},
   "outputs": [
    {
     "data": {
      "text/plain": [
       "Simulation of HydrostaticFreeSurfaceModel{GPU, ImmersedBoundaryGrid}(time = 0 seconds, iteration = 0)\n",
       "├── Next time step: 1.186 minutes\n",
       "├── Elapsed wall time: 0 seconds\n",
       "├── Wall time per iteration: NaN days\n",
       "├── Stop time: 6.210 days\n",
       "├── Stop iteration : Inf\n",
       "├── Wall time limit: Inf\n",
       "├── Callbacks: OrderedDict with 4 entries:\n",
       "│   ├── stop_time_exceeded => Callback of stop_time_exceeded on IterationInterval(1)\n",
       "│   ├── stop_iteration_exceeded => Callback of stop_iteration_exceeded on IterationInterval(1)\n",
       "│   ├── wall_time_limit_exceeded => Callback of wall_time_limit_exceeded on IterationInterval(1)\n",
       "│   └── nan_checker => Callback of NaNChecker for u on IterationInterval(100)\n",
       "├── Output writers: OrderedDict with no entries\n",
       "└── Diagnostics: OrderedDict with no entries"
      ]
     },
     "execution_count": 352,
     "metadata": {},
     "output_type": "execute_result"
    }
   ],
   "source": [
    "stop_time = 12T₂\n",
    "\n",
    "simulation = Simulation(model, Δt=Δt, stop_time=stop_time)"
   ]
  },
  {
   "cell_type": "code",
   "execution_count": 353,
   "id": "5c831231",
   "metadata": {},
   "outputs": [
    {
     "data": {
      "text/plain": [
       "Callback of print_progress on IterationInterval(200)"
      ]
     },
     "execution_count": 353,
     "metadata": {},
     "output_type": "execute_result"
    }
   ],
   "source": [
    "using Printf\n",
    "\n",
    "wall_clock = Ref(time_ns())\n",
    "\n",
    "function print_progress(sim)\n",
    "\n",
    "    elapsed = 1e-9 * (time_ns() - wall_clock[])\n",
    "\n",
    "    msg = @sprintf(\"iteration: %d, time: %s, wall time: %s, max|w|: %6.3e, m s⁻¹, next Δt: %s\\n\",\n",
    "                   iteration(sim), prettytime(sim), prettytime(elapsed),\n",
    "                   maximum(abs, sim.model.velocities.w), prettytime(sim.Δt))\n",
    "\n",
    "    wall_clock[] = time_ns()\n",
    "\n",
    "    @info msg\n",
    "\n",
    "    return nothing\n",
    "end\n",
    "\n",
    "simulation.callbacks[:print_progress] = Callback(print_progress, IterationInterval(200))"
   ]
  },
  {
   "cell_type": "markdown",
   "id": "68592fa6-d1da-4d6c-a241-108af89cb72b",
   "metadata": {},
   "source": [
    "## Diagnostics\n",
    "\n",
    "There are no predefine diagnostics in Oceananigans! Instead users are expected to construct their own using normal algebraic operations and calculus!\n",
    "\n",
    "Each model has velocities and some tracers, like buoyancy $b$ or temperature and salinity ($T$ and $S$).\n",
    "\n",
    "Let's create a few!"
   ]
  },
  {
   "cell_type": "code",
   "execution_count": 354,
   "id": "2a7efa73",
   "metadata": {},
   "outputs": [
    {
     "data": {
      "text/plain": [
       "NamedTuple with 3 Fields on 600×1×160 ImmersedBoundaryGrid{Float64, Periodic, Flat, Bounded} on GPU with 4×0×4 halo:\n",
       "├── u: 600×1×160 Field{Face, Center, Center} on ImmersedBoundaryGrid on GPU\n",
       "├── v: 600×1×160 Field{Center, Face, Center} on ImmersedBoundaryGrid on GPU\n",
       "└── w: 600×1×161 Field{Center, Center, Face} on ImmersedBoundaryGrid on GPU"
      ]
     },
     "execution_count": 354,
     "metadata": {},
     "output_type": "execute_result"
    }
   ],
   "source": [
    "b = model.tracers.b\n",
    "u, v, w = model.velocities"
   ]
  },
  {
   "cell_type": "code",
   "execution_count": 355,
   "id": "731e8490-6137-48bb-8026-4038b0ce3615",
   "metadata": {
    "tags": []
   },
   "outputs": [
    {
     "data": {
      "text/plain": [
       "BinaryOperation at (Face, Center, Center)\n",
       "├── grid: 600×1×160 ImmersedBoundaryGrid{Float64, Periodic, Flat, Bounded} on GPU with 4×0×4 halo\n",
       "└── tree: \n",
       "    - at (Face, Center, Center)\n",
       "    ├── 600×1×160 Field{Face, Center, Center} on ImmersedBoundaryGrid on GPU\n",
       "    └── 1×1×1 Field{Nothing, Nothing, Nothing} reduced over dims = (1, 2, 3) on ImmersedBoundaryGrid on GPU"
      ]
     },
     "execution_count": 355,
     "metadata": {},
     "output_type": "execute_result"
    }
   ],
   "source": [
    "U = Field(Average(u))\n",
    "\n",
    "u′ = u - U"
   ]
  },
  {
   "cell_type": "markdown",
   "id": "d904fb81-ef43-41e4-9bf5-073ca03c46d4",
   "metadata": {
    "tags": []
   },
   "source": [
    "The buoyancy frequency $N^2 = \\partial_z b$:"
   ]
  },
  {
   "cell_type": "code",
   "execution_count": 356,
   "id": "e05662a5-b403-4486-adcc-8da0ce17f1cd",
   "metadata": {
    "tags": []
   },
   "outputs": [
    {
     "data": {
      "text/plain": [
       "Derivative at (Center, Center, Face)\n",
       "├── grid: 600×1×160 ImmersedBoundaryGrid{Float64, Periodic, Flat, Bounded} on GPU with 4×0×4 halo\n",
       "└── tree: \n",
       "    ∂zᶜᶜᶠ at (Center, Center, Face) via identity\n",
       "    └── 600×1×160 Field{Center, Center, Center} on ImmersedBoundaryGrid on GPU"
      ]
     },
     "execution_count": 356,
     "metadata": {},
     "output_type": "execute_result"
    }
   ],
   "source": [
    "N² = ∂z(b)"
   ]
  },
  {
   "cell_type": "markdown",
   "id": "24eb6be4-7687-4cee-bf0b-46fe0bccc702",
   "metadata": {},
   "source": [
    "The velocity vertical shear squared, $S^2 = (\\partial_z u)^2 + (\\partial_z v)^2$:"
   ]
  },
  {
   "cell_type": "code",
   "execution_count": 357,
   "id": "0d70aff1-a6ef-4324-be74-93a3f78f68b0",
   "metadata": {
    "tags": []
   },
   "outputs": [
    {
     "data": {
      "text/plain": [
       "BinaryOperation at (Center, Center, Face)\n",
       "├── grid: 600×1×160 ImmersedBoundaryGrid{Float64, Periodic, Flat, Bounded} on GPU with 4×0×4 halo\n",
       "└── tree: \n",
       "    + at (Center, Center, Face)\n",
       "    ├── ^ at (Center, Center, Face)\n",
       "    │   ├── ∂zᶠᶜᶠ at (Center, Center, Face) via ℑxᶜᵃᵃ\n",
       "    │   │   └── 600×1×160 Field{Face, Center, Center} on ImmersedBoundaryGrid on GPU\n",
       "    │   └── 2\n",
       "    └── ^ at (Center, Center, Face)\n",
       "        ├── ∂zᶜᶠᶠ at (Center, Center, Face) via ℑyᵃᶜᵃ\n",
       "        │   └── 600×1×160 Field{Center, Face, Center} on ImmersedBoundaryGrid on GPU\n",
       "        └── 2"
      ]
     },
     "execution_count": 357,
     "metadata": {},
     "output_type": "execute_result"
    }
   ],
   "source": [
    "S² = @at (Center, Center, Face) ∂z(u)^2 + ∂z(v)^2"
   ]
  },
  {
   "cell_type": "markdown",
   "id": "55bef4e1-0245-4a46-bf95-4b1b1bedaa78",
   "metadata": {
    "tags": []
   },
   "source": [
    "And the Richardson number, $Ri = N^2 / S^2$."
   ]
  },
  {
   "cell_type": "code",
   "execution_count": 358,
   "id": "9be6ef3a-0ebd-4586-aa5d-9d3378f13af2",
   "metadata": {
    "tags": []
   },
   "outputs": [
    {
     "data": {
      "text/plain": [
       "BinaryOperation at (Center, Center, Face)\n",
       "├── grid: 600×1×160 ImmersedBoundaryGrid{Float64, Periodic, Flat, Bounded} on GPU with 4×0×4 halo\n",
       "└── tree: \n",
       "    / at (Center, Center, Face)\n",
       "    ├── ∂zᶜᶜᶠ at (Center, Center, Face) via identity\n",
       "    │   └── 600×1×160 Field{Center, Center, Center} on ImmersedBoundaryGrid on GPU\n",
       "    └── + at (Center, Center, Face)\n",
       "        ├── ^ at (Center, Center, Face)\n",
       "        │   ├── ∂zᶠᶜᶠ at (Center, Center, Face) via ℑxᶜᵃᵃ\n",
       "        │   │   └── 600×1×160 Field{Face, Center, Center} on ImmersedBoundaryGrid on GPU\n",
       "        │   └── 2\n",
       "        └── ^ at (Center, Center, Face)\n",
       "            ├── ∂zᶜᶠᶠ at (Center, Center, Face) via ℑyᵃᶜᵃ\n",
       "            │   └── 600×1×160 Field{Center, Face, Center} on ImmersedBoundaryGrid on GPU\n",
       "            └── 2"
      ]
     },
     "execution_count": 358,
     "metadata": {},
     "output_type": "execute_result"
    }
   ],
   "source": [
    "Ri = N² / S²"
   ]
  },
  {
   "cell_type": "code",
   "execution_count": 359,
   "id": "7ab34e57",
   "metadata": {},
   "outputs": [
    {
     "data": {
      "text/plain": [
       "JLD2OutputWriter scheduled on TimeInterval(15 minutes):\n",
       "├── filepath: ./barotropic_tide.jld2\n",
       "├── 6 outputs: (Ri, N², u′, u, w, b)\n",
       "├── array type: Array{Float64}\n",
       "├── including: [:grid, :coriolis, :buoyancy, :closure]\n",
       "└── max filesize: Inf YiB"
      ]
     },
     "execution_count": 359,
     "metadata": {},
     "output_type": "execute_result"
    }
   ],
   "source": [
    "name = \"barotropic_tide\"\n",
    "\n",
    "simulation.output_writers[:fields] = JLD2OutputWriter(model, (; Ri, N², u′, u, w, b),\n",
    "                                                      schedule = TimeInterval(15minutes),\n",
    "                                                      with_halos = false,\n",
    "                                                      filename = name,\n",
    "                                                      overwrite_existing = true)"
   ]
  },
  {
   "cell_type": "markdown",
   "id": "d758c4d3-bed8-476b-9c0f-ca2160e39de2",
   "metadata": {},
   "source": [
    "## Initial conditions"
   ]
  },
  {
   "cell_type": "code",
   "execution_count": 360,
   "id": "b4244b8c",
   "metadata": {},
   "outputs": [],
   "source": [
    "# Initial conditions\n",
    "uᵢ(x, y, z) = U_tidal\n",
    "\n",
    "Nᵢ² = 4e-5  # [s⁻²] initial buoyancy frequency / stratification\n",
    "bᵢ(x, y, z) = Nᵢ² * z\n",
    "\n",
    "set!(model, u=uᵢ, b=bᵢ)"
   ]
  },
  {
   "cell_type": "code",
   "execution_count": 361,
   "id": "1b5835d1",
   "metadata": {},
   "outputs": [
    {
     "data": {
      "image/png": "[encoded data removed]"
     },
     "execution_count": 361,
     "metadata": {},
     "output_type": "execute_result"
    }
   ],
   "source": [
    "fig = Figure(resolution = (1000, 400))\n",
    "\n",
    "ax = Axis(fig[1, 1],\n",
    "          xlabel = \"x [km]\",\n",
    "          ylabel = \"depth [m]\")\n",
    "\n",
    "x, y, z = nodes(b)\n",
    "\n",
    "hm = heatmap!(ax, x/1e3, z, collect(interior(b, :, 1, :)))\n",
    "Colorbar(fig[1, 2], hm)\n",
    "\n",
    "fig"
   ]
  },
  {
   "cell_type": "code",
   "execution_count": 362,
   "id": "60c5d7c6",
   "metadata": {},
   "outputs": [
    {
     "name": "stderr",
     "output_type": "stream",
     "text": [
      "\u001b[36m\u001b[1m[ \u001b[22m\u001b[39m\u001b[36m\u001b[1mInfo: \u001b[22m\u001b[39mInitializing simulation...\n",
      "\u001b[36m\u001b[1m[ \u001b[22m\u001b[39m\u001b[36m\u001b[1mInfo: \u001b[22m\u001b[39miteration: 0, time: 0 seconds, wall time: 3.317 seconds, max|w|: 6.587e-04, m s⁻¹, next Δt: 1.186 minutes\n",
      "\u001b[36m\u001b[1m[ \u001b[22m\u001b[39m\u001b[36m\u001b[1mInfo: \u001b[22m\u001b[39m    ... simulation initialization complete (132.925 ms)\n",
      "\u001b[36m\u001b[1m[ \u001b[22m\u001b[39m\u001b[36m\u001b[1mInfo: \u001b[22m\u001b[39mExecuting initial time step...\n",
      "\u001b[36m\u001b[1m[ \u001b[22m\u001b[39m\u001b[36m\u001b[1mInfo: \u001b[22m\u001b[39m    ... initial time step complete (12.922 ms).\n",
      "\u001b[36m\u001b[1m[ \u001b[22m\u001b[39m\u001b[36m\u001b[1mInfo: \u001b[22m\u001b[39miteration: 200, time: 3.849 hours, wall time: 2.159 seconds, max|w|: 2.695e-04, m s⁻¹, next Δt: 1.186 minutes\n",
      "\u001b[36m\u001b[1m[ \u001b[22m\u001b[39m\u001b[36m\u001b[1mInfo: \u001b[22m\u001b[39miteration: 400, time: 7.698 hours, wall time: 2.117 seconds, max|w|: 2.698e-04, m s⁻¹, next Δt: 1.186 minutes\n",
      "\u001b[36m\u001b[1m[ \u001b[22m\u001b[39m\u001b[36m\u001b[1mInfo: \u001b[22m\u001b[39miteration: 600, time: 11.540 hours, wall time: 2.946 seconds, max|w|: 4.748e-04, m s⁻¹, next Δt: 1.186 minutes\n",
      "\u001b[36m\u001b[1m[ \u001b[22m\u001b[39m\u001b[36m\u001b[1mInfo: \u001b[22m\u001b[39miteration: 800, time: 15.388 hours, wall time: 2.046 seconds, max|w|: 6.865e-04, m s⁻¹, next Δt: 1.186 minutes\n",
      "\u001b[36m\u001b[1m[ \u001b[22m\u001b[39m\u001b[36m\u001b[1mInfo: \u001b[22m\u001b[39miteration: 1000, time: 19.237 hours, wall time: 2.175 seconds, max|w|: 9.923e-04, m s⁻¹, next Δt: 1.186 minutes\n",
      "\u001b[36m\u001b[1m[ \u001b[22m\u001b[39m\u001b[36m\u001b[1mInfo: \u001b[22m\u001b[39miteration: 1200, time: 23.079 hours, wall time: 2.129 seconds, max|w|: 8.930e-04, m s⁻¹, next Δt: 1.186 minutes\n",
      "\u001b[36m\u001b[1m[ \u001b[22m\u001b[39m\u001b[36m\u001b[1mInfo: \u001b[22m\u001b[39miteration: 1400, time: 1.122 days, wall time: 2.422 seconds, max|w|: 1.371e-03, m s⁻¹, next Δt: 1.186 minutes\n",
      "\u001b[36m\u001b[1m[ \u001b[22m\u001b[39m\u001b[36m\u001b[1mInfo: \u001b[22m\u001b[39miteration: 1600, time: 1.282 days, wall time: 2.107 seconds, max|w|: 1.029e-03, m s⁻¹, next Δt: 1.186 minutes\n",
      "\u001b[36m\u001b[1m[ \u001b[22m\u001b[39m\u001b[36m\u001b[1mInfo: \u001b[22m\u001b[39miteration: 1800, time: 1.442 days, wall time: 2.108 seconds, max|w|: 1.295e-03, m s⁻¹, next Δt: 1.186 minutes\n",
      "\u001b[36m\u001b[1m[ \u001b[22m\u001b[39m\u001b[36m\u001b[1mInfo: \u001b[22m\u001b[39miteration: 2000, time: 1.603 days, wall time: 2.357 seconds, max|w|: 1.172e-03, m s⁻¹, next Δt: 1.186 minutes\n",
      "\u001b[36m\u001b[1m[ \u001b[22m\u001b[39m\u001b[36m\u001b[1mInfo: \u001b[22m\u001b[39miteration: 2200, time: 1.763 days, wall time: 2.252 seconds, max|w|: 8.675e-04, m s⁻¹, next Δt: 1.186 minutes\n",
      "\u001b[36m\u001b[1m[ \u001b[22m\u001b[39m\u001b[36m\u001b[1mInfo: \u001b[22m\u001b[39miteration: 2400, time: 1.923 days, wall time: 2.174 seconds, max|w|: 8.941e-04, m s⁻¹, next Δt: 1.186 minutes\n",
      "\u001b[36m\u001b[1m[ \u001b[22m\u001b[39m\u001b[36m\u001b[1mInfo: \u001b[22m\u001b[39miteration: 2600, time: 2.083 days, wall time: 2.233 seconds, max|w|: 7.691e-04, m s⁻¹, next Δt: 1.186 minutes\n",
      "\u001b[36m\u001b[1m[ \u001b[22m\u001b[39m\u001b[36m\u001b[1mInfo: \u001b[22m\u001b[39miteration: 2800, time: 2.244 days, wall time: 3.428 seconds, max|w|: 6.197e-04, m s⁻¹, next Δt: 1.186 minutes\n",
      "\u001b[36m\u001b[1m[ \u001b[22m\u001b[39m\u001b[36m\u001b[1mInfo: \u001b[22m\u001b[39miteration: 3000, time: 2.404 days, wall time: 3.927 seconds, max|w|: 5.586e-04, m s⁻¹, next Δt: 1.186 minutes\n",
      "\u001b[36m\u001b[1m[ \u001b[22m\u001b[39m\u001b[36m\u001b[1mInfo: \u001b[22m\u001b[39miteration: 3200, time: 2.564 days, wall time: 3.863 seconds, max|w|: 6.111e-04, m s⁻¹, next Δt: 1.186 minutes\n",
      "\u001b[36m\u001b[1m[ \u001b[22m\u001b[39m\u001b[36m\u001b[1mInfo: \u001b[22m\u001b[39miteration: 3400, time: 2.725 days, wall time: 2.558 seconds, max|w|: 9.279e-04, m s⁻¹, next Δt: 1.186 minutes\n",
      "\u001b[36m\u001b[1m[ \u001b[22m\u001b[39m\u001b[36m\u001b[1mInfo: \u001b[22m\u001b[39miteration: 3600, time: 2.885 days, wall time: 2.194 seconds, max|w|: 1.074e-03, m s⁻¹, next Δt: 1.186 minutes\n",
      "\u001b[36m\u001b[1m[ \u001b[22m\u001b[39m\u001b[36m\u001b[1mInfo: \u001b[22m\u001b[39miteration: 3800, time: 3.045 days, wall time: 2.107 seconds, max|w|: 9.223e-04, m s⁻¹, next Δt: 1.186 minutes\n",
      "\u001b[36m\u001b[1m[ \u001b[22m\u001b[39m\u001b[36m\u001b[1mInfo: \u001b[22m\u001b[39miteration: 4000, time: 3.205 days, wall time: 2.224 seconds, max|w|: 1.297e-03, m s⁻¹, next Δt: 1.186 minutes\n",
      "\u001b[36m\u001b[1m[ \u001b[22m\u001b[39m\u001b[36m\u001b[1mInfo: \u001b[22m\u001b[39miteration: 4200, time: 3.365 days, wall time: 2.212 seconds, max|w|: 1.029e-03, m s⁻¹, next Δt: 1.186 minutes\n",
      "\u001b[36m\u001b[1m[ \u001b[22m\u001b[39m\u001b[36m\u001b[1mInfo: \u001b[22m\u001b[39miteration: 4400, time: 3.526 days, wall time: 2.307 seconds, max|w|: 1.044e-03, m s⁻¹, next Δt: 1.186 minutes\n",
      "\u001b[36m\u001b[1m[ \u001b[22m\u001b[39m\u001b[36m\u001b[1mInfo: \u001b[22m\u001b[39miteration: 4600, time: 3.686 days, wall time: 2.150 seconds, max|w|: 1.070e-03, m s⁻¹, next Δt: 1.186 minutes\n",
      "\u001b[36m\u001b[1m[ \u001b[22m\u001b[39m\u001b[36m\u001b[1mInfo: \u001b[22m\u001b[39miteration: 4800, time: 3.846 days, wall time: 2.324 seconds, max|w|: 6.534e-04, m s⁻¹, next Δt: 1.186 minutes\n",
      "\u001b[36m\u001b[1m[ \u001b[22m\u001b[39m\u001b[36m\u001b[1mInfo: \u001b[22m\u001b[39miteration: 5000, time: 4.007 days, wall time: 2.277 seconds, max|w|: 7.283e-04, m s⁻¹, next Δt: 1.186 minutes\n",
      "\u001b[36m\u001b[1m[ \u001b[22m\u001b[39m\u001b[36m\u001b[1mInfo: \u001b[22m\u001b[39miteration: 5200, time: 4.167 days, wall time: 2.202 seconds, max|w|: 7.365e-04, m s⁻¹, next Δt: 1.186 minutes\n",
      "\u001b[36m\u001b[1m[ \u001b[22m\u001b[39m\u001b[36m\u001b[1mInfo: \u001b[22m\u001b[39miteration: 5400, time: 4.327 days, wall time: 2.893 seconds, max|w|: 6.328e-04, m s⁻¹, next Δt: 1.186 minutes\n",
      "\u001b[36m\u001b[1m[ \u001b[22m\u001b[39m\u001b[36m\u001b[1mInfo: \u001b[22m\u001b[39miteration: 5600, time: 4.487 days, wall time: 2.044 seconds, max|w|: 7.324e-04, m s⁻¹, next Δt: 1.186 minutes\n",
      "\u001b[36m\u001b[1m[ \u001b[22m\u001b[39m\u001b[36m\u001b[1mInfo: \u001b[22m\u001b[39miteration: 5800, time: 4.647 days, wall time: 2.269 seconds, max|w|: 6.985e-04, m s⁻¹, next Δt: 1.186 minutes\n",
      "\u001b[36m\u001b[1m[ \u001b[22m\u001b[39m\u001b[36m\u001b[1mInfo: \u001b[22m\u001b[39miteration: 6000, time: 4.808 days, wall time: 2.135 seconds, max|w|: 9.813e-04, m s⁻¹, next Δt: 1.186 minutes\n",
      "\u001b[36m\u001b[1m[ \u001b[22m\u001b[39m\u001b[36m\u001b[1mInfo: \u001b[22m\u001b[39miteration: 6200, time: 4.968 days, wall time: 2.126 seconds, max|w|: 1.091e-03, m s⁻¹, next Δt: 1.186 minutes\n",
      "\u001b[36m\u001b[1m[ \u001b[22m\u001b[39m\u001b[36m\u001b[1mInfo: \u001b[22m\u001b[39miteration: 6400, time: 5.128 days, wall time: 2.424 seconds, max|w|: 8.187e-04, m s⁻¹, next Δt: 1.186 minutes\n",
      "\u001b[36m\u001b[1m[ \u001b[22m\u001b[39m\u001b[36m\u001b[1mInfo: \u001b[22m\u001b[39miteration: 6600, time: 5.289 days, wall time: 2.351 seconds, max|w|: 1.162e-03, m s⁻¹, next Δt: 1.186 minutes\n",
      "\u001b[36m\u001b[1m[ \u001b[22m\u001b[39m\u001b[36m\u001b[1mInfo: \u001b[22m\u001b[39miteration: 6800, time: 5.449 days, wall time: 2.243 seconds, max|w|: 1.038e-03, m s⁻¹, next Δt: 1.186 minutes\n",
      "\u001b[36m\u001b[1m[ \u001b[22m\u001b[39m\u001b[36m\u001b[1mInfo: \u001b[22m\u001b[39miteration: 7000, time: 5.609 days, wall time: 2.086 seconds, max|w|: 7.847e-04, m s⁻¹, next Δt: 1.186 minutes\n",
      "\u001b[36m\u001b[1m[ \u001b[22m\u001b[39m\u001b[36m\u001b[1mInfo: \u001b[22m\u001b[39miteration: 7200, time: 5.769 days, wall time: 2.055 seconds, max|w|: 9.073e-04, m s⁻¹, next Δt: 1.186 minutes\n",
      "\u001b[36m\u001b[1m[ \u001b[22m\u001b[39m\u001b[36m\u001b[1mInfo: \u001b[22m\u001b[39miteration: 7400, time: 5.930 days, wall time: 2.324 seconds, max|w|: 7.046e-04, m s⁻¹, next Δt: 1.186 minutes\n",
      "\u001b[36m\u001b[1m[ \u001b[22m\u001b[39m\u001b[36m\u001b[1mInfo: \u001b[22m\u001b[39miteration: 7600, time: 6.090 days, wall time: 2.382 seconds, max|w|: 5.996e-04, m s⁻¹, next Δt: 1.186 minutes\n",
      "\u001b[36m\u001b[1m[ \u001b[22m\u001b[39m\u001b[36m\u001b[1mInfo: \u001b[22m\u001b[39mSimulation is stopping after running for 1.535 minutes.\n",
      "\u001b[36m\u001b[1m[ \u001b[22m\u001b[39m\u001b[36m\u001b[1mInfo: \u001b[22m\u001b[39mSimulation time 6.210 days equals or exceeds stop time 6.210 days.\n"
     ]
    }
   ],
   "source": [
    "run!(simulation)"
   ]
  },
  {
   "cell_type": "code",
   "execution_count": 363,
   "id": "0fa6cbea",
   "metadata": {},
   "outputs": [
    {
     "data": {
      "text/plain": [
       "597-element Vector{Float64}:\n",
       "      0.0\n",
       "    900.0\n",
       "   1800.0\n",
       "   2700.0\n",
       "   3600.0\n",
       "   4500.0\n",
       "   5400.0\n",
       "   6300.0\n",
       "   7200.0\n",
       "   8100.0\n",
       "   9000.0\n",
       "   9900.0\n",
       "  10800.0\n",
       "      ⋮\n",
       " 526500.0\n",
       " 527400.0\n",
       " 528300.0\n",
       " 529200.0\n",
       " 530100.0\n",
       " 531000.0\n",
       " 531900.0\n",
       " 532800.0\n",
       " 533700.0\n",
       " 534600.0\n",
       " 535500.0\n",
       " 536400.0"
      ]
     },
     "execution_count": 363,
     "metadata": {},
     "output_type": "execute_result"
    }
   ],
   "source": [
    "saved_output_filename = name * \".jld2\"\n",
    "\n",
    "u_t  = FieldTimeSeries(saved_output_filename, \"u\")\n",
    "u′_t = FieldTimeSeries(saved_output_filename, \"u′\")\n",
    "w_t  = FieldTimeSeries(saved_output_filename, \"w\")\n",
    "N²_t = FieldTimeSeries(saved_output_filename, \"N²\")\n",
    "\n",
    "times = u_t.times"
   ]
  },
  {
   "cell_type": "code",
   "execution_count": 364,
   "id": "68f4b29b",
   "metadata": {},
   "outputs": [
    {
     "data": {
      "text/plain": [
       "([-798666.6666666666, -796000.0, -793333.3333333334, -790666.6666666666, -788000.0, -785333.3333333334, -782666.6666666666, -780000.0, -777333.3333333334, -774666.6666666666  …  774666.6666666666, 777333.3333333334, 780000.0, 782666.6666666666, 785333.3333333334, 788000.0, 790666.6666666666, 793333.3333333334, 796000.0, 798666.6666666666], StepRangeLen(1.0, 0.0, 1), [-2000.0, -1987.5, -1975.0, -1962.5, -1950.0, -1937.5, -1925.0, -1912.5, -1900.0, -1887.5  …  -112.5, -100.0, -87.5, -75.0, -62.5, -50.0, -37.5, -25.0, -12.5, 0.0])"
      ]
     },
     "execution_count": 364,
     "metadata": {},
     "output_type": "execute_result"
    }
   ],
   "source": [
    "xu,  yu,  zu  = nodes(u_t[1])\n",
    "xw,  yw,  zw  = nodes(w_t[1])\n",
    "xN², yN², zN² = nodes(N²_t[1])"
   ]
  },
  {
   "cell_type": "code",
   "execution_count": 365,
   "id": "f8d44219-f7bf-484e-9fc3-2fcc19a1207e",
   "metadata": {},
   "outputs": [
    {
     "data": {
      "text/plain": [
       "mask_and_get_interior (generic function with 1 method)"
      ]
     },
     "execution_count": 365,
     "metadata": {},
     "output_type": "execute_result"
    }
   ],
   "source": [
    "using Oceananigans.ImmersedBoundaries: mask_immersed_field!\n",
    "\n",
    "function mask_and_get_interior(φ_t, n)\n",
    "    mask_immersed_field!(φ_t[n], NaN)\n",
    "    return interior(φ_t[n], :, 1, :)\n",
    "end"
   ]
  },
  {
   "cell_type": "code",
   "execution_count": 366,
   "id": "d71a4579-8917-4ad1-9adc-67ce3646ff29",
   "metadata": {
    "tags": []
   },
   "outputs": [
    {
     "data": {
      "image/png": "[encoded data removed]"
     },
     "execution_count": 366,
     "metadata": {},
     "output_type": "execute_result"
    }
   ],
   "source": [
    "n = Observable(1)\n",
    "\n",
    "title = @lift @sprintf(\"t = %1.2f days = %1.2f T₂\", round(times[$n]/day, digits=2) , round(times[$n]/T₂, digits=2))\n",
    "\n",
    "u′ₙ = @lift mask_and_get_interior(u′_t, $n)\n",
    "wₙ  = @lift mask_and_get_interior(w_t, $n)\n",
    "N²ₙ = @lift mask_and_get_interior(N²_t, $n)\n",
    "\n",
    "axis_kwargs = (xlabel = \"x [km]\",\n",
    "               ylabel = \"z [m]\",\n",
    "               limits = ((-Lx/2e3, Lx/2e3), (-H, 0)),\n",
    "               titlesize = 20)\n",
    "\n",
    "ulim   = 0.5 * maximum(abs, u_t[end])\n",
    "wlim   = maximum(abs, w_t[end])\n",
    "\n",
    "fig = Figure(resolution = (1000, 1300))\n",
    "\n",
    "ax_u = Axis(fig[2, 1];\n",
    "            title = \"u′-velocity\", axis_kwargs...)\n",
    "\n",
    "ax_w = Axis(fig[3, 1];\n",
    "            title = \"w-velocity\", axis_kwargs...)\n",
    "\n",
    "ax_N² = Axis(fig[4, 1];\n",
    "             title = \"stratification\", axis_kwargs...)\n",
    "\n",
    "fig[1, :] = Label(fig, title, fontsize=24, tellwidth=false)\n",
    "\n",
    "hm_u = heatmap!(ax_u, xu/1e3, zu, u′ₙ;\n",
    "                colorrange = (-ulim, ulim),\n",
    "                colormap = :balance)\n",
    "Colorbar(fig[2, 2], hm_u)\n",
    "\n",
    "hm_w = heatmap!(ax_w, xw/1e3, zw, wₙ;\n",
    "                colorrange = (-wlim, wlim),\n",
    "                colormap = :balance)\n",
    "Colorbar(fig[3, 2], hm_w)\n",
    "\n",
    "hm_N² = heatmap!(ax_N², xN²/1e3, zN², N²ₙ;\n",
    "                 colorrange = (0.9Nᵢ², 1.1Nᵢ²),\n",
    "                 colormap = :thermal)\n",
    "Colorbar(fig[4, 2], hm_N²)\n",
    "\n",
    "fig"
   ]
  },
  {
   "cell_type": "code",
   "execution_count": 367,
   "id": "1bec3ae6",
   "metadata": {},
   "outputs": [
    {
     "name": "stderr",
     "output_type": "stream",
     "text": [
      "\u001b[36m\u001b[1m[ \u001b[22m\u001b[39m\u001b[36m\u001b[1mInfo: \u001b[22m\u001b[39mMaking an animation from saved data...\n"
     ]
    },
    {
     "name": "stdout",
     "output_type": "stream",
     "text": [
      "Plotting frame 597 of 597 \r"
     ]
    },
    {
     "data": {
      "text/plain": [
       "\"barotropic_tide.mp4\""
      ]
     },
     "execution_count": 367,
     "metadata": {},
     "output_type": "execute_result"
    }
   ],
   "source": [
    "@info \"Making an animation from saved data...\"\n",
    "\n",
    "frames = 1:length(times)\n",
    "\n",
    "CairoMakie.record(fig, name * \".mp4\", frames, framerate=24) do i\n",
    "    msg = string(\"Plotting frame \", i, \" of \", frames[end])\n",
    "    print(msg * \" \\r\")\n",
    "    n[] = i\n",
    "end"
   ]
  },
  {
   "cell_type": "markdown",
   "id": "740245f3-3132-4d36-acf0-f233a78ada74",
   "metadata": {},
   "source": [
    "![](barotropic_tide.mp4)"
   ]
  },
  {
   "cell_type": "code",
   "execution_count": null,
   "id": "913d4f74-86c0-4e84-81eb-9bedb9acd0d6",
   "metadata": {},
   "outputs": [],
   "source": []
  }
 ],
 "metadata": {
  "kernelspec": {
   "display_name": "Julia (12 threads) 1.8.5",
   "language": "julia",
   "name": "julia-_12-threads_-1.8"
  },
  "language_info": {
   "file_extension": ".jl",
   "mimetype": "application/julia",
   "name": "julia",
   "version": "1.8.5"
  }
 },
 "nbformat": 4,
 "nbformat_minor": 5
}
