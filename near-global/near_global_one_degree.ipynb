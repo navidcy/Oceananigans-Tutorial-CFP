{
 "cells": [
  {
   "cell_type": "code",
   "execution_count": 1,
   "id": "dd6e2b36-6538-4360-afea-219bb981a05d",
   "metadata": {
    "tags": []
   },
   "outputs": [
    {
     "name": "stderr",
     "output_type": "stream",
     "text": [
      "\u001b[32m\u001b[1m  Activating\u001b[22m\u001b[39m project at `/g/data/v45/nc3020/Oceananigans-Tutorial-CFP/near-global`\n"
     ]
    }
   ],
   "source": [
    "cd(\"/g/data/v45/nc3020/Oceananigans-Tutorial-CFP/near-global/\")\n",
    "\n",
    "ENV[\"JULIA_DEPOT_PATH\"] = \"/g/data/v45/nc3020/.julia:/share/julia/site/\"\n",
    "ENV[\"JULIA_LOAD_PATH\"] = \"@:@v#.#:@stdlib:@site\"\n",
    "\n",
    "using Pkg; Pkg.activate(@__DIR__);"
   ]
  },
  {
   "cell_type": "code",
   "execution_count": 2,
   "id": "288d21f1-8cbd-4795-954d-c7a1e7958341",
   "metadata": {
    "tags": []
   },
   "outputs": [
    {
     "name": "stderr",
     "output_type": "stream",
     "text": [
      "\u001b[36m\u001b[1m[ \u001b[22m\u001b[39m\u001b[36m\u001b[1mInfo: \u001b[22m\u001b[39mOceananigans will use 12 threads\n",
      "\u001b[33m\u001b[1m┌ \u001b[22m\u001b[39m\u001b[33m\u001b[1mWarning: \u001b[22m\u001b[39mMultiple CUDA environment variables set to different values: /g/data/hh5/public/apps/miniconda3/envs/analysis3-22.10, /apps/cuda/11.4.1\n",
      "\u001b[33m\u001b[1m└ \u001b[22m\u001b[39m\u001b[90m@ CUDA.Deps /g/data/v45/nc3020/.julia/packages/CUDA/BbliS/deps/discovery.jl:268\u001b[39m\n"
     ]
    }
   ],
   "source": [
    "using ClimaOcean.NearGlobalSimulations: one_degree_near_global_simulation\n",
    "\n",
    "using Oceananigans\n",
    "using Oceananigans.Units\n",
    "using Oceananigans.Utils: WallTimeInterval\n",
    "using Oceananigans.BuoyancyModels: buoyancy\n",
    "using Oceananigans.Models.HydrostaticFreeSurfaceModels: VerticalVorticityField\n",
    "using JLD2"
   ]
  },
  {
   "cell_type": "code",
   "execution_count": 3,
   "id": "9b494a60-544b-4583-8e33-32ee52f83d5f",
   "metadata": {
    "tags": []
   },
   "outputs": [
    {
     "name": "stderr",
     "output_type": "stream",
     "text": [
      "\u001b[33m\u001b[1m┌ \u001b[22m\u001b[39m\u001b[33m\u001b[1mWarning: \u001b[22m\u001b[39mRiBasedVerticalDiffusivity is an experimental turbulence closure that \n",
      "\u001b[33m\u001b[1m│ \u001b[22m\u001b[39mis unvalidated and whose default parameters are not calibrated for \n",
      "\u001b[33m\u001b[1m│ \u001b[22m\u001b[39mrealistic ocean conditions or for use in a three-dimensional \n",
      "\u001b[33m\u001b[1m│ \u001b[22m\u001b[39msimulation. Use with caution and report bugs and problems with physics \n",
      "\u001b[33m\u001b[1m│ \u001b[22m\u001b[39mto https://github.com/CliMA/Oceananigans.jl/issues.\n",
      "\u001b[33m\u001b[1m└ \u001b[22m\u001b[39m\u001b[90m@ Oceananigans.TurbulenceClosures /g/data/v45/nc3020/.julia/packages/Oceananigans/KTw3g/src/TurbulenceClosures/turbulence_closure_implementations/ri_based_vertical_diffusivity.jl:83\u001b[39m\n"
     ]
    },
    {
     "data": {
      "text/plain": [
       "RiBasedVerticalDiffusivity{VerticallyImplicitTimeDiscretization}\n",
       "├── Ri_dependent_tapering: HyperbolicTangentRiDependentTapering\n",
       "├── κ₀: 0.5\n",
       "├── κᶜᵃ: 1.7\n",
       "├── Cᵉⁿ: 0.1\n",
       "├── Cᵃᵛ: 0.6\n",
       "├── Ri₀: 0.1\n",
       "└── Riᵟ: 0.4"
      ]
     },
     "execution_count": 3,
     "metadata": {},
     "output_type": "execute_result"
    }
   ],
   "source": [
    "boundary_layer_turbulence_closure = RiBasedVerticalDiffusivity()"
   ]
  },
  {
   "cell_type": "code",
   "execution_count": 4,
   "id": "3419db60-d627-4757-82f2-d1b9f765ef83",
   "metadata": {
    "tags": []
   },
   "outputs": [
    {
     "name": "stderr",
     "output_type": "stream",
     "text": [
      "\u001b[36m\u001b[1m[ \u001b[22m\u001b[39m\u001b[36m\u001b[1mInfo: \u001b[22m\u001b[39mReading initial conditions...\n",
      "\u001b[36m\u001b[1m[ \u001b[22m\u001b[39m\u001b[36m\u001b[1mInfo: \u001b[22m\u001b[39m... read initial conditions (62.159 ms)\n",
      "\u001b[36m\u001b[1m[ \u001b[22m\u001b[39m\u001b[36m\u001b[1mInfo: \u001b[22m\u001b[39mReading boundary conditions...\n",
      "\u001b[36m\u001b[1m[ \u001b[22m\u001b[39m\u001b[36m\u001b[1mInfo: \u001b[22m\u001b[39m... read boundary conditions (412.402 ms)\n"
     ]
    },
    {
     "ename": "KeyError",
     "evalue": "KeyError: key \"usage_request\" not found",
     "output_type": "error",
     "traceback": [
      "KERNEL EXCEPTION",
      "KeyError: key \"usage_request\" not found",
      "",
      "Stacktrace:",
      " [1] getindex(h::Dict{String, Function}, key::String)",
      "   @ Base ./dict.jl:498",
      " [2] eventloop(socket::ZMQ.Socket)",
      "   @ IJulia /g/data/v45/nc3020/.julia/packages/IJulia/6TIq1/src/eventloop.jl:8",
      " [3] (::IJulia.var\"#14#17\")()",
      "   @ IJulia ./task.jl:484"
     ]
    },
    {
     "ename": "KeyError",
     "evalue": "KeyError: key \"usage_request\" not found",
     "output_type": "error",
     "traceback": [
      "KERNEL EXCEPTION",
      "KeyError: key \"usage_request\" not found",
      "",
      "Stacktrace:",
      " [1] getindex(h::Dict{String, Function}, key::String)",
      "   @ Base ./dict.jl:498",
      " [2] eventloop(socket::ZMQ.Socket)",
      "   @ IJulia /g/data/v45/nc3020/.julia/packages/IJulia/6TIq1/src/eventloop.jl:8",
      " [3] (::IJulia.var\"#14#17\")()",
      "   @ IJulia ./task.jl:484"
     ]
    },
    {
     "name": "stderr",
     "output_type": "stream",
     "text": [
      "\u001b[36m\u001b[1m┌ \u001b[22m\u001b[39m\u001b[36m\u001b[1mInfo: \u001b[22m\u001b[39mCreated 360×150×48 ImmersedBoundaryGrid{Float64, Periodic, Bounded, Bounded} on GPU with 5×5×5 halo:\n",
      "\u001b[36m\u001b[1m│ \u001b[22m\u001b[39m├── immersed_boundary: GridFittedBottom(min(h)=-9.02e+03, max(h)=1.00e+02)\n",
      "\u001b[36m\u001b[1m│ \u001b[22m\u001b[39m├── underlying_grid: 360×150×48 LatitudeLongitudeGrid{Float64, Periodic, Bounded, Bounded} on GPU with 5×5×5 halo and with precomputed metrics\n",
      "\u001b[36m\u001b[1m│ \u001b[22m\u001b[39m├── longitude: Periodic λ ∈ [-180.0, 180.0) regularly spaced with Δλ=1.0\n",
      "\u001b[36m\u001b[1m│ \u001b[22m\u001b[39m├── latitude:  Bounded  φ ∈ [-75.0, 75.0]   regularly spaced with Δφ=1.0\n",
      "\u001b[36m\u001b[1m└ \u001b[22m\u001b[39m└── z:         Bounded  z ∈ [-5244.5, 0.0]  variably spaced with min(Δz)=10.0, max(Δz)=410.5\n",
      "\u001b[36m\u001b[1m[ \u001b[22m\u001b[39m\u001b[36m\u001b[1mInfo: \u001b[22m\u001b[39mBuilding a model...\n"
     ]
    },
    {
     "ename": "KeyError",
     "evalue": "KeyError: key \"usage_request\" not found",
     "output_type": "error",
     "traceback": [
      "KERNEL EXCEPTION",
      "KeyError: key \"usage_request\" not found",
      "",
      "Stacktrace:",
      " [1] getindex(h::Dict{String, Function}, key::String)",
      "   @ Base ./dict.jl:498",
      " [2] eventloop(socket::ZMQ.Socket)",
      "   @ IJulia /g/data/v45/nc3020/.julia/packages/IJulia/6TIq1/src/eventloop.jl:8",
      " [3] (::IJulia.var\"#14#17\")()",
      "   @ IJulia ./task.jl:484"
     ]
    },
    {
     "name": "stderr",
     "output_type": "stream",
     "text": [
      "\u001b[36m\u001b[1m┌ \u001b[22m\u001b[39m\u001b[36m\u001b[1mInfo: \u001b[22m\u001b[39m... built HydrostaticFreeSurfaceModel{GPU, ImmersedBoundaryGrid}(time = 0 seconds, iteration = 0)\n",
      "\u001b[36m\u001b[1m│ \u001b[22m\u001b[39m├── grid: 360×150×48 ImmersedBoundaryGrid{Float64, Periodic, Bounded, Bounded} on GPU with 5×5×5 halo\n",
      "\u001b[36m\u001b[1m│ \u001b[22m\u001b[39m├── timestepper: QuasiAdamsBashforth2TimeStepper\n",
      "\u001b[36m\u001b[1m│ \u001b[22m\u001b[39m├── tracers: (T, S)\n",
      "\u001b[36m\u001b[1m│ \u001b[22m\u001b[39m├── closure: Tuple with 4 closures:\n",
      "\u001b[36m\u001b[1m│ \u001b[22m\u001b[39m│   ├── HorizontalScalarDiffusivity{ExplicitTimeDiscretization}(ν=50000.0, κ=(T=0.0, S=0.0, e=50000.0))\n",
      "\u001b[36m\u001b[1m│ \u001b[22m\u001b[39m│   ├── RiBasedVerticalDiffusivity{VerticallyImplicitTimeDiscretization}\n",
      "\u001b[36m\u001b[1m│ \u001b[22m\u001b[39m│   ├── VerticalScalarDiffusivity{VerticallyImplicitTimeDiscretization}(ν=PiecewiseConstantVerticalDiffusivity(-49.0, 0.01, 0.0001), κ=(T=1.0e-5, S=1.0e-5))\n",
      "\u001b[36m\u001b[1m│ \u001b[22m\u001b[39m│   └── IsopycnalSkewSymmetricDiffusivity(κ_skew=900.0, κ_symmetric=900.0)\n",
      "\u001b[36m\u001b[1m│ \u001b[22m\u001b[39m├── buoyancy: SeawaterBuoyancy with g=9.80665 and BoussinesqEquationOfState{Float64} with ĝ = NegativeZDirection()\n",
      "\u001b[36m\u001b[1m│ \u001b[22m\u001b[39m├── free surface: ImplicitFreeSurface with gravitational acceleration 9.80665 m s⁻²\n",
      "\u001b[36m\u001b[1m│ \u001b[22m\u001b[39m│   └── solver: MatrixImplicitFreeSurfaceSolver\n",
      "\u001b[36m\u001b[1m└ \u001b[22m\u001b[39m└── coriolis: HydrostaticSphericalCoriolis{Oceananigans.Coriolis.ActiveCellEnstrophyConservingScheme, Float64}.\n",
      "\u001b[36m\u001b[1m[ \u001b[22m\u001b[39m\u001b[36m\u001b[1mInfo: \u001b[22m\u001b[39mModel building time: 1.142 minutes\n"
     ]
    },
    {
     "data": {
      "text/plain": [
       "Simulation of HydrostaticFreeSurfaceModel{GPU, ImmersedBoundaryGrid}(time = 0 seconds, iteration = 0)\n",
       "├── Next time step: 20 minutes\n",
       "├── Elapsed wall time: 0 seconds\n",
       "├── Wall time per iteration: NaN years\n",
       "├── Stop time: 60 days\n",
       "├── Stop iteration : Inf\n",
       "├── Wall time limit: Inf\n",
       "├── Callbacks: OrderedDict with 5 entries:\n",
       "│   ├── stop_time_exceeded => Callback of stop_time_exceeded on IterationInterval(1)\n",
       "│   ├── stop_iteration_exceeded => Callback of stop_iteration_exceeded on IterationInterval(1)\n",
       "│   ├── wall_time_limit_exceeded => Callback of wall_time_limit_exceeded on IterationInterval(1)\n",
       "│   ├── nan_checker => Callback of NaNChecker for u on IterationInterval(100)\n",
       "│   └── progress => Callback of (::ClimaOcean.NearGlobalSimulations.var\"#progress#5\"{Vector{UInt64}}) on IterationInterval(10)\n",
       "├── Output writers: OrderedDict with no entries\n",
       "└── Diagnostics: OrderedDict with no entries"
      ]
     },
     "execution_count": 4,
     "metadata": {},
     "output_type": "execute_result"
    }
   ],
   "source": [
    "start_time = 0days\n",
    "stop_time  = start_time + 60days\n",
    "\n",
    "architecture = GPU()\n",
    "\n",
    "simulation = one_degree_near_global_simulation(architecture;\n",
    "                                               start_time, stop_time, boundary_layer_turbulence_closure)"
   ]
  },
  {
   "cell_type": "code",
   "execution_count": 5,
   "id": "ef0d8df0-5805-450f-a7ec-179df0aae5ce",
   "metadata": {
    "tags": []
   },
   "outputs": [
    {
     "data": {
      "text/plain": [
       "\"near_global_360_150_48_RiBasedVerticalDiffusivity\""
      ]
     },
     "execution_count": 5,
     "metadata": {},
     "output_type": "execute_result"
    }
   ],
   "source": [
    "# Define output\n",
    "slices_save_interval = 1day\n",
    "fields_save_interval = 30days\n",
    "Nx, Ny, Nz = size(simulation.model.grid)\n",
    "\n",
    "dir = pwd() * \"/output\"\n",
    "\n",
    "closure_name = typeof(boundary_layer_turbulence_closure).name.wrapper\n",
    "output_prefix = \"near_global_$(Nx)_$(Ny)_$(Nz)_$closure_name\""
   ]
  },
  {
   "cell_type": "code",
   "execution_count": 6,
   "id": "9ada1d36-3301-40c7-9a50-df36da3e7a94",
   "metadata": {
    "tags": []
   },
   "outputs": [
    {
     "name": "stderr",
     "output_type": "stream",
     "text": [
      "\u001b[33m\u001b[1m┌ \u001b[22m\u001b[39m\u001b[33m\u001b[1mWarning: \u001b[22m\u001b[39mmodel.closure contains a function somewhere in its hierarchy and will not be checkpointed.\n",
      "\u001b[33m\u001b[1m└ \u001b[22m\u001b[39m\u001b[90m@ Oceananigans.OutputWriters /g/data/v45/nc3020/.julia/packages/Oceananigans/KTw3g/src/OutputWriters/checkpointer.jl:86\u001b[39m\n"
     ]
    }
   ],
   "source": [
    "model = simulation.model\n",
    "\n",
    "simulation.output_writers[:checkpointer] = Checkpointer(model; dir,\n",
    "                                                        prefix = output_prefix * \"_checkpointer\",\n",
    "                                                        schedule = WallTimeInterval(10minutes),\n",
    "                                                        cleanup = true,\n",
    "                                                        overwrite_existing = true)\n",
    "\n",
    "simulation.output_writers[:fields] = JLD2OutputWriter(model, merge(model.velocities, model.tracers); dir,\n",
    "                                                      schedule = TimeInterval(slices_save_interval),\n",
    "                                                      filename = output_prefix * \"_fields\",\n",
    "                                                      with_halos = true,\n",
    "                                                      overwrite_existing = true)\n",
    "\n",
    "slice_indices = [(:, :, Nz), (:, :, Nz-10)]\n",
    "output_names = [:surface, :near_surface]\n",
    "\n",
    "for n = 1:2\n",
    "    indices = slice_indices[n]\n",
    "\n",
    "    outputs = Dict()\n",
    "\n",
    "    for name in keys(model.tracers)\n",
    "        c = model.tracers[name]\n",
    "        outputs[name] = Field(c; indices)\n",
    "    end\n",
    "\n",
    "    outputs[:u] = Field(model.velocities.u; indices)\n",
    "    outputs[:v] = Field(model.velocities.v; indices)\n",
    "    outputs[:w] = Field(model.velocities.w; indices)\n",
    "    outputs[:η] = model.free_surface.η\n",
    "    outputs[:ζ] = VerticalVorticityField(model.grid, model.velocities; indices)\n",
    "\n",
    "    name = output_names[n]\n",
    "    simulation.output_writers[name] = JLD2OutputWriter(model, outputs; dir,\n",
    "                                                       schedule = TimeInterval(slices_save_interval),\n",
    "                                                       filename = output_prefix * \"_fields_$name\",\n",
    "                                                       with_halos = true,\n",
    "                                                       overwrite_existing = true)\n",
    "end"
   ]
  },
  {
   "cell_type": "code",
   "execution_count": 7,
   "id": "b15df1a2-bb64-46a1-a5bf-66c2d22b33e2",
   "metadata": {
    "tags": []
   },
   "outputs": [
    {
     "name": "stderr",
     "output_type": "stream",
     "text": [
      "\u001b[36m\u001b[1m[ \u001b[22m\u001b[39m\u001b[36m\u001b[1mInfo: \u001b[22m\u001b[39mRunning spinup simulation with Δt = 5 minutes until t = 5 days\n",
      "\u001b[36m\u001b[1m[ \u001b[22m\u001b[39m\u001b[36m\u001b[1mInfo: \u001b[22m\u001b[39mInitializing simulation...\n",
      "\u001b[36m\u001b[1m[ \u001b[22m\u001b[39m\u001b[36m\u001b[1mInfo: \u001b[22m\u001b[39mTime:    0 seconds, iteration: 0, max(|u|): 0.00e+00 ms⁻¹, wmax: 0.00e+00, loc: (1, 1, 1), wall time: 29.705 seconds\n",
      "\u001b[36m\u001b[1m[ \u001b[22m\u001b[39m\u001b[36m\u001b[1mInfo: \u001b[22m\u001b[39m    ... simulation initialization complete (31.314 seconds)\n",
      "\u001b[36m\u001b[1m[ \u001b[22m\u001b[39m\u001b[36m\u001b[1mInfo: \u001b[22m\u001b[39mExecuting initial time step...\n",
      "\u001b[36m\u001b[1m[ \u001b[22m\u001b[39m\u001b[36m\u001b[1mInfo: \u001b[22m\u001b[39m    ... initial time step complete (5.717 minutes).\n",
      "\u001b[36m\u001b[1m[ \u001b[22m\u001b[39m\u001b[36m\u001b[1mInfo: \u001b[22m\u001b[39mTime:   50 minutes, iteration: 10, max(|u|): 1.31e-01 ms⁻¹, wmax: 8.72e-04, loc: (352, 21, 19), wall time: 6.281 minutes\n",
      "\u001b[36m\u001b[1m[ \u001b[22m\u001b[39m\u001b[36m\u001b[1mInfo: \u001b[22m\u001b[39mTime:  1.667 hours, iteration: 20, max(|u|): 3.17e-01 ms⁻¹, wmax: 1.22e-03, loc: (353, 21, 15), wall time: 1.444 seconds\n",
      "\u001b[36m\u001b[1m[ \u001b[22m\u001b[39m\u001b[36m\u001b[1mInfo: \u001b[22m\u001b[39mTime:  2.500 hours, iteration: 30, max(|u|): 5.21e-01 ms⁻¹, wmax: 1.68e-03, loc: (352, 21, 19), wall time: 489.331 ms\n",
      "\u001b[36m\u001b[1m[ \u001b[22m\u001b[39m\u001b[36m\u001b[1mInfo: \u001b[22m\u001b[39mTime:  3.333 hours, iteration: 40, max(|u|): 5.13e-01 ms⁻¹, wmax: 2.13e-03, loc: (352, 21, 19), wall time: 1.332 seconds\n",
      "\u001b[36m\u001b[1m[ \u001b[22m\u001b[39m\u001b[36m\u001b[1mInfo: \u001b[22m\u001b[39mTime:  4.167 hours, iteration: 50, max(|u|): 6.28e-01 ms⁻¹, wmax: 2.45e-03, loc: (352, 21, 19), wall time: 1.591 seconds\n",
      "\u001b[36m\u001b[1m[ \u001b[22m\u001b[39m\u001b[36m\u001b[1mInfo: \u001b[22m\u001b[39mTime:      5 hours, iteration: 60, max(|u|): 7.18e-01 ms⁻¹, wmax: 2.56e-03, loc: (352, 21, 19), wall time: 1.471 seconds\n",
      "\u001b[36m\u001b[1m[ \u001b[22m\u001b[39m\u001b[36m\u001b[1mInfo: \u001b[22m\u001b[39mTime:  5.833 hours, iteration: 70, max(|u|): 7.54e-01 ms⁻¹, wmax: 2.72e-03, loc: (303, 82, 11), wall time: 911.800 ms\n",
      "\u001b[36m\u001b[1m[ \u001b[22m\u001b[39m\u001b[36m\u001b[1mInfo: \u001b[22m\u001b[39mTime:  6.667 hours, iteration: 80, max(|u|): 8.36e-01 ms⁻¹, wmax: 3.00e-03, loc: (303, 82, 11), wall time: 1.469 seconds\n",
      "\u001b[36m\u001b[1m[ \u001b[22m\u001b[39m\u001b[36m\u001b[1mInfo: \u001b[22m\u001b[39mTime:  7.500 hours, iteration: 90, max(|u|): 1.15e+00 ms⁻¹, wmax: 3.25e-03, loc: (303, 82, 11), wall time: 1.650 seconds\n",
      "\u001b[36m\u001b[1m[ \u001b[22m\u001b[39m\u001b[36m\u001b[1mInfo: \u001b[22m\u001b[39mTime:  8.333 hours, iteration: 100, max(|u|): 1.27e+00 ms⁻¹, wmax: 3.48e-03, loc: (303, 82, 11), wall time: 944.938 ms\n",
      "\u001b[36m\u001b[1m[ \u001b[22m\u001b[39m\u001b[36m\u001b[1mInfo: \u001b[22m\u001b[39mTime:  9.167 hours, iteration: 110, max(|u|): 1.13e+00 ms⁻¹, wmax: 3.69e-03, loc: (303, 82, 11), wall time: 1.722 seconds\n",
      "\u001b[36m\u001b[1m[ \u001b[22m\u001b[39m\u001b[36m\u001b[1mInfo: \u001b[22m\u001b[39mTime:     10 hours, iteration: 120, max(|u|): 1.17e+00 ms⁻¹, wmax: 3.87e-03, loc: (303, 82, 11), wall time: 1.619 seconds\n",
      "\u001b[36m\u001b[1m[ \u001b[22m\u001b[39m\u001b[36m\u001b[1mInfo: \u001b[22m\u001b[39mTime: 10.833 hours, iteration: 130, max(|u|): 1.06e+00 ms⁻¹, wmax: 4.03e-03, loc: (303, 82, 11), wall time: 891.701 ms\n",
      "\u001b[36m\u001b[1m[ \u001b[22m\u001b[39m\u001b[36m\u001b[1mInfo: \u001b[22m\u001b[39mTime: 11.667 hours, iteration: 140, max(|u|): 1.12e+00 ms⁻¹, wmax: 4.17e-03, loc: (303, 82, 11), wall time: 1.376 seconds\n",
      "\u001b[36m\u001b[1m[ \u001b[22m\u001b[39m\u001b[36m\u001b[1mInfo: \u001b[22m\u001b[39mTime: 12.500 hours, iteration: 150, max(|u|): 1.14e+00 ms⁻¹, wmax: 4.30e-03, loc: (303, 82, 11), wall time: 1.662 seconds\n",
      "\u001b[36m\u001b[1m[ \u001b[22m\u001b[39m\u001b[36m\u001b[1mInfo: \u001b[22m\u001b[39mTime: 13.333 hours, iteration: 160, max(|u|): 1.47e+00 ms⁻¹, wmax: 4.41e-03, loc: (303, 82, 11), wall time: 1.427 seconds\n",
      "\u001b[36m\u001b[1m[ \u001b[22m\u001b[39m\u001b[36m\u001b[1mInfo: \u001b[22m\u001b[39mTime: 14.167 hours, iteration: 170, max(|u|): 1.55e+00 ms⁻¹, wmax: 4.51e-03, loc: (303, 82, 11), wall time: 1.032 seconds\n",
      "\u001b[36m\u001b[1m[ \u001b[22m\u001b[39m\u001b[36m\u001b[1mInfo: \u001b[22m\u001b[39mTime:     15 hours, iteration: 180, max(|u|): 1.41e+00 ms⁻¹, wmax: 4.59e-03, loc: (303, 82, 11), wall time: 1.673 seconds\n",
      "\u001b[36m\u001b[1m[ \u001b[22m\u001b[39m\u001b[36m\u001b[1mInfo: \u001b[22m\u001b[39mTime: 15.833 hours, iteration: 190, max(|u|): 1.23e+00 ms⁻¹, wmax: 4.66e-03, loc: (303, 82, 11), wall time: 1.614 seconds\n",
      "\u001b[36m\u001b[1m[ \u001b[22m\u001b[39m\u001b[36m\u001b[1mInfo: \u001b[22m\u001b[39mTime: 16.667 hours, iteration: 200, max(|u|): 1.15e+00 ms⁻¹, wmax: 4.72e-03, loc: (303, 82, 11), wall time: 559.845 ms\n",
      "\u001b[36m\u001b[1m[ \u001b[22m\u001b[39m\u001b[36m\u001b[1mInfo: \u001b[22m\u001b[39mTime: 17.500 hours, iteration: 210, max(|u|): 1.08e+00 ms⁻¹, wmax: 4.77e-03, loc: (303, 82, 11), wall time: 1.578 seconds\n",
      "\u001b[36m\u001b[1m[ \u001b[22m\u001b[39m\u001b[36m\u001b[1mInfo: \u001b[22m\u001b[39mTime: 18.333 hours, iteration: 220, max(|u|): 1.20e+00 ms⁻¹, wmax: 4.80e-03, loc: (303, 82, 11), wall time: 1.698 seconds\n",
      "\u001b[36m\u001b[1m[ \u001b[22m\u001b[39m\u001b[36m\u001b[1mInfo: \u001b[22m\u001b[39mTime: 19.167 hours, iteration: 230, max(|u|): 1.26e+00 ms⁻¹, wmax: 4.83e-03, loc: (303, 82, 11), wall time: 1.112 seconds\n",
      "\u001b[36m\u001b[1m[ \u001b[22m\u001b[39m\u001b[36m\u001b[1mInfo: \u001b[22m\u001b[39mTime:     20 hours, iteration: 240, max(|u|): 1.58e+00 ms⁻¹, wmax: 4.85e-03, loc: (303, 82, 11), wall time: 1.336 seconds\n",
      "\u001b[36m\u001b[1m[ \u001b[22m\u001b[39m\u001b[36m\u001b[1mInfo: \u001b[22m\u001b[39mTime: 20.833 hours, iteration: 250, max(|u|): 1.78e+00 ms⁻¹, wmax: 4.86e-03, loc: (303, 82, 11), wall time: 1.692 seconds\n",
      "\u001b[36m\u001b[1m[ \u001b[22m\u001b[39m\u001b[36m\u001b[1mInfo: \u001b[22m\u001b[39mTime: 21.667 hours, iteration: 260, max(|u|): 1.80e+00 ms⁻¹, wmax: 4.87e-03, loc: (303, 82, 11), wall time: 1.422 seconds\n",
      "\u001b[36m\u001b[1m[ \u001b[22m\u001b[39m\u001b[36m\u001b[1mInfo: \u001b[22m\u001b[39mTime: 22.500 hours, iteration: 270, max(|u|): 1.64e+00 ms⁻¹, wmax: 4.87e-03, loc: (303, 82, 11), wall time: 951.097 ms\n",
      "\u001b[36m\u001b[1m[ \u001b[22m\u001b[39m\u001b[36m\u001b[1mInfo: \u001b[22m\u001b[39mTime: 23.333 hours, iteration: 280, max(|u|): 1.29e+00 ms⁻¹, wmax: 4.87e-03, loc: (303, 82, 11), wall time: 1.463 seconds\n",
      "\u001b[36m\u001b[1m[ \u001b[22m\u001b[39m\u001b[36m\u001b[1mInfo: \u001b[22m\u001b[39mTime:   1.007 days, iteration: 290, max(|u|): 1.14e+00 ms⁻¹, wmax: 4.87e-03, loc: (303, 82, 11), wall time: 2.091 seconds\n",
      "\u001b[36m\u001b[1m[ \u001b[22m\u001b[39m\u001b[36m\u001b[1mInfo: \u001b[22m\u001b[39mTime:   1.042 days, iteration: 300, max(|u|): 1.43e+00 ms⁻¹, wmax: 4.86e-03, loc: (303, 82, 11), wall time: 466.721 ms\n",
      "\u001b[36m\u001b[1m[ \u001b[22m\u001b[39m\u001b[36m\u001b[1mInfo: \u001b[22m\u001b[39mTime:   1.076 days, iteration: 310, max(|u|): 1.57e+00 ms⁻¹, wmax: 4.85e-03, loc: (303, 82, 11), wall time: 441.768 ms\n",
      "\u001b[36m\u001b[1m[ \u001b[22m\u001b[39m\u001b[36m\u001b[1mInfo: \u001b[22m\u001b[39mTime:   1.111 days, iteration: 320, max(|u|): 1.79e+00 ms⁻¹, wmax: 4.84e-03, loc: (303, 82, 11), wall time: 442.062 ms\n",
      "\u001b[36m\u001b[1m[ \u001b[22m\u001b[39m\u001b[36m\u001b[1mInfo: \u001b[22m\u001b[39mTime:   1.146 days, iteration: 330, max(|u|): 1.84e+00 ms⁻¹, wmax: 4.82e-03, loc: (303, 82, 11), wall time: 440.700 ms\n",
      "\u001b[36m\u001b[1m[ \u001b[22m\u001b[39m\u001b[36m\u001b[1mInfo: \u001b[22m\u001b[39mTime:   1.181 days, iteration: 340, max(|u|): 1.86e+00 ms⁻¹, wmax: 4.81e-03, loc: (303, 82, 11), wall time: 469.389 ms\n",
      "\u001b[36m\u001b[1m[ \u001b[22m\u001b[39m\u001b[36m\u001b[1mInfo: \u001b[22m\u001b[39mTime:   1.215 days, iteration: 350, max(|u|): 2.02e+00 ms⁻¹, wmax: 4.79e-03, loc: (303, 82, 11), wall time: 443.291 ms\n",
      "\u001b[36m\u001b[1m[ \u001b[22m\u001b[39m\u001b[36m\u001b[1mInfo: \u001b[22m\u001b[39mTime:   1.250 days, iteration: 360, max(|u|): 2.05e+00 ms⁻¹, wmax: 4.77e-03, loc: (303, 82, 11), wall time: 484.984 ms\n",
      "\u001b[36m\u001b[1m[ \u001b[22m\u001b[39m\u001b[36m\u001b[1mInfo: \u001b[22m\u001b[39mTime:   1.285 days, iteration: 370, max(|u|): 1.91e+00 ms⁻¹, wmax: 4.74e-03, loc: (303, 82, 11), wall time: 457.161 ms\n",
      "\u001b[36m\u001b[1m[ \u001b[22m\u001b[39m\u001b[36m\u001b[1mInfo: \u001b[22m\u001b[39mTime:   1.319 days, iteration: 380, max(|u|): 1.61e+00 ms⁻¹, wmax: 4.72e-03, loc: (303, 82, 11), wall time: 444.548 ms\n",
      "\u001b[36m\u001b[1m[ \u001b[22m\u001b[39m\u001b[36m\u001b[1mInfo: \u001b[22m\u001b[39mTime:   1.354 days, iteration: 390, max(|u|): 1.17e+00 ms⁻¹, wmax: 4.69e-03, loc: (303, 82, 11), wall time: 446.256 ms\n",
      "\u001b[36m\u001b[1m[ \u001b[22m\u001b[39m\u001b[36m\u001b[1mInfo: \u001b[22m\u001b[39mTime:   1.389 days, iteration: 400, max(|u|): 1.35e+00 ms⁻¹, wmax: 4.65e-03, loc: (303, 82, 11), wall time: 501.223 ms\n",
      "\u001b[36m\u001b[1m[ \u001b[22m\u001b[39m\u001b[36m\u001b[1mInfo: \u001b[22m\u001b[39mTime:   1.424 days, iteration: 410, max(|u|): 1.62e+00 ms⁻¹, wmax: 4.62e-03, loc: (303, 82, 11), wall time: 446.306 ms\n",
      "\u001b[36m\u001b[1m[ \u001b[22m\u001b[39m\u001b[36m\u001b[1mInfo: \u001b[22m\u001b[39mTime:   1.458 days, iteration: 420, max(|u|): 1.74e+00 ms⁻¹, wmax: 4.59e-03, loc: (303, 82, 11), wall time: 445.451 ms\n",
      "\u001b[36m\u001b[1m[ \u001b[22m\u001b[39m\u001b[36m\u001b[1mInfo: \u001b[22m\u001b[39mTime:   1.493 days, iteration: 430, max(|u|): 1.70e+00 ms⁻¹, wmax: 4.55e-03, loc: (303, 82, 11), wall time: 441.914 ms\n",
      "\u001b[36m\u001b[1m[ \u001b[22m\u001b[39m\u001b[36m\u001b[1mInfo: \u001b[22m\u001b[39mTime:   1.528 days, iteration: 440, max(|u|): 1.61e+00 ms⁻¹, wmax: 4.51e-03, loc: (303, 82, 11), wall time: 1.320 seconds\n",
      "\u001b[36m\u001b[1m[ \u001b[22m\u001b[39m\u001b[36m\u001b[1mInfo: \u001b[22m\u001b[39mTime:   1.562 days, iteration: 450, max(|u|): 1.56e+00 ms⁻¹, wmax: 4.47e-03, loc: (303, 82, 11), wall time: 1.692 seconds\n",
      "\u001b[36m\u001b[1m[ \u001b[22m\u001b[39m\u001b[36m\u001b[1mInfo: \u001b[22m\u001b[39mTime:   1.597 days, iteration: 460, max(|u|): 1.62e+00 ms⁻¹, wmax: 4.43e-03, loc: (303, 82, 11), wall time: 1.419 seconds\n",
      "\u001b[36m\u001b[1m[ \u001b[22m\u001b[39m\u001b[36m\u001b[1mInfo: \u001b[22m\u001b[39mTime:   1.632 days, iteration: 470, max(|u|): 1.53e+00 ms⁻¹, wmax: 4.39e-03, loc: (303, 82, 11), wall time: 707.841 ms\n",
      "\u001b[36m\u001b[1m[ \u001b[22m\u001b[39m\u001b[36m\u001b[1mInfo: \u001b[22m\u001b[39mTime:   1.667 days, iteration: 480, max(|u|): 1.31e+00 ms⁻¹, wmax: 4.35e-03, loc: (303, 82, 11), wall time: 1.604 seconds\n",
      "\u001b[36m\u001b[1m[ \u001b[22m\u001b[39m\u001b[36m\u001b[1mInfo: \u001b[22m\u001b[39mTime:   1.701 days, iteration: 490, max(|u|): 1.47e+00 ms⁻¹, wmax: 4.31e-03, loc: (303, 82, 11), wall time: 1.473 seconds\n",
      "\u001b[36m\u001b[1m[ \u001b[22m\u001b[39m\u001b[36m\u001b[1mInfo: \u001b[22m\u001b[39mTime:   1.736 days, iteration: 500, max(|u|): 1.64e+00 ms⁻¹, wmax: 4.26e-03, loc: (303, 82, 11), wall time: 1.110 seconds\n",
      "\u001b[36m\u001b[1m[ \u001b[22m\u001b[39m\u001b[36m\u001b[1mInfo: \u001b[22m\u001b[39mTime:   1.771 days, iteration: 510, max(|u|): 1.59e+00 ms⁻¹, wmax: 4.22e-03, loc: (303, 82, 11), wall time: 1.550 seconds\n",
      "\u001b[36m\u001b[1m[ \u001b[22m\u001b[39m\u001b[36m\u001b[1mInfo: \u001b[22m\u001b[39mTime:   1.806 days, iteration: 520, max(|u|): 1.43e+00 ms⁻¹, wmax: 4.18e-03, loc: (303, 82, 11), wall time: 1.479 seconds\n",
      "\u001b[36m\u001b[1m[ \u001b[22m\u001b[39m\u001b[36m\u001b[1mInfo: \u001b[22m\u001b[39mTime:   1.840 days, iteration: 530, max(|u|): 1.50e+00 ms⁻¹, wmax: 4.14e-03, loc: (303, 82, 11), wall time: 1.413 seconds\n",
      "\u001b[36m\u001b[1m[ \u001b[22m\u001b[39m\u001b[36m\u001b[1mInfo: \u001b[22m\u001b[39mTime:   1.875 days, iteration: 540, max(|u|): 1.40e+00 ms⁻¹, wmax: 4.10e-03, loc: (303, 82, 11), wall time: 1.071 seconds\n",
      "\u001b[36m\u001b[1m[ \u001b[22m\u001b[39m\u001b[36m\u001b[1mInfo: \u001b[22m\u001b[39mTime:   1.910 days, iteration: 550, max(|u|): 1.16e+00 ms⁻¹, wmax: 4.06e-03, loc: (303, 82, 11), wall time: 1.678 seconds\n",
      "\u001b[36m\u001b[1m[ \u001b[22m\u001b[39m\u001b[36m\u001b[1mInfo: \u001b[22m\u001b[39mTime:   1.944 days, iteration: 560, max(|u|): 9.40e-01 ms⁻¹, wmax: 4.02e-03, loc: (303, 82, 11), wall time: 1.694 seconds\n",
      "\u001b[36m\u001b[1m[ \u001b[22m\u001b[39m\u001b[36m\u001b[1mInfo: \u001b[22m\u001b[39mTime:   1.979 days, iteration: 570, max(|u|): 1.11e+00 ms⁻¹, wmax: 3.99e-03, loc: (303, 82, 11), wall time: 740.821 ms\n",
      "\u001b[36m\u001b[1m[ \u001b[22m\u001b[39m\u001b[36m\u001b[1mInfo: \u001b[22m\u001b[39mTime:   2.014 days, iteration: 580, max(|u|): 1.21e+00 ms⁻¹, wmax: 3.95e-03, loc: (303, 82, 11), wall time: 2.265 seconds\n",
      "\u001b[36m\u001b[1m[ \u001b[22m\u001b[39m\u001b[36m\u001b[1mInfo: \u001b[22m\u001b[39mTime:   2.049 days, iteration: 590, max(|u|): 1.13e+00 ms⁻¹, wmax: 3.92e-03, loc: (303, 82, 11), wall time: 1.423 seconds\n",
      "\u001b[36m\u001b[1m[ \u001b[22m\u001b[39m\u001b[36m\u001b[1mInfo: \u001b[22m\u001b[39mTime:   2.083 days, iteration: 600, max(|u|): 9.96e-01 ms⁻¹, wmax: 3.88e-03, loc: (303, 82, 11), wall time: 889.354 ms\n",
      "\u001b[36m\u001b[1m[ \u001b[22m\u001b[39m\u001b[36m\u001b[1mInfo: \u001b[22m\u001b[39mTime:   2.118 days, iteration: 610, max(|u|): 8.40e-01 ms⁻¹, wmax: 3.84e-03, loc: (303, 82, 11), wall time: 1.477 seconds\n",
      "\u001b[36m\u001b[1m[ \u001b[22m\u001b[39m\u001b[36m\u001b[1mInfo: \u001b[22m\u001b[39mTime:   2.153 days, iteration: 620, max(|u|): 9.64e-01 ms⁻¹, wmax: 3.81e-03, loc: (303, 82, 11), wall time: 1.720 seconds\n",
      "\u001b[36m\u001b[1m[ \u001b[22m\u001b[39m\u001b[36m\u001b[1mInfo: \u001b[22m\u001b[39mTime:   2.188 days, iteration: 630, max(|u|): 9.40e-01 ms⁻¹, wmax: 3.77e-03, loc: (303, 82, 11), wall time: 781.767 ms\n",
      "\u001b[36m\u001b[1m[ \u001b[22m\u001b[39m\u001b[36m\u001b[1mInfo: \u001b[22m\u001b[39mTime:   2.222 days, iteration: 640, max(|u|): 8.53e-01 ms⁻¹, wmax: 3.73e-03, loc: (303, 82, 11), wall time: 1.345 seconds\n",
      "\u001b[36m\u001b[1m[ \u001b[22m\u001b[39m\u001b[36m\u001b[1mInfo: \u001b[22m\u001b[39mTime:   2.257 days, iteration: 650, max(|u|): 9.65e-01 ms⁻¹, wmax: 3.69e-03, loc: (303, 82, 11), wall time: 1.682 seconds\n",
      "\u001b[36m\u001b[1m[ \u001b[22m\u001b[39m\u001b[36m\u001b[1mInfo: \u001b[22m\u001b[39mTime:   2.292 days, iteration: 660, max(|u|): 8.79e-01 ms⁻¹, wmax: 3.66e-03, loc: (303, 82, 11), wall time: 1.416 seconds\n",
      "\u001b[36m\u001b[1m[ \u001b[22m\u001b[39m\u001b[36m\u001b[1mInfo: \u001b[22m\u001b[39mTime:   2.326 days, iteration: 670, max(|u|): 9.36e-01 ms⁻¹, wmax: 3.62e-03, loc: (303, 82, 11), wall time: 995.037 ms\n",
      "\u001b[36m\u001b[1m[ \u001b[22m\u001b[39m\u001b[36m\u001b[1mInfo: \u001b[22m\u001b[39mTime:   2.361 days, iteration: 680, max(|u|): 9.27e-01 ms⁻¹, wmax: 3.58e-03, loc: (303, 82, 11), wall time: 1.613 seconds\n",
      "\u001b[36m\u001b[1m[ \u001b[22m\u001b[39m\u001b[36m\u001b[1mInfo: \u001b[22m\u001b[39mTime:   2.396 days, iteration: 690, max(|u|): 8.95e-01 ms⁻¹, wmax: 3.53e-03, loc: (303, 82, 11), wall time: 1.457 seconds\n",
      "\u001b[36m\u001b[1m[ \u001b[22m\u001b[39m\u001b[36m\u001b[1mInfo: \u001b[22m\u001b[39mTime:   2.431 days, iteration: 700, max(|u|): 8.94e-01 ms⁻¹, wmax: 3.49e-03, loc: (303, 82, 11), wall time: 807.025 ms\n",
      "\u001b[36m\u001b[1m[ \u001b[22m\u001b[39m\u001b[36m\u001b[1mInfo: \u001b[22m\u001b[39mTime:   2.465 days, iteration: 710, max(|u|): 8.60e-01 ms⁻¹, wmax: 3.45e-03, loc: (303, 82, 11), wall time: 760.442 ms\n",
      "\u001b[36m\u001b[1m[ \u001b[22m\u001b[39m\u001b[36m\u001b[1mInfo: \u001b[22m\u001b[39mTime:   2.500 days, iteration: 720, max(|u|): 8.81e-01 ms⁻¹, wmax: 3.41e-03, loc: (303, 82, 11), wall time: 1.681 seconds\n",
      "\u001b[36m\u001b[1m[ \u001b[22m\u001b[39m\u001b[36m\u001b[1mInfo: \u001b[22m\u001b[39mTime:   2.535 days, iteration: 730, max(|u|): 9.61e-01 ms⁻¹, wmax: 3.37e-03, loc: (303, 82, 11), wall time: 1.621 seconds\n",
      "\u001b[36m\u001b[1m[ \u001b[22m\u001b[39m\u001b[36m\u001b[1mInfo: \u001b[22m\u001b[39mTime:   2.569 days, iteration: 740, max(|u|): 1.04e+00 ms⁻¹, wmax: 3.33e-03, loc: (303, 82, 11), wall time: 889.971 ms\n",
      "\u001b[36m\u001b[1m[ \u001b[22m\u001b[39m\u001b[36m\u001b[1mInfo: \u001b[22m\u001b[39mTime:   2.604 days, iteration: 750, max(|u|): 1.11e+00 ms⁻¹, wmax: 3.29e-03, loc: (303, 82, 11), wall time: 1.663 seconds\n",
      "\u001b[36m\u001b[1m[ \u001b[22m\u001b[39m\u001b[36m\u001b[1mInfo: \u001b[22m\u001b[39mTime:   2.639 days, iteration: 760, max(|u|): 1.25e+00 ms⁻¹, wmax: 3.26e-03, loc: (303, 82, 11), wall time: 1.711 seconds\n",
      "\u001b[36m\u001b[1m[ \u001b[22m\u001b[39m\u001b[36m\u001b[1mInfo: \u001b[22m\u001b[39mTime:   2.674 days, iteration: 770, max(|u|): 1.23e+00 ms⁻¹, wmax: 3.22e-03, loc: (303, 82, 11), wall time: 1.136 seconds\n",
      "\u001b[36m\u001b[1m[ \u001b[22m\u001b[39m\u001b[36m\u001b[1mInfo: \u001b[22m\u001b[39mTime:   2.708 days, iteration: 780, max(|u|): 1.24e+00 ms⁻¹, wmax: 3.18e-03, loc: (303, 82, 11), wall time: 654.153 ms\n",
      "\u001b[36m\u001b[1m[ \u001b[22m\u001b[39m\u001b[36m\u001b[1mInfo: \u001b[22m\u001b[39mTime:   2.743 days, iteration: 790, max(|u|): 1.25e+00 ms⁻¹, wmax: 3.14e-03, loc: (303, 82, 11), wall time: 1.447 seconds\n",
      "\u001b[36m\u001b[1m[ \u001b[22m\u001b[39m\u001b[36m\u001b[1mInfo: \u001b[22m\u001b[39mTime:   2.778 days, iteration: 800, max(|u|): 1.24e+00 ms⁻¹, wmax: 3.11e-03, loc: (303, 82, 11), wall time: 1.711 seconds\n",
      "\u001b[36m\u001b[1m[ \u001b[22m\u001b[39m\u001b[36m\u001b[1mInfo: \u001b[22m\u001b[39mTime:   2.812 days, iteration: 810, max(|u|): 1.22e+00 ms⁻¹, wmax: 3.07e-03, loc: (303, 82, 11), wall time: 1.111 seconds\n",
      "\u001b[36m\u001b[1m[ \u001b[22m\u001b[39m\u001b[36m\u001b[1mInfo: \u001b[22m\u001b[39mTime:   2.847 days, iteration: 820, max(|u|): 1.18e+00 ms⁻¹, wmax: 3.04e-03, loc: (303, 82, 11), wall time: 1.363 seconds\n",
      "\u001b[36m\u001b[1m[ \u001b[22m\u001b[39m\u001b[36m\u001b[1mInfo: \u001b[22m\u001b[39mTime:   2.882 days, iteration: 830, max(|u|): 1.14e+00 ms⁻¹, wmax: 3.00e-03, loc: (303, 82, 11), wall time: 1.683 seconds\n",
      "\u001b[36m\u001b[1m[ \u001b[22m\u001b[39m\u001b[36m\u001b[1mInfo: \u001b[22m\u001b[39mTime:   2.917 days, iteration: 840, max(|u|): 1.12e+00 ms⁻¹, wmax: 2.97e-03, loc: (303, 82, 11), wall time: 1.441 seconds\n",
      "\u001b[36m\u001b[1m[ \u001b[22m\u001b[39m\u001b[36m\u001b[1mInfo: \u001b[22m\u001b[39mTime:   2.951 days, iteration: 850, max(|u|): 1.09e+00 ms⁻¹, wmax: 2.94e-03, loc: (303, 82, 11), wall time: 1.049 seconds\n",
      "\u001b[36m\u001b[1m[ \u001b[22m\u001b[39m\u001b[36m\u001b[1mInfo: \u001b[22m\u001b[39mTime:   2.986 days, iteration: 860, max(|u|): 1.06e+00 ms⁻¹, wmax: 2.91e-03, loc: (303, 82, 11), wall time: 1.705 seconds\n",
      "\u001b[36m\u001b[1m[ \u001b[22m\u001b[39m\u001b[36m\u001b[1mInfo: \u001b[22m\u001b[39mTime:   3.021 days, iteration: 870, max(|u|): 1.07e+00 ms⁻¹, wmax: 2.88e-03, loc: (303, 82, 11), wall time: 1.695 seconds\n",
      "\u001b[36m\u001b[1m[ \u001b[22m\u001b[39m\u001b[36m\u001b[1mInfo: \u001b[22m\u001b[39mTime:   3.056 days, iteration: 880, max(|u|): 1.13e+00 ms⁻¹, wmax: 2.86e-03, loc: (303, 82, 11), wall time: 1.546 seconds\n",
      "\u001b[36m\u001b[1m[ \u001b[22m\u001b[39m\u001b[36m\u001b[1mInfo: \u001b[22m\u001b[39mTime:   3.090 days, iteration: 890, max(|u|): 1.17e+00 ms⁻¹, wmax: 2.83e-03, loc: (303, 82, 11), wall time: 1.489 seconds\n",
      "\u001b[36m\u001b[1m[ \u001b[22m\u001b[39m\u001b[36m\u001b[1mInfo: \u001b[22m\u001b[39mTime:   3.125 days, iteration: 900, max(|u|): 1.19e+00 ms⁻¹, wmax: 2.80e-03, loc: (303, 82, 11), wall time: 1.430 seconds\n",
      "\u001b[36m\u001b[1m[ \u001b[22m\u001b[39m\u001b[36m\u001b[1mInfo: \u001b[22m\u001b[39mTime:   3.160 days, iteration: 910, max(|u|): 1.20e+00 ms⁻¹, wmax: 2.77e-03, loc: (303, 82, 11), wall time: 735.316 ms\n",
      "\u001b[36m\u001b[1m[ \u001b[22m\u001b[39m\u001b[36m\u001b[1mInfo: \u001b[22m\u001b[39mTime:   3.194 days, iteration: 920, max(|u|): 1.19e+00 ms⁻¹, wmax: 2.75e-03, loc: (303, 82, 12), wall time: 1.582 seconds\n",
      "\u001b[36m\u001b[1m[ \u001b[22m\u001b[39m\u001b[36m\u001b[1mInfo: \u001b[22m\u001b[39mTime:   3.229 days, iteration: 930, max(|u|): 1.15e+00 ms⁻¹, wmax: 2.72e-03, loc: (303, 82, 12), wall time: 1.463 seconds\n",
      "\u001b[36m\u001b[1m[ \u001b[22m\u001b[39m\u001b[36m\u001b[1mInfo: \u001b[22m\u001b[39mTime:   3.264 days, iteration: 940, max(|u|): 1.11e+00 ms⁻¹, wmax: 2.69e-03, loc: (303, 82, 12), wall time: 1.150 seconds\n",
      "\u001b[36m\u001b[1m[ \u001b[22m\u001b[39m\u001b[36m\u001b[1mInfo: \u001b[22m\u001b[39mTime:   3.299 days, iteration: 950, max(|u|): 1.05e+00 ms⁻¹, wmax: 2.67e-03, loc: (303, 82, 12), wall time: 1.333 seconds\n",
      "\u001b[36m\u001b[1m[ \u001b[22m\u001b[39m\u001b[36m\u001b[1mInfo: \u001b[22m\u001b[39mTime:   3.333 days, iteration: 960, max(|u|): 9.75e-01 ms⁻¹, wmax: 2.65e-03, loc: (303, 82, 12), wall time: 1.655 seconds\n",
      "\u001b[36m\u001b[1m[ \u001b[22m\u001b[39m\u001b[36m\u001b[1mInfo: \u001b[22m\u001b[39mTime:   3.368 days, iteration: 970, max(|u|): 8.96e-01 ms⁻¹, wmax: 2.62e-03, loc: (303, 82, 12), wall time: 1.430 seconds\n",
      "\u001b[36m\u001b[1m[ \u001b[22m\u001b[39m\u001b[36m\u001b[1mInfo: \u001b[22m\u001b[39mTime:   3.403 days, iteration: 980, max(|u|): 8.13e-01 ms⁻¹, wmax: 2.60e-03, loc: (303, 82, 12), wall time: 766.116 ms\n",
      "\u001b[36m\u001b[1m[ \u001b[22m\u001b[39m\u001b[36m\u001b[1mInfo: \u001b[22m\u001b[39mTime:   3.438 days, iteration: 990, max(|u|): 8.08e-01 ms⁻¹, wmax: 2.57e-03, loc: (303, 82, 12), wall time: 1.583 seconds\n",
      "\u001b[36m\u001b[1m[ \u001b[22m\u001b[39m\u001b[36m\u001b[1mInfo: \u001b[22m\u001b[39mTime:   3.472 days, iteration: 1000, max(|u|): 8.88e-01 ms⁻¹, wmax: 2.55e-03, loc: (303, 82, 12), wall time: 1.467 seconds\n",
      "\u001b[36m\u001b[1m[ \u001b[22m\u001b[39m\u001b[36m\u001b[1mInfo: \u001b[22m\u001b[39mTime:   3.507 days, iteration: 1010, max(|u|): 9.66e-01 ms⁻¹, wmax: 2.53e-03, loc: (303, 82, 12), wall time: 1.133 seconds\n",
      "\u001b[36m\u001b[1m[ \u001b[22m\u001b[39m\u001b[36m\u001b[1mInfo: \u001b[22m\u001b[39mTime:   3.542 days, iteration: 1020, max(|u|): 1.03e+00 ms⁻¹, wmax: 2.50e-03, loc: (303, 82, 12), wall time: 1.558 seconds\n",
      "\u001b[36m\u001b[1m[ \u001b[22m\u001b[39m\u001b[36m\u001b[1mInfo: \u001b[22m\u001b[39mTime:   3.576 days, iteration: 1030, max(|u|): 1.09e+00 ms⁻¹, wmax: 2.48e-03, loc: (303, 82, 12), wall time: 1.459 seconds\n",
      "\u001b[36m\u001b[1m[ \u001b[22m\u001b[39m\u001b[36m\u001b[1mInfo: \u001b[22m\u001b[39mTime:   3.611 days, iteration: 1040, max(|u|): 1.13e+00 ms⁻¹, wmax: 2.45e-03, loc: (303, 82, 12), wall time: 1.437 seconds\n",
      "\u001b[36m\u001b[1m[ \u001b[22m\u001b[39m\u001b[36m\u001b[1mInfo: \u001b[22m\u001b[39mTime:   3.646 days, iteration: 1050, max(|u|): 1.15e+00 ms⁻¹, wmax: 2.43e-03, loc: (303, 82, 12), wall time: 469.077 ms\n",
      "\u001b[36m\u001b[1m[ \u001b[22m\u001b[39m\u001b[36m\u001b[1mInfo: \u001b[22m\u001b[39mTime:   3.681 days, iteration: 1060, max(|u|): 1.16e+00 ms⁻¹, wmax: 2.41e-03, loc: (303, 82, 12), wall time: 459.982 ms\n",
      "\u001b[36m\u001b[1m[ \u001b[22m\u001b[39m\u001b[36m\u001b[1mInfo: \u001b[22m\u001b[39mTime:   3.715 days, iteration: 1070, max(|u|): 1.15e+00 ms⁻¹, wmax: 2.39e-03, loc: (303, 82, 12), wall time: 511.362 ms\n",
      "\u001b[36m\u001b[1m[ \u001b[22m\u001b[39m\u001b[36m\u001b[1mInfo: \u001b[22m\u001b[39mTime:   3.750 days, iteration: 1080, max(|u|): 1.14e+00 ms⁻¹, wmax: 2.36e-03, loc: (303, 82, 12), wall time: 474.782 ms\n",
      "\u001b[36m\u001b[1m[ \u001b[22m\u001b[39m\u001b[36m\u001b[1mInfo: \u001b[22m\u001b[39mTime:   3.785 days, iteration: 1090, max(|u|): 1.12e+00 ms⁻¹, wmax: 2.34e-03, loc: (303, 82, 12), wall time: 447.998 ms\n",
      "\u001b[36m\u001b[1m[ \u001b[22m\u001b[39m\u001b[36m\u001b[1mInfo: \u001b[22m\u001b[39mTime:   3.819 days, iteration: 1100, max(|u|): 1.09e+00 ms⁻¹, wmax: 2.32e-03, loc: (303, 82, 12), wall time: 464.178 ms\n",
      "\u001b[36m\u001b[1m[ \u001b[22m\u001b[39m\u001b[36m\u001b[1mInfo: \u001b[22m\u001b[39mTime:   3.854 days, iteration: 1110, max(|u|): 1.06e+00 ms⁻¹, wmax: 2.30e-03, loc: (303, 82, 12), wall time: 502.579 ms\n",
      "\u001b[36m\u001b[1m[ \u001b[22m\u001b[39m\u001b[36m\u001b[1mInfo: \u001b[22m\u001b[39mTime:   3.889 days, iteration: 1120, max(|u|): 1.03e+00 ms⁻¹, wmax: 2.28e-03, loc: (303, 82, 12), wall time: 445.350 ms\n",
      "\u001b[36m\u001b[1m[ \u001b[22m\u001b[39m\u001b[36m\u001b[1mInfo: \u001b[22m\u001b[39mTime:   3.924 days, iteration: 1130, max(|u|): 1.00e+00 ms⁻¹, wmax: 2.26e-03, loc: (303, 82, 12), wall time: 451.210 ms\n",
      "\u001b[36m\u001b[1m[ \u001b[22m\u001b[39m\u001b[36m\u001b[1mInfo: \u001b[22m\u001b[39mTime:   3.958 days, iteration: 1140, max(|u|): 9.63e-01 ms⁻¹, wmax: 2.24e-03, loc: (303, 82, 12), wall time: 449.342 ms\n",
      "\u001b[36m\u001b[1m[ \u001b[22m\u001b[39m\u001b[36m\u001b[1mInfo: \u001b[22m\u001b[39mTime:   3.993 days, iteration: 1150, max(|u|): 9.23e-01 ms⁻¹, wmax: 2.22e-03, loc: (303, 82, 12), wall time: 446.047 ms\n",
      "\u001b[36m\u001b[1m[ \u001b[22m\u001b[39m\u001b[36m\u001b[1mInfo: \u001b[22m\u001b[39mTime:   4.028 days, iteration: 1160, max(|u|): 8.79e-01 ms⁻¹, wmax: 2.20e-03, loc: (303, 82, 12), wall time: 1.204 seconds\n",
      "\u001b[36m\u001b[1m[ \u001b[22m\u001b[39m\u001b[36m\u001b[1mInfo: \u001b[22m\u001b[39mTime:   4.062 days, iteration: 1170, max(|u|): 8.32e-01 ms⁻¹, wmax: 2.18e-03, loc: (303, 82, 12), wall time: 447.379 ms\n",
      "\u001b[36m\u001b[1m[ \u001b[22m\u001b[39m\u001b[36m\u001b[1mInfo: \u001b[22m\u001b[39mTime:   4.097 days, iteration: 1180, max(|u|): 7.84e-01 ms⁻¹, wmax: 2.16e-03, loc: (303, 82, 12), wall time: 1.154 seconds\n",
      "\u001b[36m\u001b[1m[ \u001b[22m\u001b[39m\u001b[36m\u001b[1mInfo: \u001b[22m\u001b[39mTime:   4.132 days, iteration: 1190, max(|u|): 7.65e-01 ms⁻¹, wmax: 2.15e-03, loc: (303, 82, 12), wall time: 1.452 seconds\n",
      "\u001b[36m\u001b[1m[ \u001b[22m\u001b[39m\u001b[36m\u001b[1mInfo: \u001b[22m\u001b[39mTime:   4.167 days, iteration: 1200, max(|u|): 7.81e-01 ms⁻¹, wmax: 2.13e-03, loc: (303, 82, 12), wall time: 1.506 seconds\n",
      "\u001b[36m\u001b[1m[ \u001b[22m\u001b[39m\u001b[36m\u001b[1mInfo: \u001b[22m\u001b[39mTime:   4.201 days, iteration: 1210, max(|u|): 7.93e-01 ms⁻¹, wmax: 2.11e-03, loc: (303, 82, 12), wall time: 1.262 seconds\n",
      "\u001b[36m\u001b[1m[ \u001b[22m\u001b[39m\u001b[36m\u001b[1mInfo: \u001b[22m\u001b[39mTime:   4.236 days, iteration: 1220, max(|u|): 8.02e-01 ms⁻¹, wmax: 2.09e-03, loc: (303, 82, 12), wall time: 876.259 ms\n",
      "\u001b[36m\u001b[1m[ \u001b[22m\u001b[39m\u001b[36m\u001b[1mInfo: \u001b[22m\u001b[39mTime:   4.271 days, iteration: 1230, max(|u|): 8.09e-01 ms⁻¹, wmax: 2.07e-03, loc: (303, 82, 12), wall time: 1.331 seconds\n",
      "\u001b[36m\u001b[1m[ \u001b[22m\u001b[39m\u001b[36m\u001b[1mInfo: \u001b[22m\u001b[39mTime:   4.306 days, iteration: 1240, max(|u|): 8.13e-01 ms⁻¹, wmax: 2.05e-03, loc: (303, 82, 12), wall time: 1.461 seconds\n",
      "\u001b[36m\u001b[1m[ \u001b[22m\u001b[39m\u001b[36m\u001b[1mInfo: \u001b[22m\u001b[39mTime:   4.340 days, iteration: 1250, max(|u|): 8.14e-01 ms⁻¹, wmax: 2.04e-03, loc: (303, 82, 12), wall time: 1.211 seconds\n",
      "\u001b[36m\u001b[1m[ \u001b[22m\u001b[39m\u001b[36m\u001b[1mInfo: \u001b[22m\u001b[39mTime:   4.375 days, iteration: 1260, max(|u|): 8.11e-01 ms⁻¹, wmax: 2.02e-03, loc: (303, 82, 12), wall time: 1.083 seconds\n",
      "\u001b[36m\u001b[1m[ \u001b[22m\u001b[39m\u001b[36m\u001b[1mInfo: \u001b[22m\u001b[39mTime:   4.410 days, iteration: 1270, max(|u|): 8.03e-01 ms⁻¹, wmax: 2.00e-03, loc: (303, 82, 12), wall time: 1.223 seconds\n",
      "\u001b[36m\u001b[1m[ \u001b[22m\u001b[39m\u001b[36m\u001b[1mInfo: \u001b[22m\u001b[39mTime:   4.444 days, iteration: 1280, max(|u|): 7.90e-01 ms⁻¹, wmax: 1.98e-03, loc: (303, 82, 12), wall time: 1.416 seconds\n",
      "\u001b[36m\u001b[1m[ \u001b[22m\u001b[39m\u001b[36m\u001b[1mInfo: \u001b[22m\u001b[39mTime:   4.479 days, iteration: 1290, max(|u|): 7.71e-01 ms⁻¹, wmax: 1.96e-03, loc: (303, 82, 12), wall time: 1.719 seconds\n",
      "\u001b[36m\u001b[1m[ \u001b[22m\u001b[39m\u001b[36m\u001b[1mInfo: \u001b[22m\u001b[39mTime:   4.514 days, iteration: 1300, max(|u|): 7.46e-01 ms⁻¹, wmax: 1.94e-03, loc: (303, 82, 12), wall time: 814.093 ms\n",
      "\u001b[36m\u001b[1m[ \u001b[22m\u001b[39m\u001b[36m\u001b[1mInfo: \u001b[22m\u001b[39mTime:   4.549 days, iteration: 1310, max(|u|): 7.17e-01 ms⁻¹, wmax: 1.93e-03, loc: (303, 82, 12), wall time: 1.397 seconds\n",
      "\u001b[36m\u001b[1m[ \u001b[22m\u001b[39m\u001b[36m\u001b[1mInfo: \u001b[22m\u001b[39mTime:   4.583 days, iteration: 1320, max(|u|): 6.83e-01 ms⁻¹, wmax: 1.91e-03, loc: (303, 82, 12), wall time: 1.300 seconds\n",
      "\u001b[36m\u001b[1m[ \u001b[22m\u001b[39m\u001b[36m\u001b[1mInfo: \u001b[22m\u001b[39mTime:   4.618 days, iteration: 1330, max(|u|): 6.52e-01 ms⁻¹, wmax: 1.89e-03, loc: (303, 82, 12), wall time: 1.480 seconds\n",
      "\u001b[36m\u001b[1m[ \u001b[22m\u001b[39m\u001b[36m\u001b[1mInfo: \u001b[22m\u001b[39mTime:   4.653 days, iteration: 1340, max(|u|): 6.80e-01 ms⁻¹, wmax: 1.87e-03, loc: (303, 82, 12), wall time: 890.595 ms\n",
      "\u001b[36m\u001b[1m[ \u001b[22m\u001b[39m\u001b[36m\u001b[1mInfo: \u001b[22m\u001b[39mTime:   4.688 days, iteration: 1350, max(|u|): 7.08e-01 ms⁻¹, wmax: 1.86e-03, loc: (303, 82, 12), wall time: 1.054 seconds\n",
      "\u001b[36m\u001b[1m[ \u001b[22m\u001b[39m\u001b[36m\u001b[1mInfo: \u001b[22m\u001b[39mTime:   4.722 days, iteration: 1360, max(|u|): 7.36e-01 ms⁻¹, wmax: 1.84e-03, loc: (303, 82, 12), wall time: 1.485 seconds\n",
      "\u001b[36m\u001b[1m[ \u001b[22m\u001b[39m\u001b[36m\u001b[1mInfo: \u001b[22m\u001b[39mTime:   4.757 days, iteration: 1370, max(|u|): 7.63e-01 ms⁻¹, wmax: 1.82e-03, loc: (303, 82, 12), wall time: 1.544 seconds\n",
      "\u001b[36m\u001b[1m[ \u001b[22m\u001b[39m\u001b[36m\u001b[1mInfo: \u001b[22m\u001b[39mTime:   4.792 days, iteration: 1380, max(|u|): 7.87e-01 ms⁻¹, wmax: 1.80e-03, loc: (303, 82, 12), wall time: 1.173 seconds\n",
      "\u001b[36m\u001b[1m[ \u001b[22m\u001b[39m\u001b[36m\u001b[1mInfo: \u001b[22m\u001b[39mTime:   4.826 days, iteration: 1390, max(|u|): 8.06e-01 ms⁻¹, wmax: 1.79e-03, loc: (303, 82, 12), wall time: 1.082 seconds\n",
      "\u001b[36m\u001b[1m[ \u001b[22m\u001b[39m\u001b[36m\u001b[1mInfo: \u001b[22m\u001b[39mTime:   4.861 days, iteration: 1400, max(|u|): 8.21e-01 ms⁻¹, wmax: 1.77e-03, loc: (303, 82, 12), wall time: 1.468 seconds\n",
      "\u001b[36m\u001b[1m[ \u001b[22m\u001b[39m\u001b[36m\u001b[1mInfo: \u001b[22m\u001b[39mTime:   4.896 days, iteration: 1410, max(|u|): 8.29e-01 ms⁻¹, wmax: 1.75e-03, loc: (303, 82, 12), wall time: 1.540 seconds\n",
      "\u001b[36m\u001b[1m[ \u001b[22m\u001b[39m\u001b[36m\u001b[1mInfo: \u001b[22m\u001b[39mTime:   4.931 days, iteration: 1420, max(|u|): 8.31e-01 ms⁻¹, wmax: 1.74e-03, loc: (303, 82, 12), wall time: 1.140 seconds\n",
      "\u001b[36m\u001b[1m[ \u001b[22m\u001b[39m\u001b[36m\u001b[1mInfo: \u001b[22m\u001b[39mTime:   4.965 days, iteration: 1430, max(|u|): 8.26e-01 ms⁻¹, wmax: 1.72e-03, loc: (303, 82, 12), wall time: 728.090 ms\n",
      "\u001b[36m\u001b[1m[ \u001b[22m\u001b[39m\u001b[36m\u001b[1mInfo: \u001b[22m\u001b[39mSimulation is stopping after running for 9.396 minutes.\n",
      "\u001b[36m\u001b[1m[ \u001b[22m\u001b[39m\u001b[36m\u001b[1mInfo: \u001b[22m\u001b[39mSimulation time 5 days equals or exceeds stop time 5 days.\n",
      "\u001b[36m\u001b[1m[ \u001b[22m\u001b[39m\u001b[36m\u001b[1mInfo: \u001b[22m\u001b[39mTime:       5 days, iteration: 1440, max(|u|): 8.16e-01 ms⁻¹, wmax: 1.71e-03, loc: (303, 82, 12), wall time: 1.533 seconds\n",
      "\u001b[36m\u001b[1m[ \u001b[22m\u001b[39m\u001b[36m\u001b[1mInfo: \u001b[22m\u001b[39mRunning simulation with Δt = 1 hour until t = 5 days\n",
      "\u001b[36m\u001b[1m[ \u001b[22m\u001b[39m\u001b[36m\u001b[1mInfo: \u001b[22m\u001b[39mInitializing simulation...\n",
      "\u001b[36m\u001b[1m[ \u001b[22m\u001b[39m\u001b[36m\u001b[1mInfo: \u001b[22m\u001b[39m    ... simulation initialization complete (4.063 ms)\n",
      "\u001b[36m\u001b[1m[ \u001b[22m\u001b[39m\u001b[36m\u001b[1mInfo: \u001b[22m\u001b[39mExecuting initial time step...\n",
      "\u001b[36m\u001b[1m[ \u001b[22m\u001b[39m\u001b[36m\u001b[1mInfo: \u001b[22m\u001b[39m    ... initial time step complete (762.154 ms).\n",
      "\u001b[36m\u001b[1m[ \u001b[22m\u001b[39m\u001b[36m\u001b[1mInfo: \u001b[22m\u001b[39mTime:   5.417 days, iteration: 1450, max(|u|): 7.59e-01 ms⁻¹, wmax: 1.55e-03, loc: (303, 82, 11), wall time: 2.943 seconds\n",
      "\u001b[36m\u001b[1m[ \u001b[22m\u001b[39m\u001b[36m\u001b[1mInfo: \u001b[22m\u001b[39mTime:   5.833 days, iteration: 1460, max(|u|): 8.75e-01 ms⁻¹, wmax: 1.43e-03, loc: (303, 82, 11), wall time: 1.510 seconds\n",
      "\u001b[36m\u001b[1m[ \u001b[22m\u001b[39m\u001b[36m\u001b[1mInfo: \u001b[22m\u001b[39mTime:   6.250 days, iteration: 1470, max(|u|): 7.89e-01 ms⁻¹, wmax: 1.32e-03, loc: (303, 82, 11), wall time: 1.340 seconds\n",
      "\u001b[36m\u001b[1m[ \u001b[22m\u001b[39m\u001b[36m\u001b[1mInfo: \u001b[22m\u001b[39mTime:   6.667 days, iteration: 1480, max(|u|): 7.98e-01 ms⁻¹, wmax: 1.23e-03, loc: (306, 72, 7), wall time: 734.819 ms\n",
      "\u001b[36m\u001b[1m[ \u001b[22m\u001b[39m\u001b[36m\u001b[1mInfo: \u001b[22m\u001b[39mTime:   7.083 days, iteration: 1490, max(|u|): 7.87e-01 ms⁻¹, wmax: 1.23e-03, loc: (306, 72, 7), wall time: 1.291 seconds\n",
      "\u001b[36m\u001b[1m[ \u001b[22m\u001b[39m\u001b[36m\u001b[1mInfo: \u001b[22m\u001b[39mTime:   7.500 days, iteration: 1500, max(|u|): 7.31e-01 ms⁻¹, wmax: 1.23e-03, loc: (306, 72, 7), wall time: 752.635 ms\n",
      "\u001b[36m\u001b[1m[ \u001b[22m\u001b[39m\u001b[36m\u001b[1mInfo: \u001b[22m\u001b[39mTime:   7.917 days, iteration: 1510, max(|u|): 7.51e-01 ms⁻¹, wmax: 1.23e-03, loc: (306, 72, 7), wall time: 799.409 ms\n",
      "\u001b[36m\u001b[1m[ \u001b[22m\u001b[39m\u001b[36m\u001b[1mInfo: \u001b[22m\u001b[39mTime:   8.333 days, iteration: 1520, max(|u|): 7.61e-01 ms⁻¹, wmax: 1.23e-03, loc: (306, 72, 7), wall time: 1.297 seconds\n",
      "\u001b[36m\u001b[1m[ \u001b[22m\u001b[39m\u001b[36m\u001b[1mInfo: \u001b[22m\u001b[39mTime:   8.750 days, iteration: 1530, max(|u|): 7.63e-01 ms⁻¹, wmax: 1.22e-03, loc: (306, 72, 7), wall time: 736.708 ms\n",
      "\u001b[36m\u001b[1m[ \u001b[22m\u001b[39m\u001b[36m\u001b[1mInfo: \u001b[22m\u001b[39mTime:   9.167 days, iteration: 1540, max(|u|): 7.68e-01 ms⁻¹, wmax: 1.21e-03, loc: (306, 72, 7), wall time: 6.088 seconds\n",
      "\u001b[36m\u001b[1m[ \u001b[22m\u001b[39m\u001b[36m\u001b[1mInfo: \u001b[22m\u001b[39mTime:   9.583 days, iteration: 1550, max(|u|): 7.56e-01 ms⁻¹, wmax: 1.20e-03, loc: (306, 72, 7), wall time: 2.969 seconds\n",
      "\u001b[36m\u001b[1m[ \u001b[22m\u001b[39m\u001b[36m\u001b[1mInfo: \u001b[22m\u001b[39mTime:      10 days, iteration: 1560, max(|u|): 7.41e-01 ms⁻¹, wmax: 1.18e-03, loc: (306, 72, 7), wall time: 3.933 seconds\n",
      "\u001b[36m\u001b[1m[ \u001b[22m\u001b[39m\u001b[36m\u001b[1mInfo: \u001b[22m\u001b[39mTime:  10.417 days, iteration: 1570, max(|u|): 7.30e-01 ms⁻¹, wmax: 1.16e-03, loc: (306, 72, 7), wall time: 4.621 seconds\n",
      "\u001b[36m\u001b[1m[ \u001b[22m\u001b[39m\u001b[36m\u001b[1mInfo: \u001b[22m\u001b[39mTime:  10.833 days, iteration: 1580, max(|u|): 7.28e-01 ms⁻¹, wmax: 1.13e-03, loc: (306, 72, 7), wall time: 3.949 seconds\n",
      "\u001b[36m\u001b[1m[ \u001b[22m\u001b[39m\u001b[36m\u001b[1mInfo: \u001b[22m\u001b[39mTime:  11.250 days, iteration: 1590, max(|u|): 7.29e-01 ms⁻¹, wmax: 1.10e-03, loc: (306, 72, 7), wall time: 4.026 seconds\n",
      "\u001b[36m\u001b[1m[ \u001b[22m\u001b[39m\u001b[36m\u001b[1mInfo: \u001b[22m\u001b[39mTime:  11.667 days, iteration: 1600, max(|u|): 7.23e-01 ms⁻¹, wmax: 1.07e-03, loc: (306, 72, 7), wall time: 2.665 seconds\n",
      "\u001b[36m\u001b[1m[ \u001b[22m\u001b[39m\u001b[36m\u001b[1mInfo: \u001b[22m\u001b[39mTime:  12.083 days, iteration: 1610, max(|u|): 7.15e-01 ms⁻¹, wmax: 1.04e-03, loc: (306, 72, 7), wall time: 5.258 seconds\n",
      "\u001b[36m\u001b[1m[ \u001b[22m\u001b[39m\u001b[36m\u001b[1mInfo: \u001b[22m\u001b[39mTime:  12.500 days, iteration: 1620, max(|u|): 7.09e-01 ms⁻¹, wmax: 1.01e-03, loc: (306, 72, 7), wall time: 1.027 seconds\n",
      "\u001b[36m\u001b[1m[ \u001b[22m\u001b[39m\u001b[36m\u001b[1mInfo: \u001b[22m\u001b[39mTime:  12.917 days, iteration: 1630, max(|u|): 7.05e-01 ms⁻¹, wmax: 9.83e-04, loc: (306, 72, 7), wall time: 801.993 ms\n",
      "\u001b[36m\u001b[1m[ \u001b[22m\u001b[39m\u001b[36m\u001b[1mInfo: \u001b[22m\u001b[39mTime:  13.333 days, iteration: 1640, max(|u|): 7.02e-01 ms⁻¹, wmax: 9.52e-04, loc: (306, 72, 7), wall time: 1.273 seconds\n",
      "\u001b[36m\u001b[1m[ \u001b[22m\u001b[39m\u001b[36m\u001b[1mInfo: \u001b[22m\u001b[39mTime:  13.750 days, iteration: 1650, max(|u|): 6.99e-01 ms⁻¹, wmax: 9.24e-04, loc: (306, 72, 7), wall time: 764.954 ms\n",
      "\u001b[36m\u001b[1m[ \u001b[22m\u001b[39m\u001b[36m\u001b[1mInfo: \u001b[22m\u001b[39mTime:  14.167 days, iteration: 1660, max(|u|): 6.92e-01 ms⁻¹, wmax: 8.95e-04, loc: (306, 72, 7), wall time: 1.179 seconds\n",
      "\u001b[36m\u001b[1m[ \u001b[22m\u001b[39m\u001b[36m\u001b[1mInfo: \u001b[22m\u001b[39mTime:  14.583 days, iteration: 1670, max(|u|): 6.83e-01 ms⁻¹, wmax: 8.63e-04, loc: (306, 72, 7), wall time: 752.495 ms\n",
      "\u001b[36m\u001b[1m[ \u001b[22m\u001b[39m\u001b[36m\u001b[1mInfo: \u001b[22m\u001b[39mTime:      15 days, iteration: 1680, max(|u|): 6.75e-01 ms⁻¹, wmax: 8.28e-04, loc: (306, 72, 7), wall time: 1.385 seconds\n",
      "\u001b[36m\u001b[1m[ \u001b[22m\u001b[39m\u001b[36m\u001b[1mInfo: \u001b[22m\u001b[39mTime:  15.417 days, iteration: 1690, max(|u|): 6.70e-01 ms⁻¹, wmax: 7.92e-04, loc: (306, 72, 7), wall time: 2.247 seconds\n",
      "\u001b[36m\u001b[1m[ \u001b[22m\u001b[39m\u001b[36m\u001b[1mInfo: \u001b[22m\u001b[39mTime:  15.833 days, iteration: 1700, max(|u|): 6.66e-01 ms⁻¹, wmax: 7.56e-04, loc: (306, 72, 7), wall time: 4.070 seconds\n",
      "\u001b[36m\u001b[1m[ \u001b[22m\u001b[39m\u001b[36m\u001b[1mInfo: \u001b[22m\u001b[39mTime:  16.250 days, iteration: 1710, max(|u|): 6.63e-01 ms⁻¹, wmax: 7.19e-04, loc: (306, 72, 7), wall time: 4.324 seconds\n",
      "\u001b[36m\u001b[1m[ \u001b[22m\u001b[39m\u001b[36m\u001b[1mInfo: \u001b[22m\u001b[39mTime:  16.667 days, iteration: 1720, max(|u|): 6.58e-01 ms⁻¹, wmax: 6.83e-04, loc: (306, 72, 7), wall time: 2.859 seconds\n",
      "\u001b[36m\u001b[1m[ \u001b[22m\u001b[39m\u001b[36m\u001b[1mInfo: \u001b[22m\u001b[39mTime:  17.083 days, iteration: 1730, max(|u|): 6.53e-01 ms⁻¹, wmax: 6.46e-04, loc: (306, 72, 7), wall time: 4.693 seconds\n",
      "\u001b[36m\u001b[1m[ \u001b[22m\u001b[39m\u001b[36m\u001b[1mInfo: \u001b[22m\u001b[39mTime:  17.500 days, iteration: 1740, max(|u|): 6.46e-01 ms⁻¹, wmax: 6.11e-04, loc: (306, 72, 7), wall time: 3.178 seconds\n",
      "\u001b[36m\u001b[1m[ \u001b[22m\u001b[39m\u001b[36m\u001b[1mInfo: \u001b[22m\u001b[39mTime:  17.917 days, iteration: 1750, max(|u|): 6.38e-01 ms⁻¹, wmax: 5.76e-04, loc: (306, 72, 7), wall time: 4.512 seconds\n",
      "\u001b[36m\u001b[1m[ \u001b[22m\u001b[39m\u001b[36m\u001b[1mInfo: \u001b[22m\u001b[39mTime:  18.333 days, iteration: 1760, max(|u|): 6.32e-01 ms⁻¹, wmax: 5.43e-04, loc: (306, 72, 7), wall time: 4.615 seconds\n",
      "\u001b[36m\u001b[1m[ \u001b[22m\u001b[39m\u001b[36m\u001b[1mInfo: \u001b[22m\u001b[39mTime:  18.750 days, iteration: 1770, max(|u|): 6.27e-01 ms⁻¹, wmax: 5.11e-04, loc: (306, 72, 7), wall time: 2.948 seconds\n",
      "\u001b[36m\u001b[1m[ \u001b[22m\u001b[39m\u001b[36m\u001b[1mInfo: \u001b[22m\u001b[39mTime:  19.167 days, iteration: 1780, max(|u|): 6.22e-01 ms⁻¹, wmax: 4.88e-04, loc: (305, 72, 6), wall time: 1.382 seconds\n",
      "\u001b[36m\u001b[1m[ \u001b[22m\u001b[39m\u001b[36m\u001b[1mInfo: \u001b[22m\u001b[39mTime:  19.583 days, iteration: 1790, max(|u|): 6.16e-01 ms⁻¹, wmax: 4.97e-04, loc: (305, 72, 6), wall time: 770.702 ms\n",
      "\u001b[36m\u001b[1m[ \u001b[22m\u001b[39m\u001b[36m\u001b[1mInfo: \u001b[22m\u001b[39mTime:      20 days, iteration: 1800, max(|u|): 6.15e-01 ms⁻¹, wmax: 5.05e-04, loc: (305, 72, 6), wall time: 745.178 ms\n",
      "\u001b[36m\u001b[1m[ \u001b[22m\u001b[39m\u001b[36m\u001b[1mInfo: \u001b[22m\u001b[39mTime:  20.417 days, iteration: 1810, max(|u|): 6.15e-01 ms⁻¹, wmax: 5.12e-04, loc: (305, 72, 6), wall time: 1.234 seconds\n",
      "\u001b[36m\u001b[1m[ \u001b[22m\u001b[39m\u001b[36m\u001b[1mInfo: \u001b[22m\u001b[39mTime:  20.833 days, iteration: 1820, max(|u|): 6.15e-01 ms⁻¹, wmax: 5.18e-04, loc: (305, 72, 6), wall time: 739.529 ms\n",
      "\u001b[36m\u001b[1m[ \u001b[22m\u001b[39m\u001b[36m\u001b[1mInfo: \u001b[22m\u001b[39mTime:  21.250 days, iteration: 1830, max(|u|): 6.15e-01 ms⁻¹, wmax: 5.23e-04, loc: (305, 72, 6), wall time: 1.201 seconds\n",
      "\u001b[36m\u001b[1m[ \u001b[22m\u001b[39m\u001b[36m\u001b[1mInfo: \u001b[22m\u001b[39mTime:  21.667 days, iteration: 1840, max(|u|): 6.15e-01 ms⁻¹, wmax: 5.27e-04, loc: (305, 72, 6), wall time: 1.426 seconds\n",
      "\u001b[36m\u001b[1m[ \u001b[22m\u001b[39m\u001b[36m\u001b[1mInfo: \u001b[22m\u001b[39mTime:  22.083 days, iteration: 1850, max(|u|): 6.15e-01 ms⁻¹, wmax: 5.30e-04, loc: (305, 72, 6), wall time: 3.279 seconds\n",
      "\u001b[36m\u001b[1m[ \u001b[22m\u001b[39m\u001b[36m\u001b[1mInfo: \u001b[22m\u001b[39mTime:  22.500 days, iteration: 1860, max(|u|): 6.15e-01 ms⁻¹, wmax: 5.33e-04, loc: (305, 72, 6), wall time: 2.989 seconds\n",
      "\u001b[36m\u001b[1m[ \u001b[22m\u001b[39m\u001b[36m\u001b[1mInfo: \u001b[22m\u001b[39mTime:  22.917 days, iteration: 1870, max(|u|): 6.16e-01 ms⁻¹, wmax: 5.34e-04, loc: (305, 72, 6), wall time: 4.243 seconds\n",
      "\u001b[36m\u001b[1m[ \u001b[22m\u001b[39m\u001b[36m\u001b[1mInfo: \u001b[22m\u001b[39mTime:  23.333 days, iteration: 1880, max(|u|): 6.16e-01 ms⁻¹, wmax: 5.35e-04, loc: (305, 72, 6), wall time: 4.635 seconds\n",
      "\u001b[36m\u001b[1m[ \u001b[22m\u001b[39m\u001b[36m\u001b[1mInfo: \u001b[22m\u001b[39mTime:  23.750 days, iteration: 1890, max(|u|): 6.16e-01 ms⁻¹, wmax: 5.34e-04, loc: (305, 72, 6), wall time: 3.960 seconds\n",
      "\u001b[36m\u001b[1m[ \u001b[22m\u001b[39m\u001b[36m\u001b[1mInfo: \u001b[22m\u001b[39mTime:  24.167 days, iteration: 1900, max(|u|): 6.17e-01 ms⁻¹, wmax: 5.32e-04, loc: (305, 72, 6), wall time: 3.308 seconds\n",
      "\u001b[36m\u001b[1m[ \u001b[22m\u001b[39m\u001b[36m\u001b[1mInfo: \u001b[22m\u001b[39mTime:  24.583 days, iteration: 1910, max(|u|): 6.17e-01 ms⁻¹, wmax: 5.30e-04, loc: (305, 72, 6), wall time: 3.286 seconds\n",
      "\u001b[36m\u001b[1m[ \u001b[22m\u001b[39m\u001b[36m\u001b[1mInfo: \u001b[22m\u001b[39mTime:      25 days, iteration: 1920, max(|u|): 6.18e-01 ms⁻¹, wmax: 5.26e-04, loc: (305, 72, 6), wall time: 4.194 seconds\n",
      "\u001b[36m\u001b[1m[ \u001b[22m\u001b[39m\u001b[36m\u001b[1mInfo: \u001b[22m\u001b[39mTime:  25.417 days, iteration: 1930, max(|u|): 6.18e-01 ms⁻¹, wmax: 5.22e-04, loc: (305, 72, 6), wall time: 4.001 seconds\n",
      "\u001b[36m\u001b[1m[ \u001b[22m\u001b[39m\u001b[36m\u001b[1mInfo: \u001b[22m\u001b[39mTime:  25.833 days, iteration: 1940, max(|u|): 6.19e-01 ms⁻¹, wmax: 5.17e-04, loc: (305, 72, 6), wall time: 740.615 ms\n",
      "\u001b[36m\u001b[1m[ \u001b[22m\u001b[39m\u001b[36m\u001b[1mInfo: \u001b[22m\u001b[39mTime:  26.250 days, iteration: 1950, max(|u|): 6.20e-01 ms⁻¹, wmax: 5.12e-04, loc: (305, 72, 6), wall time: 1.357 seconds\n",
      "\u001b[36m\u001b[1m[ \u001b[22m\u001b[39m\u001b[36m\u001b[1mInfo: \u001b[22m\u001b[39mTime:  26.667 days, iteration: 1960, max(|u|): 6.21e-01 ms⁻¹, wmax: 5.06e-04, loc: (305, 72, 5), wall time: 745.636 ms\n",
      "\u001b[36m\u001b[1m[ \u001b[22m\u001b[39m\u001b[36m\u001b[1mInfo: \u001b[22m\u001b[39mTime:  27.083 days, iteration: 1970, max(|u|): 6.22e-01 ms⁻¹, wmax: 5.01e-04, loc: (305, 72, 5), wall time: 1.445 seconds\n",
      "\u001b[36m\u001b[1m[ \u001b[22m\u001b[39m\u001b[36m\u001b[1mInfo: \u001b[22m\u001b[39mTime:  27.500 days, iteration: 1980, max(|u|): 6.23e-01 ms⁻¹, wmax: 4.95e-04, loc: (305, 72, 5), wall time: 771.586 ms\n",
      "\u001b[36m\u001b[1m[ \u001b[22m\u001b[39m\u001b[36m\u001b[1mInfo: \u001b[22m\u001b[39mTime:  27.917 days, iteration: 1990, max(|u|): 6.24e-01 ms⁻¹, wmax: 4.89e-04, loc: (305, 72, 5), wall time: 739.086 ms\n",
      "\u001b[36m\u001b[1m[ \u001b[22m\u001b[39m\u001b[36m\u001b[1mInfo: \u001b[22m\u001b[39mTime:  28.333 days, iteration: 2000, max(|u|): 6.25e-01 ms⁻¹, wmax: 4.83e-04, loc: (305, 72, 5), wall time: 1.435 seconds\n",
      "\u001b[36m\u001b[1m[ \u001b[22m\u001b[39m\u001b[36m\u001b[1mInfo: \u001b[22m\u001b[39mTime:  28.750 days, iteration: 2010, max(|u|): 6.26e-01 ms⁻¹, wmax: 4.76e-04, loc: (305, 72, 5), wall time: 742.824 ms\n",
      "\u001b[36m\u001b[1m[ \u001b[22m\u001b[39m\u001b[36m\u001b[1mInfo: \u001b[22m\u001b[39mTime:  29.167 days, iteration: 2020, max(|u|): 6.28e-01 ms⁻¹, wmax: 4.68e-04, loc: (305, 72, 5), wall time: 1.568 seconds\n",
      "\u001b[36m\u001b[1m[ \u001b[22m\u001b[39m\u001b[36m\u001b[1mInfo: \u001b[22m\u001b[39mTime:  29.583 days, iteration: 2030, max(|u|): 6.30e-01 ms⁻¹, wmax: 4.61e-04, loc: (305, 72, 5), wall time: 4.418 seconds\n",
      "\u001b[36m\u001b[1m[ \u001b[22m\u001b[39m\u001b[36m\u001b[1mInfo: \u001b[22m\u001b[39mTime:      30 days, iteration: 2040, max(|u|): 6.31e-01 ms⁻¹, wmax: 4.53e-04, loc: (305, 72, 5), wall time: 3.199 seconds\n",
      "\u001b[36m\u001b[1m[ \u001b[22m\u001b[39m\u001b[36m\u001b[1mInfo: \u001b[22m\u001b[39mTime:  30.417 days, iteration: 2050, max(|u|): 6.32e-01 ms⁻¹, wmax: 4.45e-04, loc: (305, 72, 5), wall time: 4.268 seconds\n",
      "\u001b[36m\u001b[1m[ \u001b[22m\u001b[39m\u001b[36m\u001b[1mInfo: \u001b[22m\u001b[39mTime:  30.833 days, iteration: 2060, max(|u|): 6.32e-01 ms⁻¹, wmax: 4.36e-04, loc: (305, 72, 5), wall time: 3.397 seconds\n",
      "\u001b[36m\u001b[1m[ \u001b[22m\u001b[39m\u001b[36m\u001b[1mInfo: \u001b[22m\u001b[39mTime:  31.250 days, iteration: 2070, max(|u|): 6.31e-01 ms⁻¹, wmax: 4.28e-04, loc: (305, 72, 5), wall time: 4.515 seconds\n",
      "\u001b[36m\u001b[1m[ \u001b[22m\u001b[39m\u001b[36m\u001b[1mInfo: \u001b[22m\u001b[39mTime:  31.667 days, iteration: 2080, max(|u|): 6.32e-01 ms⁻¹, wmax: 4.19e-04, loc: (305, 72, 5), wall time: 3.245 seconds\n",
      "\u001b[36m\u001b[1m[ \u001b[22m\u001b[39m\u001b[36m\u001b[1mInfo: \u001b[22m\u001b[39mTime:  32.083 days, iteration: 2090, max(|u|): 6.32e-01 ms⁻¹, wmax: 4.10e-04, loc: (305, 72, 5), wall time: 4.252 seconds\n",
      "\u001b[36m\u001b[1m[ \u001b[22m\u001b[39m\u001b[36m\u001b[1mInfo: \u001b[22m\u001b[39mTime:  32.500 days, iteration: 2100, max(|u|): 6.32e-01 ms⁻¹, wmax: 4.02e-04, loc: (305, 72, 5), wall time: 3.388 seconds\n",
      "\u001b[36m\u001b[1m[ \u001b[22m\u001b[39m\u001b[36m\u001b[1mInfo: \u001b[22m\u001b[39mTime:  32.917 days, iteration: 2110, max(|u|): 6.32e-01 ms⁻¹, wmax: 3.93e-04, loc: (305, 72, 5), wall time: 1.927 seconds\n",
      "\u001b[36m\u001b[1m[ \u001b[22m\u001b[39m\u001b[36m\u001b[1mInfo: \u001b[22m\u001b[39mTime:  33.333 days, iteration: 2120, max(|u|): 6.31e-01 ms⁻¹, wmax: 3.84e-04, loc: (305, 72, 5), wall time: 1.766 seconds\n",
      "\u001b[36m\u001b[1m[ \u001b[22m\u001b[39m\u001b[36m\u001b[1mInfo: \u001b[22m\u001b[39mTime:  33.750 days, iteration: 2130, max(|u|): 6.31e-01 ms⁻¹, wmax: 3.76e-04, loc: (305, 72, 5), wall time: 739.928 ms\n",
      "\u001b[36m\u001b[1m[ \u001b[22m\u001b[39m\u001b[36m\u001b[1mInfo: \u001b[22m\u001b[39mTime:  34.167 days, iteration: 2140, max(|u|): 6.31e-01 ms⁻¹, wmax: 3.67e-04, loc: (305, 72, 5), wall time: 1.285 seconds\n",
      "\u001b[36m\u001b[1m[ \u001b[22m\u001b[39m\u001b[36m\u001b[1mInfo: \u001b[22m\u001b[39mTime:  34.583 days, iteration: 2150, max(|u|): 6.30e-01 ms⁻¹, wmax: 3.59e-04, loc: (305, 72, 5), wall time: 721.720 ms\n",
      "\u001b[36m\u001b[1m[ \u001b[22m\u001b[39m\u001b[36m\u001b[1mInfo: \u001b[22m\u001b[39mTime:      35 days, iteration: 2160, max(|u|): 6.31e-01 ms⁻¹, wmax: 3.51e-04, loc: (305, 72, 5), wall time: 2.520 seconds\n",
      "\u001b[36m\u001b[1m[ \u001b[22m\u001b[39m\u001b[36m\u001b[1mInfo: \u001b[22m\u001b[39mTime:  35.417 days, iteration: 2170, max(|u|): 6.31e-01 ms⁻¹, wmax: 3.42e-04, loc: (305, 72, 5), wall time: 1.361 seconds\n",
      "\u001b[36m\u001b[1m[ \u001b[22m\u001b[39m\u001b[36m\u001b[1mInfo: \u001b[22m\u001b[39mTime:  35.833 days, iteration: 2180, max(|u|): 6.30e-01 ms⁻¹, wmax: 3.34e-04, loc: (305, 72, 5), wall time: 736.762 ms\n",
      "\u001b[36m\u001b[1m[ \u001b[22m\u001b[39m\u001b[36m\u001b[1mInfo: \u001b[22m\u001b[39mTime:  36.250 days, iteration: 2190, max(|u|): 6.30e-01 ms⁻¹, wmax: 3.26e-04, loc: (305, 72, 5), wall time: 1.228 seconds\n",
      "\u001b[36m\u001b[1m[ \u001b[22m\u001b[39m\u001b[36m\u001b[1mInfo: \u001b[22m\u001b[39mTime:  36.667 days, iteration: 2200, max(|u|): 6.28e-01 ms⁻¹, wmax: 3.18e-04, loc: (305, 72, 5), wall time: 800.262 ms\n",
      "\u001b[36m\u001b[1m[ \u001b[22m\u001b[39m\u001b[36m\u001b[1mInfo: \u001b[22m\u001b[39mTime:  37.083 days, iteration: 2210, max(|u|): 6.27e-01 ms⁻¹, wmax: 3.11e-04, loc: (305, 72, 5), wall time: 1.527 seconds\n",
      "\u001b[36m\u001b[1m[ \u001b[22m\u001b[39m\u001b[36m\u001b[1mInfo: \u001b[22m\u001b[39mTime:  37.500 days, iteration: 2220, max(|u|): 6.26e-01 ms⁻¹, wmax: 3.03e-04, loc: (305, 72, 5), wall time: 813.801 ms\n",
      "\u001b[36m\u001b[1m[ \u001b[22m\u001b[39m\u001b[36m\u001b[1mInfo: \u001b[22m\u001b[39mTime:  37.917 days, iteration: 2230, max(|u|): 6.25e-01 ms⁻¹, wmax: 2.97e-04, loc: (305, 72, 4), wall time: 747.982 ms\n",
      "\u001b[36m\u001b[1m[ \u001b[22m\u001b[39m\u001b[36m\u001b[1mInfo: \u001b[22m\u001b[39mTime:  38.333 days, iteration: 2240, max(|u|): 6.24e-01 ms⁻¹, wmax: 2.92e-04, loc: (305, 72, 4), wall time: 1.217 seconds\n",
      "\u001b[36m\u001b[1m[ \u001b[22m\u001b[39m\u001b[36m\u001b[1mInfo: \u001b[22m\u001b[39mTime:  38.750 days, iteration: 2250, max(|u|): 6.23e-01 ms⁻¹, wmax: 2.87e-04, loc: (305, 72, 4), wall time: 744.004 ms\n",
      "\u001b[36m\u001b[1m[ \u001b[22m\u001b[39m\u001b[36m\u001b[1mInfo: \u001b[22m\u001b[39mTime:  39.167 days, iteration: 2260, max(|u|): 6.21e-01 ms⁻¹, wmax: 2.84e-04, loc: (304, 71, 8), wall time: 1.157 seconds\n",
      "\u001b[36m\u001b[1m[ \u001b[22m\u001b[39m\u001b[36m\u001b[1mInfo: \u001b[22m\u001b[39mTime:  39.583 days, iteration: 2270, max(|u|): 6.20e-01 ms⁻¹, wmax: 2.85e-04, loc: (304, 71, 8), wall time: 785.116 ms\n",
      "\u001b[36m\u001b[1m[ \u001b[22m\u001b[39m\u001b[36m\u001b[1mInfo: \u001b[22m\u001b[39mTime:      40 days, iteration: 2280, max(|u|): 6.18e-01 ms⁻¹, wmax: 2.86e-04, loc: (304, 71, 8), wall time: 740.068 ms\n",
      "\u001b[36m\u001b[1m[ \u001b[22m\u001b[39m\u001b[36m\u001b[1mInfo: \u001b[22m\u001b[39mTime:  40.417 days, iteration: 2290, max(|u|): 6.17e-01 ms⁻¹, wmax: 2.87e-04, loc: (304, 71, 8), wall time: 1.263 seconds\n",
      "\u001b[36m\u001b[1m[ \u001b[22m\u001b[39m\u001b[36m\u001b[1mInfo: \u001b[22m\u001b[39mTime:  40.833 days, iteration: 2300, max(|u|): 6.17e-01 ms⁻¹, wmax: 2.88e-04, loc: (304, 71, 8), wall time: 730.672 ms\n",
      "\u001b[36m\u001b[1m[ \u001b[22m\u001b[39m\u001b[36m\u001b[1mInfo: \u001b[22m\u001b[39mTime:  41.250 days, iteration: 2310, max(|u|): 6.16e-01 ms⁻¹, wmax: 2.89e-04, loc: (304, 71, 8), wall time: 1.450 seconds\n",
      "\u001b[36m\u001b[1m[ \u001b[22m\u001b[39m\u001b[36m\u001b[1mInfo: \u001b[22m\u001b[39mTime:  41.667 days, iteration: 2320, max(|u|): 6.15e-01 ms⁻¹, wmax: 2.90e-04, loc: (304, 71, 8), wall time: 2.563 seconds\n",
      "\u001b[36m\u001b[1m[ \u001b[22m\u001b[39m\u001b[36m\u001b[1mInfo: \u001b[22m\u001b[39mTime:  42.083 days, iteration: 2330, max(|u|): 6.15e-01 ms⁻¹, wmax: 2.91e-04, loc: (304, 71, 8), wall time: 3.951 seconds\n",
      "\u001b[36m\u001b[1m[ \u001b[22m\u001b[39m\u001b[36m\u001b[1mInfo: \u001b[22m\u001b[39mTime:  42.500 days, iteration: 2340, max(|u|): 6.14e-01 ms⁻¹, wmax: 2.92e-04, loc: (304, 71, 8), wall time: 3.052 seconds\n",
      "\u001b[36m\u001b[1m[ \u001b[22m\u001b[39m\u001b[36m\u001b[1mInfo: \u001b[22m\u001b[39mTime:  42.917 days, iteration: 2350, max(|u|): 6.13e-01 ms⁻¹, wmax: 2.93e-04, loc: (304, 71, 8), wall time: 4.294 seconds\n",
      "\u001b[36m\u001b[1m[ \u001b[22m\u001b[39m\u001b[36m\u001b[1mInfo: \u001b[22m\u001b[39mTime:  43.333 days, iteration: 2360, max(|u|): 6.13e-01 ms⁻¹, wmax: 2.93e-04, loc: (304, 71, 8), wall time: 4.432 seconds\n",
      "\u001b[36m\u001b[1m[ \u001b[22m\u001b[39m\u001b[36m\u001b[1mInfo: \u001b[22m\u001b[39mTime:  43.750 days, iteration: 2370, max(|u|): 6.12e-01 ms⁻¹, wmax: 2.94e-04, loc: (304, 71, 7), wall time: 4.009 seconds\n",
      "\u001b[36m\u001b[1m[ \u001b[22m\u001b[39m\u001b[36m\u001b[1mInfo: \u001b[22m\u001b[39mTime:  44.167 days, iteration: 2380, max(|u|): 6.11e-01 ms⁻¹, wmax: 2.95e-04, loc: (304, 71, 7), wall time: 3.667 seconds\n",
      "\u001b[36m\u001b[1m[ \u001b[22m\u001b[39m\u001b[36m\u001b[1mInfo: \u001b[22m\u001b[39mTime:  44.583 days, iteration: 2390, max(|u|): 6.11e-01 ms⁻¹, wmax: 2.96e-04, loc: (304, 71, 7), wall time: 2.991 seconds\n",
      "\u001b[36m\u001b[1m[ \u001b[22m\u001b[39m\u001b[36m\u001b[1mInfo: \u001b[22m\u001b[39mTime:      45 days, iteration: 2400, max(|u|): 6.10e-01 ms⁻¹, wmax: 2.97e-04, loc: (304, 71, 7), wall time: 3.526 seconds\n",
      "\u001b[36m\u001b[1m[ \u001b[22m\u001b[39m\u001b[36m\u001b[1mInfo: \u001b[22m\u001b[39mTime:  45.417 days, iteration: 2410, max(|u|): 6.09e-01 ms⁻¹, wmax: 2.98e-04, loc: (304, 71, 7), wall time: 1.417 seconds\n",
      "\u001b[36m\u001b[1m[ \u001b[22m\u001b[39m\u001b[36m\u001b[1mInfo: \u001b[22m\u001b[39mTime:  45.833 days, iteration: 2420, max(|u|): 6.09e-01 ms⁻¹, wmax: 2.99e-04, loc: (304, 71, 7), wall time: 736.778 ms\n",
      "\u001b[36m\u001b[1m[ \u001b[22m\u001b[39m\u001b[36m\u001b[1mInfo: \u001b[22m\u001b[39mTime:  46.250 days, iteration: 2430, max(|u|): 6.08e-01 ms⁻¹, wmax: 3.00e-04, loc: (304, 71, 7), wall time: 1.406 seconds\n",
      "\u001b[36m\u001b[1m[ \u001b[22m\u001b[39m\u001b[36m\u001b[1mInfo: \u001b[22m\u001b[39mTime:  46.667 days, iteration: 2440, max(|u|): 6.07e-01 ms⁻¹, wmax: 3.01e-04, loc: (304, 71, 7), wall time: 744.740 ms\n",
      "\u001b[36m\u001b[1m[ \u001b[22m\u001b[39m\u001b[36m\u001b[1mInfo: \u001b[22m\u001b[39mTime:  47.083 days, iteration: 2450, max(|u|): 6.07e-01 ms⁻¹, wmax: 3.01e-04, loc: (304, 71, 7), wall time: 1.253 seconds\n",
      "\u001b[36m\u001b[1m[ \u001b[22m\u001b[39m\u001b[36m\u001b[1mInfo: \u001b[22m\u001b[39mTime:  47.500 days, iteration: 2460, max(|u|): 6.06e-01 ms⁻¹, wmax: 3.02e-04, loc: (304, 71, 7), wall time: 739.932 ms\n",
      "\u001b[36m\u001b[1m[ \u001b[22m\u001b[39m\u001b[36m\u001b[1mInfo: \u001b[22m\u001b[39mTime:  47.917 days, iteration: 2470, max(|u|): 6.05e-01 ms⁻¹, wmax: 3.03e-04, loc: (304, 71, 7), wall time: 738.869 ms\n",
      "\u001b[36m\u001b[1m[ \u001b[22m\u001b[39m\u001b[36m\u001b[1mInfo: \u001b[22m\u001b[39mTime:  48.333 days, iteration: 2480, max(|u|): 6.04e-01 ms⁻¹, wmax: 3.04e-04, loc: (304, 71, 7), wall time: 1.331 seconds\n",
      "\u001b[36m\u001b[1m[ \u001b[22m\u001b[39m\u001b[36m\u001b[1mInfo: \u001b[22m\u001b[39mTime:  48.750 days, iteration: 2490, max(|u|): 6.03e-01 ms⁻¹, wmax: 3.05e-04, loc: (304, 71, 7), wall time: 731.851 ms\n",
      "\u001b[36m\u001b[1m[ \u001b[22m\u001b[39m\u001b[36m\u001b[1mInfo: \u001b[22m\u001b[39mTime:  49.167 days, iteration: 2500, max(|u|): 6.02e-01 ms⁻¹, wmax: 3.06e-04, loc: (304, 71, 7), wall time: 1.317 seconds\n",
      "\u001b[36m\u001b[1m[ \u001b[22m\u001b[39m\u001b[36m\u001b[1mInfo: \u001b[22m\u001b[39mTime:  49.583 days, iteration: 2510, max(|u|): 6.01e-01 ms⁻¹, wmax: 3.06e-04, loc: (304, 71, 7), wall time: 728.352 ms\n",
      "\u001b[36m\u001b[1m[ \u001b[22m\u001b[39m\u001b[36m\u001b[1mInfo: \u001b[22m\u001b[39mTime:      50 days, iteration: 2520, max(|u|): 5.99e-01 ms⁻¹, wmax: 3.07e-04, loc: (304, 71, 7), wall time: 3.817 seconds\n",
      "\u001b[36m\u001b[1m[ \u001b[22m\u001b[39m\u001b[36m\u001b[1mInfo: \u001b[22m\u001b[39mTime:  50.417 days, iteration: 2530, max(|u|): 5.98e-01 ms⁻¹, wmax: 3.08e-04, loc: (304, 71, 7), wall time: 4.685 seconds\n",
      "\u001b[36m\u001b[1m[ \u001b[22m\u001b[39m\u001b[36m\u001b[1mInfo: \u001b[22m\u001b[39mTime:  50.833 days, iteration: 2540, max(|u|): 5.97e-01 ms⁻¹, wmax: 3.08e-04, loc: (304, 71, 7), wall time: 2.194 seconds\n",
      "\u001b[36m\u001b[1m[ \u001b[22m\u001b[39m\u001b[36m\u001b[1mInfo: \u001b[22m\u001b[39mTime:  51.250 days, iteration: 2550, max(|u|): 5.96e-01 ms⁻¹, wmax: 3.09e-04, loc: (304, 71, 7), wall time: 4.557 seconds\n",
      "\u001b[36m\u001b[1m[ \u001b[22m\u001b[39m\u001b[36m\u001b[1mInfo: \u001b[22m\u001b[39mTime:  51.667 days, iteration: 2560, max(|u|): 5.94e-01 ms⁻¹, wmax: 3.09e-04, loc: (304, 71, 7), wall time: 3.387 seconds\n",
      "\u001b[36m\u001b[1m[ \u001b[22m\u001b[39m\u001b[36m\u001b[1mInfo: \u001b[22m\u001b[39mTime:  52.083 days, iteration: 2570, max(|u|): 5.93e-01 ms⁻¹, wmax: 3.09e-04, loc: (304, 71, 7), wall time: 4.246 seconds\n",
      "\u001b[36m\u001b[1m[ \u001b[22m\u001b[39m\u001b[36m\u001b[1mInfo: \u001b[22m\u001b[39mTime:  52.500 days, iteration: 2580, max(|u|): 5.92e-01 ms⁻¹, wmax: 3.10e-04, loc: (304, 71, 7), wall time: 1.398 seconds\n",
      "\u001b[36m\u001b[1m[ \u001b[22m\u001b[39m\u001b[36m\u001b[1mInfo: \u001b[22m\u001b[39mTime:  52.917 days, iteration: 2590, max(|u|): 5.91e-01 ms⁻¹, wmax: 3.10e-04, loc: (304, 71, 7), wall time: 3.900 seconds\n",
      "\u001b[36m\u001b[1m[ \u001b[22m\u001b[39m\u001b[36m\u001b[1mInfo: \u001b[22m\u001b[39mTime:  53.333 days, iteration: 2600, max(|u|): 5.90e-01 ms⁻¹, wmax: 3.10e-04, loc: (304, 71, 7), wall time: 4.378 seconds\n",
      "\u001b[36m\u001b[1m[ \u001b[22m\u001b[39m\u001b[36m\u001b[1mInfo: \u001b[22m\u001b[39mTime:  53.750 days, iteration: 2610, max(|u|): 5.89e-01 ms⁻¹, wmax: 3.10e-04, loc: (304, 71, 7), wall time: 2.211 seconds\n",
      "\u001b[36m\u001b[1m[ \u001b[22m\u001b[39m\u001b[36m\u001b[1mInfo: \u001b[22m\u001b[39mTime:  54.167 days, iteration: 2620, max(|u|): 5.88e-01 ms⁻¹, wmax: 3.10e-04, loc: (304, 71, 7), wall time: 1.262 seconds\n",
      "\u001b[36m\u001b[1m[ \u001b[22m\u001b[39m\u001b[36m\u001b[1mInfo: \u001b[22m\u001b[39mTime:  54.583 days, iteration: 2630, max(|u|): 5.87e-01 ms⁻¹, wmax: 3.10e-04, loc: (304, 71, 7), wall time: 791.673 ms\n",
      "\u001b[36m\u001b[1m[ \u001b[22m\u001b[39m\u001b[36m\u001b[1mInfo: \u001b[22m\u001b[39mSimulation is stopping after running for 4.578 minutes.\n",
      "\u001b[36m\u001b[1m[ \u001b[22m\u001b[39m\u001b[36m\u001b[1mInfo: \u001b[22m\u001b[39mSimulation time 55 days equals or exceeds stop time 55 days.\n",
      "\u001b[36m\u001b[1m[ \u001b[22m\u001b[39m\u001b[36m\u001b[1mInfo: \u001b[22m\u001b[39mTime:      55 days, iteration: 2640, max(|u|): 5.86e-01 ms⁻¹, wmax: 3.10e-04, loc: (304, 71, 7), wall time: 773.033 ms\n",
      "\u001b[36m\u001b[1m[ \u001b[22m\u001b[39m\u001b[36m\u001b[1mInfo: \u001b[22m\u001b[39mSimulation took 4.589 minutes.\n"
     ]
    }
   ],
   "source": [
    "# start with small timestep\n",
    "\n",
    "spinup = 5days\n",
    "simulation.Δt = 5minute\n",
    "stop_time = simulation.stop_time\n",
    "simulation.stop_time = time(simulation) + spinup\n",
    "\n",
    "@info \"Running spinup simulation with Δt = $(prettytime(simulation.Δt)) until t = $(prettytime(spinup))\"\n",
    "run!(simulation)\n",
    "\n",
    "\n",
    "\n",
    "# now increase timestep\n",
    "\n",
    "simulation.stop_time = start_time + stop_time - spinup\n",
    "simulation.Δt = 60minutes\n",
    "\n",
    "@info \"Running simulation with Δt = $(prettytime(simulation.Δt)) until t = $(prettytime(spinup))\"\n",
    "run!(simulation)\n",
    "\n",
    "@info \"Simulation took $(prettytime(simulation.run_wall_time)).\""
   ]
  },
  {
   "cell_type": "code",
   "execution_count": 17,
   "id": "f12e7883-7c0e-4b78-a5dd-4b0e6c281186",
   "metadata": {
    "tags": []
   },
   "outputs": [
    {
     "data": {
      "text/plain": [
       "\"output/near_global_1440_600_48_RiBasedVerticalDiffusivity_fields_surface.jld2\""
      ]
     },
     "execution_count": 17,
     "metadata": {},
     "output_type": "execute_result"
    }
   ],
   "source": [
    "# saved_output_filename = output_prefix * \"_fields_surface\" * \".jld2\"\n",
    "saved_output_filename = \"output/near_global_1440_600_48_RiBasedVerticalDiffusivity_fields_surface.jld2\""
   ]
  },
  {
   "cell_type": "code",
   "execution_count": 18,
   "id": "822db971-53ad-42e3-a36f-12e55b931d98",
   "metadata": {
    "tags": []
   },
   "outputs": [],
   "source": [
    "using Oceananigans\n",
    "using Oceananigans.Units"
   ]
  },
  {
   "cell_type": "code",
   "execution_count": 19,
   "id": "56411586-8adb-437d-8210-2c23970a5824",
   "metadata": {
    "tags": []
   },
   "outputs": [
    {
     "data": {
      "text/plain": [
       "113-element Vector{Float64}:\n",
       "      0.0\n",
       "  21600.0\n",
       "  43200.0\n",
       "  64800.0\n",
       "  86400.0\n",
       " 108000.0\n",
       " 129600.0\n",
       " 151200.0\n",
       " 172800.0\n",
       " 194400.0\n",
       " 216000.0\n",
       " 237600.0\n",
       " 259200.0\n",
       "      ⋮\n",
       "      2.1816e6\n",
       "      2.2032e6\n",
       "      2.2248e6\n",
       "      2.2464e6\n",
       "      2.268e6\n",
       "      2.2896e6\n",
       "      2.3112e6\n",
       "      2.3328e6\n",
       "      2.3544e6\n",
       "      2.376e6\n",
       "      2.3976e6\n",
       "      2.4192e6"
      ]
     },
     "execution_count": 19,
     "metadata": {},
     "output_type": "execute_result"
    }
   ],
   "source": [
    "backend = OnDisk()\n",
    "η_t = FieldTimeSeries(saved_output_filename, \"η\"; backend)\n",
    "ζ_t = FieldTimeSeries(saved_output_filename, \"ζ\"; backend)\n",
    "\n",
    "times = ζ_t.times"
   ]
  },
  {
   "cell_type": "code",
   "execution_count": 20,
   "id": "ae6aec9d-18e6-4922-adee-0997258af8a5",
   "metadata": {
    "tags": []
   },
   "outputs": [
    {
     "data": {
      "text/plain": [
       "([-180.0, -179.75, -179.5, -179.25, -179.0, -178.75, -178.5, -178.25, -178.0, -177.75  …  177.5, 177.75, 178.0, 178.25, 178.5, 178.75, 179.0, 179.25, 179.5, 179.75], [-75.0, -74.75, -74.5, -74.25, -74.0, -73.75, -73.5, -73.25, -73.0, -72.75  …  72.75, 73.0, 73.25, 73.5, 73.75, 74.0, 74.25, 74.5, 74.75, 75.0], [-5039.25, -4640.25, -4264.25, -3911.25, -3581.25, -3274.25, -2990.25, -2729.25, -2491.25, -2276.225  …  -95.095, -85.025, -75.005, -65.0, -55.0, -45.0, -35.0, -25.0, -15.0, -5.0])"
      ]
     },
     "execution_count": 20,
     "metadata": {},
     "output_type": "execute_result"
    }
   ],
   "source": [
    "λη, φη, zη = nodes(η_t[1])\n",
    "λζ, φζ, zζ = nodes(ζ_t[1])"
   ]
  },
  {
   "cell_type": "code",
   "execution_count": 21,
   "id": "46e5275e-2785-4663-a930-9a77d9f15f9c",
   "metadata": {
    "tags": []
   },
   "outputs": [],
   "source": [
    "using CairoMakie"
   ]
  },
  {
   "cell_type": "code",
   "execution_count": 22,
   "id": "10e27db1-c492-41cc-a3ad-0342e6c92926",
   "metadata": {},
   "outputs": [
    {
     "data": {
      "image/png": "[encoded data removed]"
     },
     "execution_count": 22,
     "metadata": {},
     "output_type": "execute_result"
    }
   ],
   "source": [
    "n = Observable(1)\n",
    "\n",
    "using Printf\n",
    "title = @lift @sprintf(\"t = %1.2f days\", round(times[$n]/day, digits=2))\n",
    "\n",
    "ηₙ = @lift interior(η_t[$n], :, :, 1)\n",
    "ζₙ = @lift interior(ζ_t[$n], :, :, 1)\n",
    "\n",
    "axis_kwargs = (titlesize = 20,)\n",
    "\n",
    "ηlim   = 2\n",
    "ζlim   = 1e-5\n",
    "\n",
    "fig = Figure(resolution = (1000, 900))\n",
    "\n",
    "ax_η = Axis(fig[2, 1];\n",
    "            title = \"sea surface height\", axis_kwargs...)\n",
    "\n",
    "ax_ζ = Axis(fig[3, 1];\n",
    "            title = \"vorticity\", axis_kwargs...)\n",
    "\n",
    "fig[1, :] = Label(fig, title, fontsize=24, tellwidth=false)\n",
    "\n",
    "hm_η = heatmap!(ax_η, λη, φη, ηₙ;\n",
    "                colorrange = (-ηlim, ηlim),\n",
    "                colormap = :balance)\n",
    "Colorbar(fig[2, 2], hm_η)\n",
    "\n",
    "hm_ζ = heatmap!(ax_ζ, λζ, φζ, ζₙ;\n",
    "                colorrange = (-ζlim, ζlim),\n",
    "                colormap = :balance)\n",
    "Colorbar(fig[3, 2], hm_ζ)\n",
    "\n",
    "fig"
   ]
  },
  {
   "cell_type": "code",
   "execution_count": 23,
   "id": "6369bccc-d803-4234-b757-e15ab9b8343d",
   "metadata": {
    "tags": []
   },
   "outputs": [
    {
     "name": "stderr",
     "output_type": "stream",
     "text": [
      "\u001b[36m\u001b[1m[ \u001b[22m\u001b[39m\u001b[36m\u001b[1mInfo: \u001b[22m\u001b[39mMaking a movie from saved data...\n"
     ]
    },
    {
     "name": "stdout",
     "output_type": "stream",
     "text": [
      "Plotting frame 113 of 113 \r"
     ]
    },
    {
     "data": {
      "text/plain": [
       "\"one_degree.mp4\""
      ]
     },
     "execution_count": 23,
     "metadata": {},
     "output_type": "execute_result"
    }
   ],
   "source": [
    "@info \"Making a movie from saved data...\"\n",
    "\n",
    "frames = 1:length(times)\n",
    "\n",
    "CairoMakie.record(fig, \"one_degree.mp4\", frames, framerate=24) do i\n",
    "    msg = string(\"Plotting frame \", i, \" of \", frames[end])\n",
    "    print(msg * \" \\r\")\n",
    "    n[] = i\n",
    "end"
   ]
  },
  {
   "cell_type": "code",
   "execution_count": null,
   "id": "0ddd4cb4-3a69-401b-8882-64caf5b6f703",
   "metadata": {},
   "outputs": [],
   "source": []
  }
 ],
 "metadata": {
  "kernelspec": {
   "display_name": "Julia (12 threads) 1.8.5",
   "language": "julia",
   "name": "julia-_12-threads_-1.8"
  },
  "language_info": {
   "file_extension": ".jl",
   "mimetype": "application/julia",
   "name": "julia",
   "version": "1.8.5"
  }
 },
 "nbformat": 4,
 "nbformat_minor": 5
}
