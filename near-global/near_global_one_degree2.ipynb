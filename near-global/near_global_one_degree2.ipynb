{
 "cells": [
  {
   "cell_type": "code",
   "execution_count": 1,
   "id": "dd6e2b36-6538-4360-afea-219bb981a05d",
   "metadata": {
    "tags": []
   },
   "outputs": [
    {
     "name": "stderr",
     "output_type": "stream",
     "text": [
      "\u001b[32m\u001b[1m  Activating\u001b[22m\u001b[39m project at `/g/data/v45/nc3020/Oceananigans-Tutorial-CFP/near-global`\n"
     ]
    }
   ],
   "source": [
    "cd(\"/g/data/v45/nc3020/Oceananigans-Tutorial-CFP/near-global/\")\n",
    "\n",
    "ENV[\"JULIA_DEPOT_PATH\"] = \"/g/data/v45/nc3020/.julia:/share/julia/site/\"\n",
    "ENV[\"JULIA_LOAD_PATH\"] = \"@:@v#.#:@stdlib:@site\"\n",
    "\n",
    "using Pkg; Pkg.activate(@__DIR__);"
   ]
  },
  {
   "cell_type": "code",
   "execution_count": 2,
   "id": "288d21f1-8cbd-4795-954d-c7a1e7958341",
   "metadata": {
    "tags": []
   },
   "outputs": [
    {
     "name": "stderr",
     "output_type": "stream",
     "text": [
      "\u001b[36m\u001b[1m[ \u001b[22m\u001b[39m\u001b[36m\u001b[1mInfo: \u001b[22m\u001b[39mOceananigans will use 12 threads\n",
      "\u001b[33m\u001b[1m┌ \u001b[22m\u001b[39m\u001b[33m\u001b[1mWarning: \u001b[22m\u001b[39mMultiple CUDA environment variables set to different values: /g/data/hh5/public/apps/miniconda3/envs/analysis3-22.10, /apps/cuda/11.4.1\n",
      "\u001b[33m\u001b[1m└ \u001b[22m\u001b[39m\u001b[90m@ CUDA.Deps /g/data/v45/nc3020/.julia/packages/CUDA/BbliS/deps/discovery.jl:268\u001b[39m\n"
     ]
    }
   ],
   "source": [
    "using ClimaOcean.NearGlobalSimulations: one_degree_near_global_simulation\n",
    "\n",
    "using Oceananigans\n",
    "using Oceananigans.Units\n",
    "using Oceananigans.Utils: WallTimeInterval\n",
    "using Oceananigans.BuoyancyModels: buoyancy\n",
    "using Oceananigans.Models.HydrostaticFreeSurfaceModels: VerticalVorticityField\n",
    "using JLD2"
   ]
  },
  {
   "cell_type": "code",
   "execution_count": 3,
   "id": "9b494a60-544b-4583-8e33-32ee52f83d5f",
   "metadata": {
    "tags": []
   },
   "outputs": [
    {
     "name": "stderr",
     "output_type": "stream",
     "text": [
      "\u001b[33m\u001b[1m┌ \u001b[22m\u001b[39m\u001b[33m\u001b[1mWarning: \u001b[22m\u001b[39mRiBasedVerticalDiffusivity is an experimental turbulence closure that \n",
      "\u001b[33m\u001b[1m│ \u001b[22m\u001b[39mis unvalidated and whose default parameters are not calibrated for \n",
      "\u001b[33m\u001b[1m│ \u001b[22m\u001b[39mrealistic ocean conditions or for use in a three-dimensional \n",
      "\u001b[33m\u001b[1m│ \u001b[22m\u001b[39msimulation. Use with caution and report bugs and problems with physics \n",
      "\u001b[33m\u001b[1m│ \u001b[22m\u001b[39mto https://github.com/CliMA/Oceananigans.jl/issues.\n",
      "\u001b[33m\u001b[1m└ \u001b[22m\u001b[39m\u001b[90m@ Oceananigans.TurbulenceClosures /g/data/v45/nc3020/.julia/packages/Oceananigans/KTw3g/src/TurbulenceClosures/turbulence_closure_implementations/ri_based_vertical_diffusivity.jl:83\u001b[39m\n"
     ]
    },
    {
     "data": {
      "text/plain": [
       "RiBasedVerticalDiffusivity{VerticallyImplicitTimeDiscretization}\n",
       "├── Ri_dependent_tapering: HyperbolicTangentRiDependentTapering\n",
       "├── κ₀: 0.5\n",
       "├── κᶜᵃ: 1.7\n",
       "├── Cᵉⁿ: 0.1\n",
       "├── Cᵃᵛ: 0.6\n",
       "├── Ri₀: 0.1\n",
       "└── Riᵟ: 0.4"
      ]
     },
     "execution_count": 3,
     "metadata": {},
     "output_type": "execute_result"
    }
   ],
   "source": [
    "boundary_layer_turbulence_closure = RiBasedVerticalDiffusivity()"
   ]
  },
  {
   "cell_type": "code",
   "execution_count": 7,
   "id": "3419db60-d627-4757-82f2-d1b9f765ef83",
   "metadata": {
    "tags": []
   },
   "outputs": [
    {
     "name": "stderr",
     "output_type": "stream",
     "text": [
      "\u001b[36m\u001b[1m[ \u001b[22m\u001b[39m\u001b[36m\u001b[1mInfo: \u001b[22m\u001b[39mReading initial conditions...\n",
      "\u001b[36m\u001b[1m[ \u001b[22m\u001b[39m\u001b[36m\u001b[1mInfo: \u001b[22m\u001b[39m... read initial conditions (30.832 ms)\n",
      "\u001b[36m\u001b[1m[ \u001b[22m\u001b[39m\u001b[36m\u001b[1mInfo: \u001b[22m\u001b[39mReading boundary conditions...\n",
      "\u001b[36m\u001b[1m[ \u001b[22m\u001b[39m\u001b[36m\u001b[1mInfo: \u001b[22m\u001b[39m... read boundary conditions (58.310 ms)\n",
      "\u001b[36m\u001b[1m┌ \u001b[22m\u001b[39m\u001b[36m\u001b[1mInfo: \u001b[22m\u001b[39mCreated 360×150×48 ImmersedBoundaryGrid{Float64, Periodic, Bounded, Bounded} on GPU with 5×5×5 halo:\n",
      "\u001b[36m\u001b[1m│ \u001b[22m\u001b[39m├── immersed_boundary: GridFittedBottom(min(h)=-9.02e+03, max(h)=1.00e+02)\n",
      "\u001b[36m\u001b[1m│ \u001b[22m\u001b[39m├── underlying_grid: 360×150×48 LatitudeLongitudeGrid{Float64, Periodic, Bounded, Bounded} on GPU with 5×5×5 halo and with precomputed metrics\n",
      "\u001b[36m\u001b[1m│ \u001b[22m\u001b[39m├── longitude: Periodic λ ∈ [-180.0, 180.0) regularly spaced with Δλ=1.0\n",
      "\u001b[36m\u001b[1m│ \u001b[22m\u001b[39m├── latitude:  Bounded  φ ∈ [-75.0, 75.0]   regularly spaced with Δφ=1.0\n",
      "\u001b[36m\u001b[1m└ \u001b[22m\u001b[39m└── z:         Bounded  z ∈ [-5244.5, 0.0]  variably spaced with min(Δz)=10.0, max(Δz)=410.5\n",
      "\u001b[36m\u001b[1m[ \u001b[22m\u001b[39m\u001b[36m\u001b[1mInfo: \u001b[22m\u001b[39mBuilding a model...\n",
      "\u001b[36m\u001b[1m┌ \u001b[22m\u001b[39m\u001b[36m\u001b[1mInfo: \u001b[22m\u001b[39m... built HydrostaticFreeSurfaceModel{GPU, ImmersedBoundaryGrid}(time = 0 seconds, iteration = 0)\n",
      "\u001b[36m\u001b[1m│ \u001b[22m\u001b[39m├── grid: 360×150×48 ImmersedBoundaryGrid{Float64, Periodic, Bounded, Bounded} on GPU with 5×5×5 halo\n",
      "\u001b[36m\u001b[1m│ \u001b[22m\u001b[39m├── timestepper: QuasiAdamsBashforth2TimeStepper\n",
      "\u001b[36m\u001b[1m│ \u001b[22m\u001b[39m├── tracers: (T, S)\n",
      "\u001b[36m\u001b[1m│ \u001b[22m\u001b[39m├── closure: Tuple with 4 closures:\n",
      "\u001b[36m\u001b[1m│ \u001b[22m\u001b[39m│   ├── HorizontalScalarDiffusivity{ExplicitTimeDiscretization}(ν=50000.0, κ=(T=0.0, S=0.0, e=50000.0))\n",
      "\u001b[36m\u001b[1m│ \u001b[22m\u001b[39m│   ├── RiBasedVerticalDiffusivity{VerticallyImplicitTimeDiscretization}\n",
      "\u001b[36m\u001b[1m│ \u001b[22m\u001b[39m│   ├── VerticalScalarDiffusivity{VerticallyImplicitTimeDiscretization}(ν=PiecewiseConstantVerticalDiffusivity(-49.0, 0.01, 0.0001), κ=(T=1.0e-5, S=1.0e-5))\n",
      "\u001b[36m\u001b[1m│ \u001b[22m\u001b[39m│   └── IsopycnalSkewSymmetricDiffusivity(κ_skew=900.0, κ_symmetric=900.0)\n",
      "\u001b[36m\u001b[1m│ \u001b[22m\u001b[39m├── buoyancy: SeawaterBuoyancy with g=9.80665 and BoussinesqEquationOfState{Float64} with ĝ = NegativeZDirection()\n",
      "\u001b[36m\u001b[1m│ \u001b[22m\u001b[39m├── free surface: ImplicitFreeSurface with gravitational acceleration 9.80665 m s⁻²\n",
      "\u001b[36m\u001b[1m│ \u001b[22m\u001b[39m│   └── solver: MatrixImplicitFreeSurfaceSolver\n",
      "\u001b[36m\u001b[1m└ \u001b[22m\u001b[39m└── coriolis: HydrostaticSphericalCoriolis{Oceananigans.Coriolis.ActiveCellEnstrophyConservingScheme, Float64}.\n",
      "\u001b[36m\u001b[1m[ \u001b[22m\u001b[39m\u001b[36m\u001b[1mInfo: \u001b[22m\u001b[39mModel building time: 110.930 ms\n"
     ]
    },
    {
     "data": {
      "text/plain": [
       "Simulation of HydrostaticFreeSurfaceModel{GPU, ImmersedBoundaryGrid}(time = 0 seconds, iteration = 0)\n",
       "├── Next time step: 20 minutes\n",
       "├── Elapsed wall time: 0 seconds\n",
       "├── Wall time per iteration: NaN years\n",
       "├── Stop time: 1 year\n",
       "├── Stop iteration : Inf\n",
       "├── Wall time limit: Inf\n",
       "├── Callbacks: OrderedDict with 5 entries:\n",
       "│   ├── stop_time_exceeded => Callback of stop_time_exceeded on IterationInterval(1)\n",
       "│   ├── stop_iteration_exceeded => Callback of stop_iteration_exceeded on IterationInterval(1)\n",
       "│   ├── wall_time_limit_exceeded => Callback of wall_time_limit_exceeded on IterationInterval(1)\n",
       "│   ├── nan_checker => Callback of NaNChecker for u on IterationInterval(100)\n",
       "│   └── progress => Callback of (::ClimaOcean.NearGlobalSimulations.var\"#progress#5\"{Vector{UInt64}}) on IterationInterval(10)\n",
       "├── Output writers: OrderedDict with no entries\n",
       "└── Diagnostics: OrderedDict with no entries"
      ]
     },
     "execution_count": 7,
     "metadata": {},
     "output_type": "execute_result"
    }
   ],
   "source": [
    "start_time = 0days\n",
    "stop_time  = start_time + 1years\n",
    "\n",
    "architecture = GPU()\n",
    "\n",
    "simulation = one_degree_near_global_simulation(architecture;\n",
    "                                               start_time, stop_time, boundary_layer_turbulence_closure)\n"
   ]
  },
  {
   "cell_type": "code",
   "execution_count": 8,
   "id": "ef0d8df0-5805-450f-a7ec-179df0aae5ce",
   "metadata": {
    "tags": []
   },
   "outputs": [
    {
     "data": {
      "text/plain": [
       "\"near_global_360_150_48_RiBasedVerticalDiffusivity\""
      ]
     },
     "execution_count": 8,
     "metadata": {},
     "output_type": "execute_result"
    }
   ],
   "source": [
    "# Define output\n",
    "slices_save_interval = 1day\n",
    "fields_save_interval = 30days\n",
    "Nx, Ny, Nz = size(simulation.model.grid)\n",
    "\n",
    "dir = pwd() * \"/output\"\n",
    "\n",
    "closure_name = typeof(boundary_layer_turbulence_closure).name.wrapper\n",
    "output_prefix = \"near_global_$(Nx)_$(Ny)_$(Nz)_$closure_name\""
   ]
  },
  {
   "cell_type": "code",
   "execution_count": 9,
   "id": "9ada1d36-3301-40c7-9a50-df36da3e7a94",
   "metadata": {
    "tags": []
   },
   "outputs": [
    {
     "name": "stderr",
     "output_type": "stream",
     "text": [
      "\u001b[33m\u001b[1m┌ \u001b[22m\u001b[39m\u001b[33m\u001b[1mWarning: \u001b[22m\u001b[39mmodel.closure contains a function somewhere in its hierarchy and will not be checkpointed.\n",
      "\u001b[33m\u001b[1m└ \u001b[22m\u001b[39m\u001b[90m@ Oceananigans.OutputWriters /g/data/v45/nc3020/.julia/packages/Oceananigans/KTw3g/src/OutputWriters/checkpointer.jl:86\u001b[39m\n"
     ]
    }
   ],
   "source": [
    "model = simulation.model\n",
    "\n",
    "simulation.output_writers[:checkpointer] = Checkpointer(model; dir,\n",
    "                                                        prefix = output_prefix * \"_checkpointer\",\n",
    "                                                        schedule = WallTimeInterval(10minutes),\n",
    "                                                        cleanup = true,\n",
    "                                                        overwrite_existing = true)\n",
    "\n",
    "simulation.output_writers[:fields] = JLD2OutputWriter(model, merge(model.velocities, model.tracers); dir,\n",
    "                                                      schedule = TimeInterval(slices_save_interval),\n",
    "                                                      filename = output_prefix * \"_fields\",\n",
    "                                                      with_halos = true,\n",
    "                                                      overwrite_existing = true)\n",
    "\n",
    "slice_indices = [(:, :, Nz), (:, :, Nz-10)]\n",
    "output_names = [:surface, :near_surface]\n",
    "\n",
    "for n = 1:2\n",
    "    indices = slice_indices[n]\n",
    "\n",
    "    outputs = Dict()\n",
    "\n",
    "    for name in keys(model.tracers)\n",
    "        c = model.tracers[name]\n",
    "        outputs[name] = Field(c; indices)\n",
    "    end\n",
    "\n",
    "    outputs[:u] = Field(model.velocities.u; indices)\n",
    "    outputs[:v] = Field(model.velocities.v; indices)\n",
    "    outputs[:w] = Field(model.velocities.w; indices)\n",
    "    outputs[:η] = model.free_surface.η\n",
    "    outputs[:ζ] = VerticalVorticityField(model.grid, model.velocities; indices)\n",
    "\n",
    "    name = output_names[n]\n",
    "    simulation.output_writers[name] = JLD2OutputWriter(model, outputs; dir,\n",
    "                                                       schedule = TimeInterval(slices_save_interval),\n",
    "                                                       filename = output_prefix * \"_fields_$name\",\n",
    "                                                       with_halos = true,\n",
    "                                                       overwrite_existing = true)\n",
    "end"
   ]
  },
  {
   "cell_type": "code",
   "execution_count": null,
   "id": "b15df1a2-bb64-46a1-a5bf-66c2d22b33e2",
   "metadata": {
    "tags": []
   },
   "outputs": [
    {
     "name": "stderr",
     "output_type": "stream",
     "text": [
      "\u001b[36m\u001b[1m[ \u001b[22m\u001b[39m\u001b[36m\u001b[1mInfo: \u001b[22m\u001b[39mRunning spinup simulation with Δt = 2 minutes until t = 7 days\n",
      "\u001b[36m\u001b[1m[ \u001b[22m\u001b[39m\u001b[36m\u001b[1mInfo: \u001b[22m\u001b[39mInitializing simulation...\n",
      "\u001b[36m\u001b[1m[ \u001b[22m\u001b[39m\u001b[36m\u001b[1mInfo: \u001b[22m\u001b[39mTime:    0 seconds, iteration: 0, max(|u|): 0.00e+00 ms⁻¹, wmax: 0.00e+00, loc: (1, 1, 1), wall time: 17.289 seconds\n",
      "\u001b[36m\u001b[1m[ \u001b[22m\u001b[39m\u001b[36m\u001b[1mInfo: \u001b[22m\u001b[39m    ... simulation initialization complete (30.242 seconds)\n",
      "\u001b[36m\u001b[1m[ \u001b[22m\u001b[39m\u001b[36m\u001b[1mInfo: \u001b[22m\u001b[39mExecuting initial time step...\n"
     ]
    }
   ],
   "source": [
    "# start with small timestep\n",
    "\n",
    "spinup = 7days\n",
    "simulation.Δt = 2minute\n",
    "stop_time = simulation.stop_time\n",
    "simulation.stop_time = time(simulation) + spinup\n",
    "\n",
    "@info \"Running spinup simulation with Δt = $(prettytime(simulation.Δt)) until t = $(prettytime(spinup))\"\n",
    "run!(simulation)\n",
    "\n",
    "\n",
    "\n",
    "# now increase timestep\n",
    "\n",
    "simulation.stop_time = start_time + stop_time - spinup\n",
    "simulation.Δt = 20minutes\n",
    "\n",
    "@info \"Running simulation with Δt = $(prettytime(simulation.Δt)) until t = $(prettytime(spinup))\"\n",
    "run!(simulation)\n",
    "\n",
    "@info \"Simulation took $(prettytime(simulation.run_wall_time)).\""
   ]
  },
  {
   "cell_type": "code",
   "execution_count": 37,
   "id": "f12e7883-7c0e-4b78-a5dd-4b0e6c281186",
   "metadata": {
    "tags": []
   },
   "outputs": [
    {
     "data": {
      "text/plain": [
       "\"near_global_1440_600_48_RiBasedVerticalDiffusivity_fields_surface.jld2\""
      ]
     },
     "execution_count": 37,
     "metadata": {},
     "output_type": "execute_result"
    }
   ],
   "source": [
    "saved_output_filename = output_prefix * \"_fields_surface\" * \".jld2\""
   ]
  },
  {
   "cell_type": "code",
   "execution_count": 48,
   "id": "56411586-8adb-437d-8210-2c23970a5824",
   "metadata": {
    "tags": []
   },
   "outputs": [
    {
     "ename": "InterruptException",
     "evalue": "InterruptException:",
     "output_type": "error",
     "traceback": [
      "InterruptException:",
      "",
      "Stacktrace:",
      "  [1] getindex",
      "    @ ./abstractarray.jl:1241 [inlined]",
      "  [2] macro expansion",
      "    @ ./reducedim.jl:309 [inlined]",
      "  [3] macro expansion",
      "    @ ./simdloop.jl:77 [inlined]",
      "  [4] _mapreducedim!(f::typeof(identity), op::typeof(Base.add_sum), R::SubArray{Int64, 3, Array{Int64, 3}, Tuple{UnitRange{Int64}, UnitRange{Int64}, UnitRange{Int64}}, false}, A::Oceananigans.AbstractOperations.ConditionalOperation{Center, Center, Face, Oceananigans.Fields.OneField{Int64, 3}, typeof(identity), ImmersedBoundaryGrid{Float64, Periodic, Bounded, Bounded, LatitudeLongitudeGrid{Float64, Periodic, Bounded, Bounded, OffsetArrays.OffsetVector{Float64, Vector{Float64}}, Float64, Float64, Float64, OffsetArrays.OffsetVector{Float64, Vector{Float64}}, OffsetArrays.OffsetVector{Float64, StepRangeLen{Float64, Base.TwicePrecision{Float64}, Base.TwicePrecision{Float64}, Int64}}, OffsetArrays.OffsetVector{Float64, StepRangeLen{Float64, Base.TwicePrecision{Float64}, Base.TwicePrecision{Float64}, Int64}}, OffsetArrays.OffsetVector{Float64, Vector{Float64}}, CPU}, GridFittedBottom{OffsetArrays.OffsetMatrix{Float64, Matrix{Float64}}, Oceananigans.ImmersedBoundaries.CenterImmersedCondition}, Nothing, CPU}, Oceananigans.ImmersedBoundaries.NotImmersed{typeof(Oceananigans.AbstractOperations.truefunc)}, Int64, Int64})",
      "    @ Base ./reducedim.jl:308",
      "  [5] mapreducedim!(f::Function, op::Function, R::SubArray{Int64, 3, Array{Int64, 3}, Tuple{UnitRange{Int64}, UnitRange{Int64}, UnitRange{Int64}}, false}, A::Oceananigans.AbstractOperations.ConditionalOperation{Center, Center, Face, Oceananigans.Fields.OneField{Int64, 3}, typeof(identity), ImmersedBoundaryGrid{Float64, Periodic, Bounded, Bounded, LatitudeLongitudeGrid{Float64, Periodic, Bounded, Bounded, OffsetArrays.OffsetVector{Float64, Vector{Float64}}, Float64, Float64, Float64, OffsetArrays.OffsetVector{Float64, Vector{Float64}}, OffsetArrays.OffsetVector{Float64, StepRangeLen{Float64, Base.TwicePrecision{Float64}, Base.TwicePrecision{Float64}, Int64}}, OffsetArrays.OffsetVector{Float64, StepRangeLen{Float64, Base.TwicePrecision{Float64}, Base.TwicePrecision{Float64}, Int64}}, OffsetArrays.OffsetVector{Float64, Vector{Float64}}, CPU}, GridFittedBottom{OffsetArrays.OffsetMatrix{Float64, Matrix{Float64}}, Oceananigans.ImmersedBoundaries.CenterImmersedCondition}, Nothing, CPU}, Oceananigans.ImmersedBoundaries.NotImmersed{typeof(Oceananigans.AbstractOperations.truefunc)}, Int64, Int64})",
      "    @ Base ./reducedim.jl:324",
      "  [6] #sum!#796",
      "    @ ./reducedim.jl:1018 [inlined]",
      "  [7] sum!(f::Function, r::Field{Nothing, Nothing, Nothing, Nothing, ImmersedBoundaryGrid{Float64, Periodic, Bounded, Bounded, LatitudeLongitudeGrid{Float64, Periodic, Bounded, Bounded, OffsetArrays.OffsetVector{Float64, Vector{Float64}}, Float64, Float64, Float64, OffsetArrays.OffsetVector{Float64, Vector{Float64}}, OffsetArrays.OffsetVector{Float64, StepRangeLen{Float64, Base.TwicePrecision{Float64}, Base.TwicePrecision{Float64}, Int64}}, OffsetArrays.OffsetVector{Float64, StepRangeLen{Float64, Base.TwicePrecision{Float64}, Base.TwicePrecision{Float64}, Int64}}, OffsetArrays.OffsetVector{Float64, Vector{Float64}}, CPU}, GridFittedBottom{OffsetArrays.OffsetMatrix{Float64, Matrix{Float64}}, Oceananigans.ImmersedBoundaries.CenterImmersedCondition}, Nothing, CPU}, Tuple{Colon, Colon, Colon}, OffsetArrays.OffsetArray{Int64, 3, Array{Int64, 3}}, Int64, FieldBoundaryConditions{Nothing, Nothing, Nothing, Nothing, Nothing, Nothing, BoundaryCondition{Oceananigans.BoundaryConditions.Flux, Nothing}}, Nothing, Oceananigans.Fields.FieldBoundaryBuffers{Nothing, Nothing, Nothing, Nothing}}, a::Oceananigans.AbstractOperations.ConditionalOperation{Center, Center, Face, Oceananigans.Fields.OneField{Int64, 3}, typeof(identity), ImmersedBoundaryGrid{Float64, Periodic, Bounded, Bounded, LatitudeLongitudeGrid{Float64, Periodic, Bounded, Bounded, OffsetArrays.OffsetVector{Float64, Vector{Float64}}, Float64, Float64, Float64, OffsetArrays.OffsetVector{Float64, Vector{Float64}}, OffsetArrays.OffsetVector{Float64, StepRangeLen{Float64, Base.TwicePrecision{Float64}, Base.TwicePrecision{Float64}, Int64}}, OffsetArrays.OffsetVector{Float64, StepRangeLen{Float64, Base.TwicePrecision{Float64}, Base.TwicePrecision{Float64}, Int64}}, OffsetArrays.OffsetVector{Float64, Vector{Float64}}, CPU}, GridFittedBottom{OffsetArrays.OffsetMatrix{Float64, Matrix{Float64}}, Oceananigans.ImmersedBoundaries.CenterImmersedCondition}, Nothing, CPU}, Oceananigans.ImmersedBoundaries.NotImmersed{typeof(Oceananigans.AbstractOperations.truefunc)}, Int64, Int64}; condition::Nothing, mask::Int64, kwargs::Base.Pairs{Symbol, Bool, Tuple{Symbol}, NamedTuple{(:init,), Tuple{Bool}}})",
      "    @ Oceananigans.Fields /g/data/v45/nc3020/.julia/packages/Oceananigans/KTw3g/src/Fields/field.jl:619",
      "  [8] sum(f::Function, c::Oceananigans.AbstractOperations.ConditionalOperation{Center, Center, Face, Oceananigans.Fields.OneField{Int64, 3}, typeof(identity), ImmersedBoundaryGrid{Float64, Periodic, Bounded, Bounded, LatitudeLongitudeGrid{Float64, Periodic, Bounded, Bounded, OffsetArrays.OffsetVector{Float64, Vector{Float64}}, Float64, Float64, Float64, OffsetArrays.OffsetVector{Float64, Vector{Float64}}, OffsetArrays.OffsetVector{Float64, StepRangeLen{Float64, Base.TwicePrecision{Float64}, Base.TwicePrecision{Float64}, Int64}}, OffsetArrays.OffsetVector{Float64, StepRangeLen{Float64, Base.TwicePrecision{Float64}, Base.TwicePrecision{Float64}, Int64}}, OffsetArrays.OffsetVector{Float64, Vector{Float64}}, CPU}, GridFittedBottom{OffsetArrays.OffsetMatrix{Float64, Matrix{Float64}}, Oceananigans.ImmersedBoundaries.CenterImmersedCondition}, Nothing, CPU}, Oceananigans.ImmersedBoundaries.NotImmersed{typeof(Oceananigans.AbstractOperations.truefunc)}, Int64, Int64}; condition::Nothing, mask::Int64, dims::Function)",
      "    @ Oceananigans.Fields /g/data/v45/nc3020/.julia/packages/Oceananigans/KTw3g/src/Fields/field.jl:649",
      "  [9] sum",
      "    @ /g/data/v45/nc3020/.julia/packages/Oceananigans/KTw3g/src/Fields/field.jl:638 [inlined]",
      " [10] #sum#33",
      "    @ /g/data/v45/nc3020/.julia/packages/Oceananigans/KTw3g/src/Fields/field.jl:658 [inlined]",
      " [11] sum",
      "    @ /g/data/v45/nc3020/.julia/packages/Oceananigans/KTw3g/src/Fields/field.jl:658 [inlined]",
      " [12] conditional_length",
      "    @ /g/data/v45/nc3020/.julia/packages/Oceananigans/KTw3g/src/AbstractOperations/conditional_operations.jl:109 [inlined]",
      " [13] _mean(f::Function, c::Field{Center, Center, Face, Nothing, ImmersedBoundaryGrid{Float64, Periodic, Bounded, Bounded, LatitudeLongitudeGrid{Float64, Periodic, Bounded, Bounded, OffsetArrays.OffsetVector{Float64, Vector{Float64}}, Float64, Float64, Float64, OffsetArrays.OffsetVector{Float64, Vector{Float64}}, OffsetArrays.OffsetVector{Float64, StepRangeLen{Float64, Base.TwicePrecision{Float64}, Base.TwicePrecision{Float64}, Int64}}, OffsetArrays.OffsetVector{Float64, StepRangeLen{Float64, Base.TwicePrecision{Float64}, Base.TwicePrecision{Float64}, Int64}}, OffsetArrays.OffsetVector{Float64, Vector{Float64}}, CPU}, GridFittedBottom{OffsetArrays.OffsetMatrix{Float64, Matrix{Float64}}, Oceananigans.ImmersedBoundaries.CenterImmersedCondition}, Nothing, CPU}, Tuple{Colon, Colon, UnitRange{Int64}}, OffsetArrays.OffsetArray{Float64, 3, SubArray{Float64, 3, Array{Float64, 4}, Tuple{Base.Slice{Base.OneTo{Int64}}, Base.Slice{Base.OneTo{Int64}}, Base.Slice{Base.OneTo{Int64}}, Int64}, true}}, Float64, FieldBoundaryConditions{BoundaryCondition{Oceananigans.BoundaryConditions.Periodic, Nothing}, BoundaryCondition{Oceananigans.BoundaryConditions.Periodic, Nothing}, BoundaryCondition{Oceananigans.BoundaryConditions.Flux, Nothing}, BoundaryCondition{Oceananigans.BoundaryConditions.Flux, Nothing}, Nothing, Nothing, BoundaryCondition{Oceananigans.BoundaryConditions.Flux, Nothing}}, Nothing, Oceananigans.Fields.FieldBoundaryBuffers{Nothing, Nothing, Nothing, Nothing}}, ::Colon; condition::Nothing, mask::Int64)",
      "    @ Oceananigans.Fields /g/data/v45/nc3020/.julia/packages/Oceananigans/KTw3g/src/Fields/field.jl:664",
      " [14] #mean#68",
      "    @ /g/data/v45/nc3020/.julia/packages/Oceananigans/KTw3g/src/Fields/field.jl:676 [inlined]",
      " [15] mean(fts::FieldTimeSeries{Center, Center, Face, InMemory, Tuple{Colon, Colon, UnitRange{Int64}}, OffsetArrays.OffsetArray{Float64, 4, Array{Float64, 4}}, ImmersedBoundaryGrid{Float64, Periodic, Bounded, Bounded, LatitudeLongitudeGrid{Float64, Periodic, Bounded, Bounded, OffsetArrays.OffsetVector{Float64, Vector{Float64}}, Float64, Float64, Float64, OffsetArrays.OffsetVector{Float64, Vector{Float64}}, OffsetArrays.OffsetVector{Float64, StepRangeLen{Float64, Base.TwicePrecision{Float64}, Base.TwicePrecision{Float64}, Int64}}, OffsetArrays.OffsetVector{Float64, StepRangeLen{Float64, Base.TwicePrecision{Float64}, Base.TwicePrecision{Float64}, Int64}}, OffsetArrays.OffsetVector{Float64, Vector{Float64}}, CPU}, GridFittedBottom{OffsetArrays.OffsetMatrix{Float64, Matrix{Float64}}, Oceananigans.ImmersedBoundaries.CenterImmersedCondition}, Nothing, CPU}, Float64, FieldBoundaryConditions{BoundaryCondition{Oceananigans.BoundaryConditions.Periodic, Nothing}, BoundaryCondition{Oceananigans.BoundaryConditions.Periodic, Nothing}, BoundaryCondition{Oceananigans.BoundaryConditions.Flux, Nothing}, BoundaryCondition{Oceananigans.BoundaryConditions.Flux, Nothing}, Nothing, Nothing, BoundaryCondition{Oceananigans.BoundaryConditions.Flux, Nothing}}, Vector{Float64}}; dims::Function)",
      "    @ Oceananigans.OutputReaders /g/data/v45/nc3020/.julia/packages/Oceananigans/KTw3g/src/OutputReaders/field_time_series.jl:277",
      " [16] mean",
      "    @ /g/data/v45/nc3020/.julia/packages/Oceananigans/KTw3g/src/OutputReaders/field_time_series.jl:276 [inlined]",
      " [17] data_summary(field::FieldTimeSeries{Center, Center, Face, InMemory, Tuple{Colon, Colon, UnitRange{Int64}}, OffsetArrays.OffsetArray{Float64, 4, Array{Float64, 4}}, ImmersedBoundaryGrid{Float64, Periodic, Bounded, Bounded, LatitudeLongitudeGrid{Float64, Periodic, Bounded, Bounded, OffsetArrays.OffsetVector{Float64, Vector{Float64}}, Float64, Float64, Float64, OffsetArrays.OffsetVector{Float64, Vector{Float64}}, OffsetArrays.OffsetVector{Float64, StepRangeLen{Float64, Base.TwicePrecision{Float64}, Base.TwicePrecision{Float64}, Int64}}, OffsetArrays.OffsetVector{Float64, StepRangeLen{Float64, Base.TwicePrecision{Float64}, Base.TwicePrecision{Float64}, Int64}}, OffsetArrays.OffsetVector{Float64, Vector{Float64}}, CPU}, GridFittedBottom{OffsetArrays.OffsetMatrix{Float64, Matrix{Float64}}, Oceananigans.ImmersedBoundaries.CenterImmersedCondition}, Nothing, CPU}, Float64, FieldBoundaryConditions{BoundaryCondition{Oceananigans.BoundaryConditions.Periodic, Nothing}, BoundaryCondition{Oceananigans.BoundaryConditions.Periodic, Nothing}, BoundaryCondition{Oceananigans.BoundaryConditions.Flux, Nothing}, BoundaryCondition{Oceananigans.BoundaryConditions.Flux, Nothing}, Nothing, Nothing, BoundaryCondition{Oceananigans.BoundaryConditions.Flux, Nothing}}, Vector{Float64}})",
      "    @ Oceananigans.Fields /g/data/v45/nc3020/.julia/packages/Oceananigans/KTw3g/src/Fields/show_fields.jl:27",
      " [18] field_time_series_suffix",
      "    @ /g/data/v45/nc3020/.julia/packages/Oceananigans/KTw3g/src/OutputReaders/field_time_series.jl:374 [inlined]",
      " [19] show(io::IOContext{IOBuffer}, fts::FieldTimeSeries{Center, Center, Face, InMemory, Tuple{Colon, Colon, UnitRange{Int64}}, OffsetArrays.OffsetArray{Float64, 4, Array{Float64, 4}}, ImmersedBoundaryGrid{Float64, Periodic, Bounded, Bounded, LatitudeLongitudeGrid{Float64, Periodic, Bounded, Bounded, OffsetArrays.OffsetVector{Float64, Vector{Float64}}, Float64, Float64, Float64, OffsetArrays.OffsetVector{Float64, Vector{Float64}}, OffsetArrays.OffsetVector{Float64, StepRangeLen{Float64, Base.TwicePrecision{Float64}, Base.TwicePrecision{Float64}, Int64}}, OffsetArrays.OffsetVector{Float64, StepRangeLen{Float64, Base.TwicePrecision{Float64}, Base.TwicePrecision{Float64}, Int64}}, OffsetArrays.OffsetVector{Float64, Vector{Float64}}, CPU}, GridFittedBottom{OffsetArrays.OffsetMatrix{Float64, Matrix{Float64}}, Oceananigans.ImmersedBoundaries.CenterImmersedCondition}, Nothing, CPU}, Float64, FieldBoundaryConditions{BoundaryCondition{Oceananigans.BoundaryConditions.Periodic, Nothing}, BoundaryCondition{Oceananigans.BoundaryConditions.Periodic, Nothing}, BoundaryCondition{Oceananigans.BoundaryConditions.Flux, Nothing}, BoundaryCondition{Oceananigans.BoundaryConditions.Flux, Nothing}, Nothing, Nothing, BoundaryCondition{Oceananigans.BoundaryConditions.Flux, Nothing}}, Vector{Float64}})",
      "    @ Oceananigans.OutputReaders /g/data/v45/nc3020/.julia/packages/Oceananigans/KTw3g/src/OutputReaders/field_time_series.jl:369",
      " [20] show",
      "    @ /g/data/v45/nc3020/.julia/packages/Oceananigans/KTw3g/src/Fields/show_fields.jl:60 [inlined]",
      " [21] limitstringmime(mime::MIME{Symbol(\"text/plain\")}, x::FieldTimeSeries{Center, Center, Face, InMemory, Tuple{Colon, Colon, UnitRange{Int64}}, OffsetArrays.OffsetArray{Float64, 4, Array{Float64, 4}}, ImmersedBoundaryGrid{Float64, Periodic, Bounded, Bounded, LatitudeLongitudeGrid{Float64, Periodic, Bounded, Bounded, OffsetArrays.OffsetVector{Float64, Vector{Float64}}, Float64, Float64, Float64, OffsetArrays.OffsetVector{Float64, Vector{Float64}}, OffsetArrays.OffsetVector{Float64, StepRangeLen{Float64, Base.TwicePrecision{Float64}, Base.TwicePrecision{Float64}, Int64}}, OffsetArrays.OffsetVector{Float64, StepRangeLen{Float64, Base.TwicePrecision{Float64}, Base.TwicePrecision{Float64}, Int64}}, OffsetArrays.OffsetVector{Float64, Vector{Float64}}, CPU}, GridFittedBottom{OffsetArrays.OffsetMatrix{Float64, Matrix{Float64}}, Oceananigans.ImmersedBoundaries.CenterImmersedCondition}, Nothing, CPU}, Float64, FieldBoundaryConditions{BoundaryCondition{Oceananigans.BoundaryConditions.Periodic, Nothing}, BoundaryCondition{Oceananigans.BoundaryConditions.Periodic, Nothing}, BoundaryCondition{Oceananigans.BoundaryConditions.Flux, Nothing}, BoundaryCondition{Oceananigans.BoundaryConditions.Flux, Nothing}, Nothing, Nothing, BoundaryCondition{Oceananigans.BoundaryConditions.Flux, Nothing}}, Vector{Float64}})",
      "    @ IJulia /g/data/v45/nc3020/.julia/packages/IJulia/6TIq1/src/inline.jl:43",
      " [22] display_mimestring",
      "    @ /g/data/v45/nc3020/.julia/packages/IJulia/6TIq1/src/display.jl:71 [inlined]",
      " [23] display_dict(x::FieldTimeSeries{Center, Center, Face, InMemory, Tuple{Colon, Colon, UnitRange{Int64}}, OffsetArrays.OffsetArray{Float64, 4, Array{Float64, 4}}, ImmersedBoundaryGrid{Float64, Periodic, Bounded, Bounded, LatitudeLongitudeGrid{Float64, Periodic, Bounded, Bounded, OffsetArrays.OffsetVector{Float64, Vector{Float64}}, Float64, Float64, Float64, OffsetArrays.OffsetVector{Float64, Vector{Float64}}, OffsetArrays.OffsetVector{Float64, StepRangeLen{Float64, Base.TwicePrecision{Float64}, Base.TwicePrecision{Float64}, Int64}}, OffsetArrays.OffsetVector{Float64, StepRangeLen{Float64, Base.TwicePrecision{Float64}, Base.TwicePrecision{Float64}, Int64}}, OffsetArrays.OffsetVector{Float64, Vector{Float64}}, CPU}, GridFittedBottom{OffsetArrays.OffsetMatrix{Float64, Matrix{Float64}}, Oceananigans.ImmersedBoundaries.CenterImmersedCondition}, Nothing, CPU}, Float64, FieldBoundaryConditions{BoundaryCondition{Oceananigans.BoundaryConditions.Periodic, Nothing}, BoundaryCondition{Oceananigans.BoundaryConditions.Periodic, Nothing}, BoundaryCondition{Oceananigans.BoundaryConditions.Flux, Nothing}, BoundaryCondition{Oceananigans.BoundaryConditions.Flux, Nothing}, Nothing, Nothing, BoundaryCondition{Oceananigans.BoundaryConditions.Flux, Nothing}}, Vector{Float64}})",
      "    @ IJulia /g/data/v45/nc3020/.julia/packages/IJulia/6TIq1/src/display.jl:102",
      " [24] #invokelatest#2",
      "    @ ./essentials.jl:729 [inlined]",
      " [25] invokelatest",
      "    @ ./essentials.jl:726 [inlined]",
      " [26] execute_request(socket::ZMQ.Socket, msg::IJulia.Msg)",
      "    @ IJulia /g/data/v45/nc3020/.julia/packages/IJulia/6TIq1/src/execute_request.jl:112",
      " [27] #invokelatest#2",
      "    @ ./essentials.jl:729 [inlined]",
      " [28] invokelatest",
      "    @ ./essentials.jl:726 [inlined]",
      " [29] eventloop(socket::ZMQ.Socket)",
      "    @ IJulia /g/data/v45/nc3020/.julia/packages/IJulia/6TIq1/src/eventloop.jl:8",
      " [30] (::IJulia.var\"#15#18\")()",
      "    @ IJulia ./task.jl:484"
     ]
    }
   ],
   "source": [
    "η_t = FieldTimeSeries(\"output/\" * saved_output_filename, \"η\")\n",
    "ζ_t = FieldTimeSeries(\"output/\" * saved_output_filename, \"ζ\")"
   ]
  },
  {
   "cell_type": "code",
   "execution_count": 45,
   "id": "149419cc-5847-420a-a318-323ee941838a",
   "metadata": {
    "tags": []
   },
   "outputs": [
    {
     "ename": "InterruptException",
     "evalue": "InterruptException:",
     "output_type": "error",
     "traceback": [
      "InterruptException:",
      "",
      "Stacktrace:",
      " [1] #invokelatest#2",
      "   @ ./essentials.jl:729 [inlined]",
      " [2] invokelatest",
      "   @ ./essentials.jl:726 [inlined]",
      " [3] execute_request(socket::ZMQ.Socket, msg::IJulia.Msg)",
      "   @ IJulia /g/data/v45/nc3020/.julia/packages/IJulia/6TIq1/src/execute_request.jl:112",
      " [4] #invokelatest#2",
      "   @ ./essentials.jl:729 [inlined]",
      " [5] invokelatest",
      "   @ ./essentials.jl:726 [inlined]",
      " [6] eventloop(socket::ZMQ.Socket)",
      "   @ IJulia /g/data/v45/nc3020/.julia/packages/IJulia/6TIq1/src/eventloop.jl:8",
      " [7] (::IJulia.var\"#15#18\")()",
      "   @ IJulia ./task.jl:484"
     ]
    }
   ],
   "source": [
    "size(ζ_t)"
   ]
  },
  {
   "cell_type": "code",
   "execution_count": 46,
   "id": "ae6aec9d-18e6-4922-adee-0997258af8a5",
   "metadata": {
    "tags": []
   },
   "outputs": [
    {
     "ename": "InterruptException",
     "evalue": "InterruptException:",
     "output_type": "error",
     "traceback": [
      "InterruptException:",
      "",
      "Stacktrace:",
      " [1] execute_request(socket::ZMQ.Socket, msg::IJulia.Msg)",
      "   @ IJulia /g/data/v45/nc3020/.julia/packages/IJulia/6TIq1/src/execute_request.jl:107",
      " [2] #invokelatest#2",
      "   @ ./essentials.jl:729 [inlined]",
      " [3] invokelatest",
      "   @ ./essentials.jl:726 [inlined]",
      " [4] eventloop(socket::ZMQ.Socket)",
      "   @ IJulia /g/data/v45/nc3020/.julia/packages/IJulia/6TIq1/src/eventloop.jl:8",
      " [5] (::IJulia.var\"#15#18\")()",
      "   @ IJulia ./task.jl:484"
     ]
    }
   ],
   "source": [
    "λη, φη, zη = nodes(η_t[1])\n",
    "λζ, φζ, zζ = nodes(ζ_t[1])"
   ]
  },
  {
   "cell_type": "code",
   "execution_count": 47,
   "id": "63c05fa2-0699-460a-ac29-e145c624f4ea",
   "metadata": {
    "tags": []
   },
   "outputs": [
    {
     "data": {
      "text/plain": [
       "mask_and_get_interior (generic function with 1 method)"
      ]
     },
     "execution_count": 47,
     "metadata": {},
     "output_type": "execute_result"
    }
   ],
   "source": [
    "using Oceananigans.ImmersedBoundaries: mask_immersed_field!\n",
    "\n",
    "function mask_and_get_interior(φ_t, n)\n",
    "    mask_immersed_field!(φ_t[n], NaN)\n",
    "    return interior(φ_t[n], :, :, 1)\n",
    "end"
   ]
  },
  {
   "cell_type": "code",
   "execution_count": null,
   "id": "10e27db1-c492-41cc-a3ad-0342e6c92926",
   "metadata": {},
   "outputs": [],
   "source": [
    "n = Observable(1)\n",
    "\n",
    "title = @lift @sprintf(\"t = %1.2f days = %1.2f T₂\", round(times[$n]/day, digits=2) , round(times[$n]/T₂, digits=2))\n",
    "\n",
    "ηₙ = @lift mask_and_get_interior(η_t, $n)\n",
    "ζₙ = @lift mask_and_get_interior(ζ_t, $n)\n",
    "\n",
    "axis_kwargs = (xlabel = \"x [km]\",\n",
    "               ylabel = \"z [m]\",\n",
    "               limits = ((-Lx/2e3, Lx/2e3), (-H, 0)),\n",
    "               titlesize = 20)\n",
    "\n",
    "ulim   = 0.5 * maximum(abs, u_t[end])\n",
    "wlim   = maximum(abs, w_t[end])\n",
    "\n",
    "fig = Figure(resolution = (1000, 900))\n",
    "\n",
    "ax_η = Axis(fig[2, 1];\n",
    "            title = \"sea surface height\", axis_kwargs...)\n",
    "\n",
    "ax_ζ = Axis(fig[3, 1];\n",
    "            title = \"vorticity\", axis_kwargs...)\n",
    "\n",
    "fig[1, :] = Label(fig, title, fontsize=24, tellwidth=false)\n",
    "\n",
    "hm_η = heatmap!(ax_η, λη, φη, ηₙ;\n",
    "                colorrange = (-ηlim, ηlim),\n",
    "                colormap = :balance)\n",
    "Colorbar(fig[2, 2], hm_η)\n",
    "\n",
    "hm_ζ = heatmap!(ax_ζ, λζ, φζ, ζₙ;\n",
    "                colorrange = (-ζlim, ζlim),\n",
    "                colormap = :balance)\n",
    "Colorbar(fig[3, 2], hm_ζ)\n",
    "\n",
    "fig"
   ]
  }
 ],
 "metadata": {
  "kernelspec": {
   "display_name": "Julia (12 threads) 1.8.5",
   "language": "julia",
   "name": "julia-_12-threads_-1.8"
  },
  "language_info": {
   "file_extension": ".jl",
   "mimetype": "application/julia",
   "name": "julia",
   "version": "1.8.5"
  }
 },
 "nbformat": 4,
 "nbformat_minor": 5
}
